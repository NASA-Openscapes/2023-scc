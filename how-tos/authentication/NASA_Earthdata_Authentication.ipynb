{
 "cells": [
  {
   "cell_type": "markdown",
   "id": "5fb09685-7cc9-406b-8790-90cdaa2faed4",
   "metadata": {},
   "source": [
    "# [Authentication for NASA Earthdata](https://openscapes.2i2c.cloud/hub/user-redirect/lab/tree/2022-Fall-ECOSTRESS-Cloud-Workshop/how-tos/authentication/NASA_Earthdata_Authentication.ipynb) "
   ]
  },
  {
   "cell_type": "markdown",
   "id": "6d24bb81-cb31-45b8-918a-830ff7f72dcf",
   "metadata": {},
   "source": [
    "## Summary\n",
    "This notebook creates a hidden `.netrc` file (`_netrc` for Window OS) with Earthdata login credentials in your home directory. This file is needed to access NASA Earthdata assets from a scripting environment like Python.\n",
    "\n",
    "### Earthdata Login\n",
    "\n",
    "An Earthdata Login account is required to access data, as well as discover restricted data, from the NASA Earthdata system. Thus, to access NASA data, you need Earthdata Login. Please visit <https://urs.earthdata.nasa.gov> to register and manage your Earthdata Login account. This account is free to create and only takes a moment to set up.\n",
    "\n",
    "### Authentication via netrc File\n",
    "\n",
    "You will need a netrc file containing your NASA Earthdata Login credentials in order to execute the notebooks. A netrc file can be created manually within text editor and saved to your home directory. An example of the required content is below.\n",
    "\n",
    "```text\n",
    "machine urs.earthdata.nasa.gov\n",
    "login <USERNAME>\n",
    "password <PASSWORD>\n",
    "```\n",
    "\n",
    "`<USERNAME>` and `<PASSWORD>` would be replaced by your actual Earthdata Login username and password respectively."
   ]
  },
  {
   "cell_type": "markdown",
   "id": "numerical-wilderness",
   "metadata": {},
   "source": [
    "## Import Required Packages"
   ]
  },
  {
   "cell_type": "code",
   "execution_count": 1,
   "id": "induced-shell",
   "metadata": {},
   "outputs": [],
   "source": [
    "from netrc import netrc\n",
    "from subprocess import Popen\n",
    "from platform import system\n",
    "from getpass import getpass\n",
    "import os"
   ]
  },
  {
   "cell_type": "markdown",
   "id": "dominican-carry",
   "metadata": {},
   "source": [
    "The code below will:\n",
    "\n",
    "1. check what operating system (OS) is being used to determine which netrc file to check for/create (.netrc or _netrc)\n",
    "2. check if you have an netrc file, and if so, varify if those credentials are for the Earthdata endpoint\n",
    "3. create a netrc file if a netrc file is not present."
   ]
  },
  {
   "cell_type": "code",
   "execution_count": 2,
   "id": "signal-slide",
   "metadata": {},
   "outputs": [],
   "source": [
    "urs = 'urs.earthdata.nasa.gov'    # Earthdata URL endpoint for authentication\n",
    "prompts = ['Enter NASA Earthdata Login Username: ',\n",
    "           'Enter NASA Earthdata Login Password: ']\n",
    "\n",
    "# Determine the OS (Windows machines usually use an '_netrc' file)\n",
    "netrc_name = \"_netrc\" if system()==\"Windows\" else \".netrc\"\n",
    "\n",
    "# Determine if netrc file exists, and if so, if it includes NASA Earthdata Login Credentials\n",
    "try:\n",
    "    netrcDir = os.path.expanduser(f\"~/{netrc_name}\")\n",
    "    netrc(netrcDir).authenticators(urs)[0]\n",
    "\n",
    "# Below, create a netrc file and prompt user for NASA Earthdata Login Username and Password\n",
    "except FileNotFoundError:\n",
    "    homeDir = os.path.expanduser(\"~\")\n",
    "    Popen('touch {0}{2} | echo machine {1} >> {0}{2}'.format(homeDir + os.sep, urs, netrc_name), shell=True)\n",
    "    Popen('echo login {} >> {}{}'.format(getpass(prompt=prompts[0]), homeDir + os.sep, netrc_name), shell=True)\n",
    "    Popen('echo \\'password {} \\'>> {}{}'.format(getpass(prompt=prompts[1]), homeDir + os.sep, netrc_name), shell=True)\n",
    "    # Set restrictive permissions\n",
    "    Popen('chmod 0600 {0}{1}'.format(homeDir + os.sep, netrc_name), shell=True)\n",
    "\n",
    "    # Determine OS and edit netrc file if it exists but is not set up for NASA Earthdata Login\n",
    "except TypeError:\n",
    "    homeDir = os.path.expanduser(\"~\")\n",
    "    Popen('echo machine {1} >> {0}{2}'.format(homeDir + os.sep, urs, netrc_name), shell=True)\n",
    "    Popen('echo login {} >> {}{}'.format(getpass(prompt=prompts[0]), homeDir + os.sep, netrc_name), shell=True)\n",
    "    Popen('echo \\'password {} \\'>> {}{}'.format(getpass(prompt=prompts[1]), homeDir + os.sep, netrc_name), shell=True)"
   ]
  },
  {
   "cell_type": "markdown",
   "id": "white-democracy",
   "metadata": {},
   "source": [
    "#### See if the file was created"
   ]
  },
  {
   "cell_type": "markdown",
   "id": "modern-italic",
   "metadata": {},
   "source": [
    "If the file was created, we'll see a `.netrc` file (`_netrc` for Window OS) in the list printed below. To view the contents from a Jupyter environment, click **File** on the top toolbar, select **Open from Path...**, type **.netrc**, and click **Open**. The `.netrc` file will open within the text editor. \n",
    "\n",
    "> **!!! Beware,** your password will be visible if the `.netrc` file is opened in the text editor."
   ]
  },
  {
   "cell_type": "code",
   "execution_count": 3,
   "id": "adjusted-render",
   "metadata": {},
   "outputs": [
    {
     "name": "stdout",
     "output_type": "stream",
     "text": [
      "total 128\n",
      "drwxr-xr-x 25 jovyan jovyan  6144 Nov 11 18:59  .\n",
      "drwxr-xr-x  1 root   root      20 Mar 11  2022  ..\n",
      "-rw-------  1 jovyan jovyan 12347 Nov 11 20:21  .bash_history\n",
      "drwxr-xr-x  8 jovyan jovyan  6144 Nov  8 20:16  .cache\n",
      "drwxrwsr-x  2 jovyan jovyan  6144 Apr 12  2022  .conda\n",
      "drwxr-xr-x  4 jovyan jovyan  6144 Feb 28  2022  .config\n",
      "drwx------  2 jovyan jovyan  6144 Nov 11 17:36  .git-credential-cache\n",
      "-rw-r--r--  1 jovyan jovyan    56 Nov  4 15:14  .gitconfig\n",
      "drwxr-xr-x  3 jovyan jovyan  6144 Apr 13  2022  .hidden_dir\n",
      "drwxr-xr-x  2 jovyan jovyan  6144 Nov 11 02:45  .ipynb_checkpoints\n",
      "drwxr-xr-x  5 jovyan jovyan  6144 Jul 20  2021  .ipython\n",
      "drwxr-xr-x  3 jovyan jovyan  6144 Jul 20  2021  .jupyter\n",
      "-rw-r--r--  1 jovyan jovyan     0 Jul 20  2021  .jupyter-server-log.txt\n",
      "drwxr-xr-x  3 jovyan jovyan  6144 Jul 20  2021  .local\n",
      "-rw-------  1 jovyan jovyan    73 Nov 11 18:24  .netrc\n",
      "drwx------  2 jovyan jovyan  6144 Aug  4 15:42  .ssh\n",
      "drwxr-xr-x 12 jovyan jovyan  6144 Nov 11 05:57  2022-ECOSTRESS-Cloud-Workshop\n",
      "drwxr-xr-x 13 jovyan jovyan  6144 Nov 14 05:11  2022-Fall-ECOSTRESS-Cloud-Workshop\n",
      "drwxr-xr-x 15 jovyan jovyan  6144 Nov  9 19:18  2022-Fall-ECOSTRESS-Cloud-Workshop_MJ\n",
      "drwxr-xr-x 13 jovyan jovyan  6144 Nov 11 16:43  2022-Fall-ECOSTRESS-Cloud-Workshop_mmm\n",
      "drwxr-xr-x  5 jovyan jovyan  6144 Nov 10 14:37 'Untitled Folder'\n",
      "drwxr-xr-x  5 jovyan jovyan  6144 Aug 29 15:17  appeears-cloud-optimized-format-prototype\n",
      "-rw-r--r--  1 jovyan jovyan   131 Nov 11 18:59  cookies.txt\n",
      "drwxr-xr-x 15 jovyan jovyan  6144 Mar 10  2022  earthdata-cloud-cookbook\n",
      "drwxr-xr-x  6 jovyan jovyan  6144 Apr 28  2022  lpdaac_cloud_data_access\n",
      "drwxr-xr-x  6 jovyan jovyan  6144 Oct 20  2021  lpdaac_cloud_data_access1\n",
      "drwxr-xr-x  4 jovyan jovyan  6144 Jul 20  2021  lpdaac_hls_tutorial\n",
      "drwxr-xr-x  4 jovyan jovyan  6144 Sep 19 21:29  mentors-2022\n",
      "drwxr-xr-x 27 jovyan jovyan  6144 Oct 28 01:20  shared\n",
      "drwxr-xr-x 27 jovyan jovyan  6144 Oct 28 01:20  shared-readwrite\n"
     ]
    }
   ],
   "source": [
    "!ls -al ~/"
   ]
  }
 ],
 "metadata": {
  "kernelspec": {
   "display_name": "Python 3 (ipykernel)",
   "language": "python",
   "name": "python3"
  },
  "language_info": {
   "codemirror_mode": {
    "name": "ipython",
    "version": 3
   },
   "file_extension": ".py",
   "mimetype": "text/x-python",
   "name": "python",
   "nbconvert_exporter": "python",
   "pygments_lexer": "ipython3",
   "version": "3.9.13"
  }
 },
 "nbformat": 4,
 "nbformat_minor": 5
}
