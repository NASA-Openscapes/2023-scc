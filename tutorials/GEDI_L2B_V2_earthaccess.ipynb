{
 "cells": [
  {
   "cell_type": "markdown",
   "metadata": {},
   "source": [
    "# Getting Started with GEDI L2B Version 2 Data in Python\n",
    "### This tutorial demonstrates how to work with the Canopy Cover and Vertical Profile Metrics ([GEDI02_B.002](https://doi.org/10.5067/GEDI/GEDI02_B.002)) data product.\n",
    "The Global Ecosystem Dynamics Investigation ([GEDI](https://lpdaac.usgs.gov/data/get-started-data/collection-overview/missions/gedi-overview/)) mission aims to characterize ecosystem structure and dynamics to enable radically improved quantification and understanding of the Earth's carbon cycle and biodiversity. The GEDI instrument produces high resolution laser ranging observations of the 3-dimensional structure of the Earth. GEDI is attached to the International Space Station and collects data globally between 51.6 N and 51.6 S latitudes at the highest resolution and densest sampling of any light detection and ranging (lidar) instrument in orbit to date. The Land Processes Distributed Active Archive Center (LP DAAC) distributes the GEDI Level 1 and Level 2 Version 1 and Version 2 products. The L1B and L2 GEDI products are archived and distributed in the HDF-EOS5 file format. \n"
   ]
  },
  {
   "cell_type": "markdown",
   "metadata": {},
   "source": [
    "\n",
    "## Use Case Example:  \n",
    "This tutorial was developed using an example use case for a project being completed by the National Park Service. **The goal of the project is to use GEDI L2B Version 2 data to observe tree canopy height, cover, and profile over Redwood National Park in northern California.** \n",
    "\n",
    "This tutorial will show how to use Python to open GEDI L2B Version 2 files, visualize the sub-orbit of GEDI points (shots), subset to a region of interest, visualize GEDI canopy height and vertical profile metrics, and export subsets of GEDI science dataset (SDS) layers as GeoJSON files that can be loaded into GIS and/or Remote Sensing software programs. \n",
    "\n",
    "- [Redwood National Park GeoJSON](https://github.com/nasa/GEDI-Data-Resources/Additional_files/RedwoodNP.geojson)  \n",
    "    - Contains the administrative boundary for Redwood National Park, available from: [Administrative Boundaries of National Park System Units 12/31/2017 - National Geospatial Data Asset (NGDA) NPS National Parks Dataset](https://irma.nps.gov/DataStore/DownloadFile/594958)\n",
    "\n",
    "   \n",
    "### Data Used in the Example:  \n",
    "- **GEDI L2B Canopy Cover and Vertical Profile Metrics Data Global Footprint Level - [GEDI02_B.002](https://doi.org/10.5067/GEDI/GEDI02_B.002)**  \n",
    "     - _The purpose of the L2B dataset is to extract biophysical metrics from each GEDI waveform. These metrics are based on the directional gap probability profile derived from the L1B waveform and include canopy cover, Plant Area Index (PAI), Plant Area Volume Density (PAVD) and Foliage Height Diversity (FHD)._   \n",
    "     - **Science Dataset (SDS) layers:**\n",
    "        - /geolocation/digital_elevation_model\n",
    "        - /geolocation/elev_lowestmode  \n",
    "        - /geolocation/elev_highestreturn  \n",
    "        - /geolocation/lat_lowestmode  \n",
    "        - /geolocation/lon_lowestmode  \n",
    "        - /rh100  \n",
    "        - /l2b_quality_flag  \n",
    "        - /degrade_flag  \n",
    "        - /sensitivity  \n",
    "        - /pai  \n",
    "        - /pavd_z  \n",
    "        - /geolocation/shot_number  \n",
    "        - /dz  \n",
    "        - /selected_l2a_algorithm\n",
    "\n",
    "# Topics Covered:\n",
    "1. **Get Started**\n",
    "    1.1 Import Packages    \n",
    "    1.2 Set Up the Working Environment and Retrieve Files   \n",
    "    1.3 Authentication      \n",
    "2. **Search for GEDI Granules**  \n",
    "3. **Import and Interpret Data**       \n",
    "    3.1 Open a GEDI HDF5 File and Read File Metadata     \n",
    "    3.2 Read SDS Metadata and Subset by Beam   \n",
    "4. **Visualize a GEDI Sub-Orbit**    \n",
    "    4.1 Subset by Layer and Create a Geodataframe   \n",
    "    4.2 Visualize a Geodataframe\n",
    "5. **Work with GEDI L2B Data**        \n",
    "    5.1 Import and Extract PAVD   \n",
    "    5.2 Visualize PAVD    \n",
    "6. **Work with GEDI L2B Beam Transects**        \n",
    "    6.1 Quality Filtering        \n",
    "    6.2 Plot Beam Transects  \n",
    "    6.3 Subset Beam Transects  \n",
    "7. **Plot Profile Transects**      \n",
    "    7.1 Plot PAVD Transects  \n",
    "8. **Spatial Visualization**      \n",
    "    8.1 Import, Subset, and Quality Filter all Beams  \n",
    "    8.2 Spatial Subsetting  \n",
    "    8.3 Visualize All Beams: Canopy Height, Elevation, and PAI  \n",
    "9. **Export Subsets as GeoJSON Files**     \n",
    "\n",
    "## Source Code used to Generate this Tutorial:\n",
    "The repository containing all of the required files is located at: https://github.com/nasa/GEDI-Data-Resources      \n",
    "  \n",
    "<div class=\"alert alert-block alert-warning\" >\n",
    "<b>NOTE:</b> This tutorial was developed for GEDI L2B Version 2 HDF-EOS5 files and should only be used for that product. </div>   "
   ]
  },
  {
   "cell_type": "markdown",
   "metadata": {},
   "source": [
    "\n",
    "# 1. Get Started <a id=\"getstarted\"></a>"
   ]
  },
  {
   "cell_type": "markdown",
   "metadata": {},
   "source": [
    "## 1.1 Import Packages <a id=\"1.1\"></a>\n",
    "#### Import the required packages and set the input/working directory to run this Jupyter Notebook locally."
   ]
  },
  {
   "cell_type": "code",
   "execution_count": 1,
   "metadata": {
    "tags": []
   },
   "outputs": [
    {
     "data": {
      "application/javascript": [
       "(function(root) {\n",
       "  function now() {\n",
       "    return new Date();\n",
       "  }\n",
       "\n",
       "  var force = true;\n",
       "  var py_version = '3.2.2'.replace('rc', '-rc.').replace('.dev', '-dev.');\n",
       "  var is_dev = py_version.indexOf(\"+\") !== -1 || py_version.indexOf(\"-\") !== -1;\n",
       "  var reloading = false;\n",
       "  var Bokeh = root.Bokeh;\n",
       "  var bokeh_loaded = Bokeh != null && (Bokeh.version === py_version || (Bokeh.versions !== undefined && Bokeh.versions.has(py_version)));\n",
       "\n",
       "  if (typeof (root._bokeh_timeout) === \"undefined\" || force) {\n",
       "    root._bokeh_timeout = Date.now() + 5000;\n",
       "    root._bokeh_failed_load = false;\n",
       "  }\n",
       "\n",
       "  function run_callbacks() {\n",
       "    try {\n",
       "      root._bokeh_onload_callbacks.forEach(function(callback) {\n",
       "        if (callback != null)\n",
       "          callback();\n",
       "      });\n",
       "    } finally {\n",
       "      delete root._bokeh_onload_callbacks;\n",
       "    }\n",
       "    console.debug(\"Bokeh: all callbacks have finished\");\n",
       "  }\n",
       "\n",
       "  function load_libs(css_urls, js_urls, js_modules, js_exports, callback) {\n",
       "    if (css_urls == null) css_urls = [];\n",
       "    if (js_urls == null) js_urls = [];\n",
       "    if (js_modules == null) js_modules = [];\n",
       "    if (js_exports == null) js_exports = {};\n",
       "\n",
       "    root._bokeh_onload_callbacks.push(callback);\n",
       "\n",
       "    if (root._bokeh_is_loading > 0) {\n",
       "      console.debug(\"Bokeh: BokehJS is being loaded, scheduling callback at\", now());\n",
       "      return null;\n",
       "    }\n",
       "    if (js_urls.length === 0 && js_modules.length === 0 && Object.keys(js_exports).length === 0) {\n",
       "      run_callbacks();\n",
       "      return null;\n",
       "    }\n",
       "    if (!reloading) {\n",
       "      console.debug(\"Bokeh: BokehJS not loaded, scheduling load and callback at\", now());\n",
       "    }\n",
       "\n",
       "    function on_load() {\n",
       "      root._bokeh_is_loading--;\n",
       "      if (root._bokeh_is_loading === 0) {\n",
       "        console.debug(\"Bokeh: all BokehJS libraries/stylesheets loaded\");\n",
       "        run_callbacks()\n",
       "      }\n",
       "    }\n",
       "    window._bokeh_on_load = on_load\n",
       "\n",
       "    function on_error() {\n",
       "      console.error(\"failed to load \" + url);\n",
       "    }\n",
       "\n",
       "    var skip = [];\n",
       "    if (window.requirejs) {\n",
       "      window.requirejs.config({'packages': {}, 'paths': {'jspanel': 'https://cdn.jsdelivr.net/npm/jspanel4@4.12.0/dist/jspanel', 'jspanel-modal': 'https://cdn.jsdelivr.net/npm/jspanel4@4.12.0/dist/extensions/modal/jspanel.modal', 'jspanel-tooltip': 'https://cdn.jsdelivr.net/npm/jspanel4@4.12.0/dist/extensions/tooltip/jspanel.tooltip', 'jspanel-hint': 'https://cdn.jsdelivr.net/npm/jspanel4@4.12.0/dist/extensions/hint/jspanel.hint', 'jspanel-layout': 'https://cdn.jsdelivr.net/npm/jspanel4@4.12.0/dist/extensions/layout/jspanel.layout', 'jspanel-contextmenu': 'https://cdn.jsdelivr.net/npm/jspanel4@4.12.0/dist/extensions/contextmenu/jspanel.contextmenu', 'jspanel-dock': 'https://cdn.jsdelivr.net/npm/jspanel4@4.12.0/dist/extensions/dock/jspanel.dock', 'gridstack': 'https://cdn.jsdelivr.net/npm/gridstack@7.2.3/dist/gridstack-all', 'notyf': 'https://cdn.jsdelivr.net/npm/notyf@3/notyf.min'}, 'shim': {'jspanel': {'exports': 'jsPanel'}, 'gridstack': {'exports': 'GridStack'}}});\n",
       "      require([\"jspanel\"], function(jsPanel) {\n",
       "\twindow.jsPanel = jsPanel\n",
       "\ton_load()\n",
       "      })\n",
       "      require([\"jspanel-modal\"], function() {\n",
       "\ton_load()\n",
       "      })\n",
       "      require([\"jspanel-tooltip\"], function() {\n",
       "\ton_load()\n",
       "      })\n",
       "      require([\"jspanel-hint\"], function() {\n",
       "\ton_load()\n",
       "      })\n",
       "      require([\"jspanel-layout\"], function() {\n",
       "\ton_load()\n",
       "      })\n",
       "      require([\"jspanel-contextmenu\"], function() {\n",
       "\ton_load()\n",
       "      })\n",
       "      require([\"jspanel-dock\"], function() {\n",
       "\ton_load()\n",
       "      })\n",
       "      require([\"gridstack\"], function(GridStack) {\n",
       "\twindow.GridStack = GridStack\n",
       "\ton_load()\n",
       "      })\n",
       "      require([\"notyf\"], function() {\n",
       "\ton_load()\n",
       "      })\n",
       "      root._bokeh_is_loading = css_urls.length + 9;\n",
       "    } else {\n",
       "      root._bokeh_is_loading = css_urls.length + js_urls.length + js_modules.length + Object.keys(js_exports).length;\n",
       "    }\n",
       "\n",
       "    var existing_stylesheets = []\n",
       "    var links = document.getElementsByTagName('link')\n",
       "    for (var i = 0; i < links.length; i++) {\n",
       "      var link = links[i]\n",
       "      if (link.href != null) {\n",
       "\texisting_stylesheets.push(link.href)\n",
       "      }\n",
       "    }\n",
       "    for (var i = 0; i < css_urls.length; i++) {\n",
       "      var url = css_urls[i];\n",
       "      if (existing_stylesheets.indexOf(url) !== -1) {\n",
       "\ton_load()\n",
       "\tcontinue;\n",
       "      }\n",
       "      const element = document.createElement(\"link\");\n",
       "      element.onload = on_load;\n",
       "      element.onerror = on_error;\n",
       "      element.rel = \"stylesheet\";\n",
       "      element.type = \"text/css\";\n",
       "      element.href = url;\n",
       "      console.debug(\"Bokeh: injecting link tag for BokehJS stylesheet: \", url);\n",
       "      document.body.appendChild(element);\n",
       "    }    if (((window['jsPanel'] !== undefined) && (!(window['jsPanel'] instanceof HTMLElement))) || window.requirejs) {\n",
       "      var urls = ['https://cdn.holoviz.org/panel/1.2.3/dist/bundled/floatpanel/jspanel4@4.12.0/dist/jspanel.js', 'https://cdn.holoviz.org/panel/1.2.3/dist/bundled/floatpanel/jspanel4@4.12.0/dist/extensions/modal/jspanel.modal.js', 'https://cdn.holoviz.org/panel/1.2.3/dist/bundled/floatpanel/jspanel4@4.12.0/dist/extensions/tooltip/jspanel.tooltip.js', 'https://cdn.holoviz.org/panel/1.2.3/dist/bundled/floatpanel/jspanel4@4.12.0/dist/extensions/hint/jspanel.hint.js', 'https://cdn.holoviz.org/panel/1.2.3/dist/bundled/floatpanel/jspanel4@4.12.0/dist/extensions/layout/jspanel.layout.js', 'https://cdn.holoviz.org/panel/1.2.3/dist/bundled/floatpanel/jspanel4@4.12.0/dist/extensions/contextmenu/jspanel.contextmenu.js', 'https://cdn.holoviz.org/panel/1.2.3/dist/bundled/floatpanel/jspanel4@4.12.0/dist/extensions/dock/jspanel.dock.js'];\n",
       "      for (var i = 0; i < urls.length; i++) {\n",
       "        skip.push(urls[i])\n",
       "      }\n",
       "    }    if (((window['GridStack'] !== undefined) && (!(window['GridStack'] instanceof HTMLElement))) || window.requirejs) {\n",
       "      var urls = ['https://cdn.holoviz.org/panel/1.2.3/dist/bundled/gridstack/gridstack@7.2.3/dist/gridstack-all.js'];\n",
       "      for (var i = 0; i < urls.length; i++) {\n",
       "        skip.push(urls[i])\n",
       "      }\n",
       "    }    if (((window['Notyf'] !== undefined) && (!(window['Notyf'] instanceof HTMLElement))) || window.requirejs) {\n",
       "      var urls = ['https://cdn.holoviz.org/panel/1.2.3/dist/bundled/notificationarea/notyf@3/notyf.min.js'];\n",
       "      for (var i = 0; i < urls.length; i++) {\n",
       "        skip.push(urls[i])\n",
       "      }\n",
       "    }    var existing_scripts = []\n",
       "    var scripts = document.getElementsByTagName('script')\n",
       "    for (var i = 0; i < scripts.length; i++) {\n",
       "      var script = scripts[i]\n",
       "      if (script.src != null) {\n",
       "\texisting_scripts.push(script.src)\n",
       "      }\n",
       "    }\n",
       "    for (var i = 0; i < js_urls.length; i++) {\n",
       "      var url = js_urls[i];\n",
       "      if (skip.indexOf(url) !== -1 || existing_scripts.indexOf(url) !== -1) {\n",
       "\tif (!window.requirejs) {\n",
       "\t  on_load();\n",
       "\t}\n",
       "\tcontinue;\n",
       "      }\n",
       "      var element = document.createElement('script');\n",
       "      element.onload = on_load;\n",
       "      element.onerror = on_error;\n",
       "      element.async = false;\n",
       "      element.src = url;\n",
       "      console.debug(\"Bokeh: injecting script tag for BokehJS library: \", url);\n",
       "      document.head.appendChild(element);\n",
       "    }\n",
       "    for (var i = 0; i < js_modules.length; i++) {\n",
       "      var url = js_modules[i];\n",
       "      if (skip.indexOf(url) !== -1 || existing_scripts.indexOf(url) !== -1) {\n",
       "\tif (!window.requirejs) {\n",
       "\t  on_load();\n",
       "\t}\n",
       "\tcontinue;\n",
       "      }\n",
       "      var element = document.createElement('script');\n",
       "      element.onload = on_load;\n",
       "      element.onerror = on_error;\n",
       "      element.async = false;\n",
       "      element.src = url;\n",
       "      element.type = \"module\";\n",
       "      console.debug(\"Bokeh: injecting script tag for BokehJS library: \", url);\n",
       "      document.head.appendChild(element);\n",
       "    }\n",
       "    for (const name in js_exports) {\n",
       "      var url = js_exports[name];\n",
       "      if (skip.indexOf(url) >= 0 || root[name] != null) {\n",
       "\tif (!window.requirejs) {\n",
       "\t  on_load();\n",
       "\t}\n",
       "\tcontinue;\n",
       "      }\n",
       "      var element = document.createElement('script');\n",
       "      element.onerror = on_error;\n",
       "      element.async = false;\n",
       "      element.type = \"module\";\n",
       "      console.debug(\"Bokeh: injecting script tag for BokehJS library: \", url);\n",
       "      element.textContent = `\n",
       "      import ${name} from \"${url}\"\n",
       "      window.${name} = ${name}\n",
       "      window._bokeh_on_load()\n",
       "      `\n",
       "      document.head.appendChild(element);\n",
       "    }\n",
       "    if (!js_urls.length && !js_modules.length) {\n",
       "      on_load()\n",
       "    }\n",
       "  };\n",
       "\n",
       "  function inject_raw_css(css) {\n",
       "    const element = document.createElement(\"style\");\n",
       "    element.appendChild(document.createTextNode(css));\n",
       "    document.body.appendChild(element);\n",
       "  }\n",
       "\n",
       "  var js_urls = [\"https://cdn.bokeh.org/bokeh/release/bokeh-3.2.2.min.js\", \"https://cdn.bokeh.org/bokeh/release/bokeh-gl-3.2.2.min.js\", \"https://cdn.bokeh.org/bokeh/release/bokeh-widgets-3.2.2.min.js\", \"https://cdn.bokeh.org/bokeh/release/bokeh-tables-3.2.2.min.js\", \"https://cdn.holoviz.org/panel/1.2.3/dist/panel.min.js\", \"https://cdn.jsdelivr.net/npm/@holoviz/geoviews@1.10.1/dist/geoviews.min.js\"];\n",
       "  var js_modules = [];\n",
       "  var js_exports = {};\n",
       "  var css_urls = [];\n",
       "  var inline_js = [    function(Bokeh) {\n",
       "      Bokeh.set_log_level(\"info\");\n",
       "    },\n",
       "function(Bokeh) {} // ensure no trailing comma for IE\n",
       "  ];\n",
       "\n",
       "  function run_inline_js() {\n",
       "    if ((root.Bokeh !== undefined) || (force === true)) {\n",
       "      for (var i = 0; i < inline_js.length; i++) {\n",
       "        inline_js[i].call(root, root.Bokeh);\n",
       "      }\n",
       "      // Cache old bokeh versions\n",
       "      if (Bokeh != undefined && !reloading) {\n",
       "\tvar NewBokeh = root.Bokeh;\n",
       "\tif (Bokeh.versions === undefined) {\n",
       "\t  Bokeh.versions = new Map();\n",
       "\t}\n",
       "\tif (NewBokeh.version !== Bokeh.version) {\n",
       "\t  Bokeh.versions.set(NewBokeh.version, NewBokeh)\n",
       "\t}\n",
       "\troot.Bokeh = Bokeh;\n",
       "      }} else if (Date.now() < root._bokeh_timeout) {\n",
       "      setTimeout(run_inline_js, 100);\n",
       "    } else if (!root._bokeh_failed_load) {\n",
       "      console.log(\"Bokeh: BokehJS failed to load within specified timeout.\");\n",
       "      root._bokeh_failed_load = true;\n",
       "    }\n",
       "    root._bokeh_is_initializing = false\n",
       "  }\n",
       "\n",
       "  function load_or_wait() {\n",
       "    // Implement a backoff loop that tries to ensure we do not load multiple\n",
       "    // versions of Bokeh and its dependencies at the same time.\n",
       "    // In recent versions we use the root._bokeh_is_initializing flag\n",
       "    // to determine whether there is an ongoing attempt to initialize\n",
       "    // bokeh, however for backward compatibility we also try to ensure\n",
       "    // that we do not start loading a newer (Panel>=1.0 and Bokeh>3) version\n",
       "    // before older versions are fully initialized.\n",
       "    if (root._bokeh_is_initializing && Date.now() > root._bokeh_timeout) {\n",
       "      root._bokeh_is_initializing = false;\n",
       "      root._bokeh_onload_callbacks = undefined;\n",
       "      console.log(\"Bokeh: BokehJS was loaded multiple times but one version failed to initialize.\");\n",
       "      load_or_wait();\n",
       "    } else if (root._bokeh_is_initializing || (typeof root._bokeh_is_initializing === \"undefined\" && root._bokeh_onload_callbacks !== undefined)) {\n",
       "      setTimeout(load_or_wait, 100);\n",
       "    } else {\n",
       "      Bokeh = root.Bokeh;\n",
       "      bokeh_loaded = Bokeh != null && (Bokeh.version === py_version || (Bokeh.versions !== undefined && Bokeh.versions.has(py_version)));\n",
       "      root._bokeh_is_initializing = true\n",
       "      root._bokeh_onload_callbacks = []\n",
       "      if (!reloading && (!bokeh_loaded || is_dev)) {\n",
       "\troot.Bokeh = undefined;\n",
       "      }\n",
       "      load_libs(css_urls, js_urls, js_modules, js_exports, function() {\n",
       "\tconsole.debug(\"Bokeh: BokehJS plotting callback run at\", now());\n",
       "\trun_inline_js();\n",
       "      });\n",
       "    }\n",
       "  }\n",
       "  // Give older versions of the autoload script a head-start to ensure\n",
       "  // they initialize before we start loading newer version.\n",
       "  setTimeout(load_or_wait, 100)\n",
       "}(window));"
      ],
      "application/vnd.holoviews_load.v0+json": "(function(root) {\n  function now() {\n    return new Date();\n  }\n\n  var force = true;\n  var py_version = '3.2.2'.replace('rc', '-rc.').replace('.dev', '-dev.');\n  var is_dev = py_version.indexOf(\"+\") !== -1 || py_version.indexOf(\"-\") !== -1;\n  var reloading = false;\n  var Bokeh = root.Bokeh;\n  var bokeh_loaded = Bokeh != null && (Bokeh.version === py_version || (Bokeh.versions !== undefined && Bokeh.versions.has(py_version)));\n\n  if (typeof (root._bokeh_timeout) === \"undefined\" || force) {\n    root._bokeh_timeout = Date.now() + 5000;\n    root._bokeh_failed_load = false;\n  }\n\n  function run_callbacks() {\n    try {\n      root._bokeh_onload_callbacks.forEach(function(callback) {\n        if (callback != null)\n          callback();\n      });\n    } finally {\n      delete root._bokeh_onload_callbacks;\n    }\n    console.debug(\"Bokeh: all callbacks have finished\");\n  }\n\n  function load_libs(css_urls, js_urls, js_modules, js_exports, callback) {\n    if (css_urls == null) css_urls = [];\n    if (js_urls == null) js_urls = [];\n    if (js_modules == null) js_modules = [];\n    if (js_exports == null) js_exports = {};\n\n    root._bokeh_onload_callbacks.push(callback);\n\n    if (root._bokeh_is_loading > 0) {\n      console.debug(\"Bokeh: BokehJS is being loaded, scheduling callback at\", now());\n      return null;\n    }\n    if (js_urls.length === 0 && js_modules.length === 0 && Object.keys(js_exports).length === 0) {\n      run_callbacks();\n      return null;\n    }\n    if (!reloading) {\n      console.debug(\"Bokeh: BokehJS not loaded, scheduling load and callback at\", now());\n    }\n\n    function on_load() {\n      root._bokeh_is_loading--;\n      if (root._bokeh_is_loading === 0) {\n        console.debug(\"Bokeh: all BokehJS libraries/stylesheets loaded\");\n        run_callbacks()\n      }\n    }\n    window._bokeh_on_load = on_load\n\n    function on_error() {\n      console.error(\"failed to load \" + url);\n    }\n\n    var skip = [];\n    if (window.requirejs) {\n      window.requirejs.config({'packages': {}, 'paths': {'jspanel': 'https://cdn.jsdelivr.net/npm/jspanel4@4.12.0/dist/jspanel', 'jspanel-modal': 'https://cdn.jsdelivr.net/npm/jspanel4@4.12.0/dist/extensions/modal/jspanel.modal', 'jspanel-tooltip': 'https://cdn.jsdelivr.net/npm/jspanel4@4.12.0/dist/extensions/tooltip/jspanel.tooltip', 'jspanel-hint': 'https://cdn.jsdelivr.net/npm/jspanel4@4.12.0/dist/extensions/hint/jspanel.hint', 'jspanel-layout': 'https://cdn.jsdelivr.net/npm/jspanel4@4.12.0/dist/extensions/layout/jspanel.layout', 'jspanel-contextmenu': 'https://cdn.jsdelivr.net/npm/jspanel4@4.12.0/dist/extensions/contextmenu/jspanel.contextmenu', 'jspanel-dock': 'https://cdn.jsdelivr.net/npm/jspanel4@4.12.0/dist/extensions/dock/jspanel.dock', 'gridstack': 'https://cdn.jsdelivr.net/npm/gridstack@7.2.3/dist/gridstack-all', 'notyf': 'https://cdn.jsdelivr.net/npm/notyf@3/notyf.min'}, 'shim': {'jspanel': {'exports': 'jsPanel'}, 'gridstack': {'exports': 'GridStack'}}});\n      require([\"jspanel\"], function(jsPanel) {\n\twindow.jsPanel = jsPanel\n\ton_load()\n      })\n      require([\"jspanel-modal\"], function() {\n\ton_load()\n      })\n      require([\"jspanel-tooltip\"], function() {\n\ton_load()\n      })\n      require([\"jspanel-hint\"], function() {\n\ton_load()\n      })\n      require([\"jspanel-layout\"], function() {\n\ton_load()\n      })\n      require([\"jspanel-contextmenu\"], function() {\n\ton_load()\n      })\n      require([\"jspanel-dock\"], function() {\n\ton_load()\n      })\n      require([\"gridstack\"], function(GridStack) {\n\twindow.GridStack = GridStack\n\ton_load()\n      })\n      require([\"notyf\"], function() {\n\ton_load()\n      })\n      root._bokeh_is_loading = css_urls.length + 9;\n    } else {\n      root._bokeh_is_loading = css_urls.length + js_urls.length + js_modules.length + Object.keys(js_exports).length;\n    }\n\n    var existing_stylesheets = []\n    var links = document.getElementsByTagName('link')\n    for (var i = 0; i < links.length; i++) {\n      var link = links[i]\n      if (link.href != null) {\n\texisting_stylesheets.push(link.href)\n      }\n    }\n    for (var i = 0; i < css_urls.length; i++) {\n      var url = css_urls[i];\n      if (existing_stylesheets.indexOf(url) !== -1) {\n\ton_load()\n\tcontinue;\n      }\n      const element = document.createElement(\"link\");\n      element.onload = on_load;\n      element.onerror = on_error;\n      element.rel = \"stylesheet\";\n      element.type = \"text/css\";\n      element.href = url;\n      console.debug(\"Bokeh: injecting link tag for BokehJS stylesheet: \", url);\n      document.body.appendChild(element);\n    }    if (((window['jsPanel'] !== undefined) && (!(window['jsPanel'] instanceof HTMLElement))) || window.requirejs) {\n      var urls = ['https://cdn.holoviz.org/panel/1.2.3/dist/bundled/floatpanel/jspanel4@4.12.0/dist/jspanel.js', 'https://cdn.holoviz.org/panel/1.2.3/dist/bundled/floatpanel/jspanel4@4.12.0/dist/extensions/modal/jspanel.modal.js', 'https://cdn.holoviz.org/panel/1.2.3/dist/bundled/floatpanel/jspanel4@4.12.0/dist/extensions/tooltip/jspanel.tooltip.js', 'https://cdn.holoviz.org/panel/1.2.3/dist/bundled/floatpanel/jspanel4@4.12.0/dist/extensions/hint/jspanel.hint.js', 'https://cdn.holoviz.org/panel/1.2.3/dist/bundled/floatpanel/jspanel4@4.12.0/dist/extensions/layout/jspanel.layout.js', 'https://cdn.holoviz.org/panel/1.2.3/dist/bundled/floatpanel/jspanel4@4.12.0/dist/extensions/contextmenu/jspanel.contextmenu.js', 'https://cdn.holoviz.org/panel/1.2.3/dist/bundled/floatpanel/jspanel4@4.12.0/dist/extensions/dock/jspanel.dock.js'];\n      for (var i = 0; i < urls.length; i++) {\n        skip.push(urls[i])\n      }\n    }    if (((window['GridStack'] !== undefined) && (!(window['GridStack'] instanceof HTMLElement))) || window.requirejs) {\n      var urls = ['https://cdn.holoviz.org/panel/1.2.3/dist/bundled/gridstack/gridstack@7.2.3/dist/gridstack-all.js'];\n      for (var i = 0; i < urls.length; i++) {\n        skip.push(urls[i])\n      }\n    }    if (((window['Notyf'] !== undefined) && (!(window['Notyf'] instanceof HTMLElement))) || window.requirejs) {\n      var urls = ['https://cdn.holoviz.org/panel/1.2.3/dist/bundled/notificationarea/notyf@3/notyf.min.js'];\n      for (var i = 0; i < urls.length; i++) {\n        skip.push(urls[i])\n      }\n    }    var existing_scripts = []\n    var scripts = document.getElementsByTagName('script')\n    for (var i = 0; i < scripts.length; i++) {\n      var script = scripts[i]\n      if (script.src != null) {\n\texisting_scripts.push(script.src)\n      }\n    }\n    for (var i = 0; i < js_urls.length; i++) {\n      var url = js_urls[i];\n      if (skip.indexOf(url) !== -1 || existing_scripts.indexOf(url) !== -1) {\n\tif (!window.requirejs) {\n\t  on_load();\n\t}\n\tcontinue;\n      }\n      var element = document.createElement('script');\n      element.onload = on_load;\n      element.onerror = on_error;\n      element.async = false;\n      element.src = url;\n      console.debug(\"Bokeh: injecting script tag for BokehJS library: \", url);\n      document.head.appendChild(element);\n    }\n    for (var i = 0; i < js_modules.length; i++) {\n      var url = js_modules[i];\n      if (skip.indexOf(url) !== -1 || existing_scripts.indexOf(url) !== -1) {\n\tif (!window.requirejs) {\n\t  on_load();\n\t}\n\tcontinue;\n      }\n      var element = document.createElement('script');\n      element.onload = on_load;\n      element.onerror = on_error;\n      element.async = false;\n      element.src = url;\n      element.type = \"module\";\n      console.debug(\"Bokeh: injecting script tag for BokehJS library: \", url);\n      document.head.appendChild(element);\n    }\n    for (const name in js_exports) {\n      var url = js_exports[name];\n      if (skip.indexOf(url) >= 0 || root[name] != null) {\n\tif (!window.requirejs) {\n\t  on_load();\n\t}\n\tcontinue;\n      }\n      var element = document.createElement('script');\n      element.onerror = on_error;\n      element.async = false;\n      element.type = \"module\";\n      console.debug(\"Bokeh: injecting script tag for BokehJS library: \", url);\n      element.textContent = `\n      import ${name} from \"${url}\"\n      window.${name} = ${name}\n      window._bokeh_on_load()\n      `\n      document.head.appendChild(element);\n    }\n    if (!js_urls.length && !js_modules.length) {\n      on_load()\n    }\n  };\n\n  function inject_raw_css(css) {\n    const element = document.createElement(\"style\");\n    element.appendChild(document.createTextNode(css));\n    document.body.appendChild(element);\n  }\n\n  var js_urls = [\"https://cdn.bokeh.org/bokeh/release/bokeh-3.2.2.min.js\", \"https://cdn.bokeh.org/bokeh/release/bokeh-gl-3.2.2.min.js\", \"https://cdn.bokeh.org/bokeh/release/bokeh-widgets-3.2.2.min.js\", \"https://cdn.bokeh.org/bokeh/release/bokeh-tables-3.2.2.min.js\", \"https://cdn.holoviz.org/panel/1.2.3/dist/panel.min.js\", \"https://cdn.jsdelivr.net/npm/@holoviz/geoviews@1.10.1/dist/geoviews.min.js\"];\n  var js_modules = [];\n  var js_exports = {};\n  var css_urls = [];\n  var inline_js = [    function(Bokeh) {\n      Bokeh.set_log_level(\"info\");\n    },\nfunction(Bokeh) {} // ensure no trailing comma for IE\n  ];\n\n  function run_inline_js() {\n    if ((root.Bokeh !== undefined) || (force === true)) {\n      for (var i = 0; i < inline_js.length; i++) {\n        inline_js[i].call(root, root.Bokeh);\n      }\n      // Cache old bokeh versions\n      if (Bokeh != undefined && !reloading) {\n\tvar NewBokeh = root.Bokeh;\n\tif (Bokeh.versions === undefined) {\n\t  Bokeh.versions = new Map();\n\t}\n\tif (NewBokeh.version !== Bokeh.version) {\n\t  Bokeh.versions.set(NewBokeh.version, NewBokeh)\n\t}\n\troot.Bokeh = Bokeh;\n      }} else if (Date.now() < root._bokeh_timeout) {\n      setTimeout(run_inline_js, 100);\n    } else if (!root._bokeh_failed_load) {\n      console.log(\"Bokeh: BokehJS failed to load within specified timeout.\");\n      root._bokeh_failed_load = true;\n    }\n    root._bokeh_is_initializing = false\n  }\n\n  function load_or_wait() {\n    // Implement a backoff loop that tries to ensure we do not load multiple\n    // versions of Bokeh and its dependencies at the same time.\n    // In recent versions we use the root._bokeh_is_initializing flag\n    // to determine whether there is an ongoing attempt to initialize\n    // bokeh, however for backward compatibility we also try to ensure\n    // that we do not start loading a newer (Panel>=1.0 and Bokeh>3) version\n    // before older versions are fully initialized.\n    if (root._bokeh_is_initializing && Date.now() > root._bokeh_timeout) {\n      root._bokeh_is_initializing = false;\n      root._bokeh_onload_callbacks = undefined;\n      console.log(\"Bokeh: BokehJS was loaded multiple times but one version failed to initialize.\");\n      load_or_wait();\n    } else if (root._bokeh_is_initializing || (typeof root._bokeh_is_initializing === \"undefined\" && root._bokeh_onload_callbacks !== undefined)) {\n      setTimeout(load_or_wait, 100);\n    } else {\n      Bokeh = root.Bokeh;\n      bokeh_loaded = Bokeh != null && (Bokeh.version === py_version || (Bokeh.versions !== undefined && Bokeh.versions.has(py_version)));\n      root._bokeh_is_initializing = true\n      root._bokeh_onload_callbacks = []\n      if (!reloading && (!bokeh_loaded || is_dev)) {\n\troot.Bokeh = undefined;\n      }\n      load_libs(css_urls, js_urls, js_modules, js_exports, function() {\n\tconsole.debug(\"Bokeh: BokehJS plotting callback run at\", now());\n\trun_inline_js();\n      });\n    }\n  }\n  // Give older versions of the autoload script a head-start to ensure\n  // they initialize before we start loading newer version.\n  setTimeout(load_or_wait, 100)\n}(window));"
     },
     "metadata": {},
     "output_type": "display_data"
    },
    {
     "data": {
      "application/javascript": [
       "\n",
       "if ((window.PyViz === undefined) || (window.PyViz instanceof HTMLElement)) {\n",
       "  window.PyViz = {comms: {}, comm_status:{}, kernels:{}, receivers: {}, plot_index: []}\n",
       "}\n",
       "\n",
       "\n",
       "    function JupyterCommManager() {\n",
       "    }\n",
       "\n",
       "    JupyterCommManager.prototype.register_target = function(plot_id, comm_id, msg_handler) {\n",
       "      if (window.comm_manager || ((window.Jupyter !== undefined) && (Jupyter.notebook.kernel != null))) {\n",
       "        var comm_manager = window.comm_manager || Jupyter.notebook.kernel.comm_manager;\n",
       "        comm_manager.register_target(comm_id, function(comm) {\n",
       "          comm.on_msg(msg_handler);\n",
       "        });\n",
       "      } else if ((plot_id in window.PyViz.kernels) && (window.PyViz.kernels[plot_id])) {\n",
       "        window.PyViz.kernels[plot_id].registerCommTarget(comm_id, function(comm) {\n",
       "          comm.onMsg = msg_handler;\n",
       "        });\n",
       "      } else if (typeof google != 'undefined' && google.colab.kernel != null) {\n",
       "        google.colab.kernel.comms.registerTarget(comm_id, (comm) => {\n",
       "          var messages = comm.messages[Symbol.asyncIterator]();\n",
       "          function processIteratorResult(result) {\n",
       "            var message = result.value;\n",
       "            console.log(message)\n",
       "            var content = {data: message.data, comm_id};\n",
       "            var buffers = []\n",
       "            for (var buffer of message.buffers || []) {\n",
       "              buffers.push(new DataView(buffer))\n",
       "            }\n",
       "            var metadata = message.metadata || {};\n",
       "            var msg = {content, buffers, metadata}\n",
       "            msg_handler(msg);\n",
       "            return messages.next().then(processIteratorResult);\n",
       "          }\n",
       "          return messages.next().then(processIteratorResult);\n",
       "        })\n",
       "      }\n",
       "    }\n",
       "\n",
       "    JupyterCommManager.prototype.get_client_comm = function(plot_id, comm_id, msg_handler) {\n",
       "      if (comm_id in window.PyViz.comms) {\n",
       "        return window.PyViz.comms[comm_id];\n",
       "      } else if (window.comm_manager || ((window.Jupyter !== undefined) && (Jupyter.notebook.kernel != null))) {\n",
       "        var comm_manager = window.comm_manager || Jupyter.notebook.kernel.comm_manager;\n",
       "        var comm = comm_manager.new_comm(comm_id, {}, {}, {}, comm_id);\n",
       "        if (msg_handler) {\n",
       "          comm.on_msg(msg_handler);\n",
       "        }\n",
       "      } else if ((plot_id in window.PyViz.kernels) && (window.PyViz.kernels[plot_id])) {\n",
       "        var comm = window.PyViz.kernels[plot_id].connectToComm(comm_id);\n",
       "        comm.open();\n",
       "        if (msg_handler) {\n",
       "          comm.onMsg = msg_handler;\n",
       "        }\n",
       "      } else if (typeof google != 'undefined' && google.colab.kernel != null) {\n",
       "        var comm_promise = google.colab.kernel.comms.open(comm_id)\n",
       "        comm_promise.then((comm) => {\n",
       "          window.PyViz.comms[comm_id] = comm;\n",
       "          if (msg_handler) {\n",
       "            var messages = comm.messages[Symbol.asyncIterator]();\n",
       "            function processIteratorResult(result) {\n",
       "              var message = result.value;\n",
       "              var content = {data: message.data};\n",
       "              var metadata = message.metadata || {comm_id};\n",
       "              var msg = {content, metadata}\n",
       "              msg_handler(msg);\n",
       "              return messages.next().then(processIteratorResult);\n",
       "            }\n",
       "            return messages.next().then(processIteratorResult);\n",
       "          }\n",
       "        }) \n",
       "        var sendClosure = (data, metadata, buffers, disposeOnDone) => {\n",
       "          return comm_promise.then((comm) => {\n",
       "            comm.send(data, metadata, buffers, disposeOnDone);\n",
       "          });\n",
       "        };\n",
       "        var comm = {\n",
       "          send: sendClosure\n",
       "        };\n",
       "      }\n",
       "      window.PyViz.comms[comm_id] = comm;\n",
       "      return comm;\n",
       "    }\n",
       "    window.PyViz.comm_manager = new JupyterCommManager();\n",
       "    \n",
       "\n",
       "\n",
       "var JS_MIME_TYPE = 'application/javascript';\n",
       "var HTML_MIME_TYPE = 'text/html';\n",
       "var EXEC_MIME_TYPE = 'application/vnd.holoviews_exec.v0+json';\n",
       "var CLASS_NAME = 'output';\n",
       "\n",
       "/**\n",
       " * Render data to the DOM node\n",
       " */\n",
       "function render(props, node) {\n",
       "  var div = document.createElement(\"div\");\n",
       "  var script = document.createElement(\"script\");\n",
       "  node.appendChild(div);\n",
       "  node.appendChild(script);\n",
       "}\n",
       "\n",
       "/**\n",
       " * Handle when a new output is added\n",
       " */\n",
       "function handle_add_output(event, handle) {\n",
       "  var output_area = handle.output_area;\n",
       "  var output = handle.output;\n",
       "  if ((output.data == undefined) || (!output.data.hasOwnProperty(EXEC_MIME_TYPE))) {\n",
       "    return\n",
       "  }\n",
       "  var id = output.metadata[EXEC_MIME_TYPE][\"id\"];\n",
       "  var toinsert = output_area.element.find(\".\" + CLASS_NAME.split(' ')[0]);\n",
       "  if (id !== undefined) {\n",
       "    var nchildren = toinsert.length;\n",
       "    var html_node = toinsert[nchildren-1].children[0];\n",
       "    html_node.innerHTML = output.data[HTML_MIME_TYPE];\n",
       "    var scripts = [];\n",
       "    var nodelist = html_node.querySelectorAll(\"script\");\n",
       "    for (var i in nodelist) {\n",
       "      if (nodelist.hasOwnProperty(i)) {\n",
       "        scripts.push(nodelist[i])\n",
       "      }\n",
       "    }\n",
       "\n",
       "    scripts.forEach( function (oldScript) {\n",
       "      var newScript = document.createElement(\"script\");\n",
       "      var attrs = [];\n",
       "      var nodemap = oldScript.attributes;\n",
       "      for (var j in nodemap) {\n",
       "        if (nodemap.hasOwnProperty(j)) {\n",
       "          attrs.push(nodemap[j])\n",
       "        }\n",
       "      }\n",
       "      attrs.forEach(function(attr) { newScript.setAttribute(attr.name, attr.value) });\n",
       "      newScript.appendChild(document.createTextNode(oldScript.innerHTML));\n",
       "      oldScript.parentNode.replaceChild(newScript, oldScript);\n",
       "    });\n",
       "    if (JS_MIME_TYPE in output.data) {\n",
       "      toinsert[nchildren-1].children[1].textContent = output.data[JS_MIME_TYPE];\n",
       "    }\n",
       "    output_area._hv_plot_id = id;\n",
       "    if ((window.Bokeh !== undefined) && (id in Bokeh.index)) {\n",
       "      window.PyViz.plot_index[id] = Bokeh.index[id];\n",
       "    } else {\n",
       "      window.PyViz.plot_index[id] = null;\n",
       "    }\n",
       "  } else if (output.metadata[EXEC_MIME_TYPE][\"server_id\"] !== undefined) {\n",
       "    var bk_div = document.createElement(\"div\");\n",
       "    bk_div.innerHTML = output.data[HTML_MIME_TYPE];\n",
       "    var script_attrs = bk_div.children[0].attributes;\n",
       "    for (var i = 0; i < script_attrs.length; i++) {\n",
       "      toinsert[toinsert.length - 1].childNodes[1].setAttribute(script_attrs[i].name, script_attrs[i].value);\n",
       "    }\n",
       "    // store reference to server id on output_area\n",
       "    output_area._bokeh_server_id = output.metadata[EXEC_MIME_TYPE][\"server_id\"];\n",
       "  }\n",
       "}\n",
       "\n",
       "/**\n",
       " * Handle when an output is cleared or removed\n",
       " */\n",
       "function handle_clear_output(event, handle) {\n",
       "  var id = handle.cell.output_area._hv_plot_id;\n",
       "  var server_id = handle.cell.output_area._bokeh_server_id;\n",
       "  if (((id === undefined) || !(id in PyViz.plot_index)) && (server_id !== undefined)) { return; }\n",
       "  var comm = window.PyViz.comm_manager.get_client_comm(\"hv-extension-comm\", \"hv-extension-comm\", function () {});\n",
       "  if (server_id !== null) {\n",
       "    comm.send({event_type: 'server_delete', 'id': server_id});\n",
       "    return;\n",
       "  } else if (comm !== null) {\n",
       "    comm.send({event_type: 'delete', 'id': id});\n",
       "  }\n",
       "  delete PyViz.plot_index[id];\n",
       "  if ((window.Bokeh !== undefined) & (id in window.Bokeh.index)) {\n",
       "    var doc = window.Bokeh.index[id].model.document\n",
       "    doc.clear();\n",
       "    const i = window.Bokeh.documents.indexOf(doc);\n",
       "    if (i > -1) {\n",
       "      window.Bokeh.documents.splice(i, 1);\n",
       "    }\n",
       "  }\n",
       "}\n",
       "\n",
       "/**\n",
       " * Handle kernel restart event\n",
       " */\n",
       "function handle_kernel_cleanup(event, handle) {\n",
       "  delete PyViz.comms[\"hv-extension-comm\"];\n",
       "  window.PyViz.plot_index = {}\n",
       "}\n",
       "\n",
       "/**\n",
       " * Handle update_display_data messages\n",
       " */\n",
       "function handle_update_output(event, handle) {\n",
       "  handle_clear_output(event, {cell: {output_area: handle.output_area}})\n",
       "  handle_add_output(event, handle)\n",
       "}\n",
       "\n",
       "function register_renderer(events, OutputArea) {\n",
       "  function append_mime(data, metadata, element) {\n",
       "    // create a DOM node to render to\n",
       "    var toinsert = this.create_output_subarea(\n",
       "    metadata,\n",
       "    CLASS_NAME,\n",
       "    EXEC_MIME_TYPE\n",
       "    );\n",
       "    this.keyboard_manager.register_events(toinsert);\n",
       "    // Render to node\n",
       "    var props = {data: data, metadata: metadata[EXEC_MIME_TYPE]};\n",
       "    render(props, toinsert[0]);\n",
       "    element.append(toinsert);\n",
       "    return toinsert\n",
       "  }\n",
       "\n",
       "  events.on('output_added.OutputArea', handle_add_output);\n",
       "  events.on('output_updated.OutputArea', handle_update_output);\n",
       "  events.on('clear_output.CodeCell', handle_clear_output);\n",
       "  events.on('delete.Cell', handle_clear_output);\n",
       "  events.on('kernel_ready.Kernel', handle_kernel_cleanup);\n",
       "\n",
       "  OutputArea.prototype.register_mime_type(EXEC_MIME_TYPE, append_mime, {\n",
       "    safe: true,\n",
       "    index: 0\n",
       "  });\n",
       "}\n",
       "\n",
       "if (window.Jupyter !== undefined) {\n",
       "  try {\n",
       "    var events = require('base/js/events');\n",
       "    var OutputArea = require('notebook/js/outputarea').OutputArea;\n",
       "    if (OutputArea.prototype.mime_types().indexOf(EXEC_MIME_TYPE) == -1) {\n",
       "      register_renderer(events, OutputArea);\n",
       "    }\n",
       "  } catch(err) {\n",
       "  }\n",
       "}\n"
      ],
      "application/vnd.holoviews_load.v0+json": "\nif ((window.PyViz === undefined) || (window.PyViz instanceof HTMLElement)) {\n  window.PyViz = {comms: {}, comm_status:{}, kernels:{}, receivers: {}, plot_index: []}\n}\n\n\n    function JupyterCommManager() {\n    }\n\n    JupyterCommManager.prototype.register_target = function(plot_id, comm_id, msg_handler) {\n      if (window.comm_manager || ((window.Jupyter !== undefined) && (Jupyter.notebook.kernel != null))) {\n        var comm_manager = window.comm_manager || Jupyter.notebook.kernel.comm_manager;\n        comm_manager.register_target(comm_id, function(comm) {\n          comm.on_msg(msg_handler);\n        });\n      } else if ((plot_id in window.PyViz.kernels) && (window.PyViz.kernels[plot_id])) {\n        window.PyViz.kernels[plot_id].registerCommTarget(comm_id, function(comm) {\n          comm.onMsg = msg_handler;\n        });\n      } else if (typeof google != 'undefined' && google.colab.kernel != null) {\n        google.colab.kernel.comms.registerTarget(comm_id, (comm) => {\n          var messages = comm.messages[Symbol.asyncIterator]();\n          function processIteratorResult(result) {\n            var message = result.value;\n            console.log(message)\n            var content = {data: message.data, comm_id};\n            var buffers = []\n            for (var buffer of message.buffers || []) {\n              buffers.push(new DataView(buffer))\n            }\n            var metadata = message.metadata || {};\n            var msg = {content, buffers, metadata}\n            msg_handler(msg);\n            return messages.next().then(processIteratorResult);\n          }\n          return messages.next().then(processIteratorResult);\n        })\n      }\n    }\n\n    JupyterCommManager.prototype.get_client_comm = function(plot_id, comm_id, msg_handler) {\n      if (comm_id in window.PyViz.comms) {\n        return window.PyViz.comms[comm_id];\n      } else if (window.comm_manager || ((window.Jupyter !== undefined) && (Jupyter.notebook.kernel != null))) {\n        var comm_manager = window.comm_manager || Jupyter.notebook.kernel.comm_manager;\n        var comm = comm_manager.new_comm(comm_id, {}, {}, {}, comm_id);\n        if (msg_handler) {\n          comm.on_msg(msg_handler);\n        }\n      } else if ((plot_id in window.PyViz.kernels) && (window.PyViz.kernels[plot_id])) {\n        var comm = window.PyViz.kernels[plot_id].connectToComm(comm_id);\n        comm.open();\n        if (msg_handler) {\n          comm.onMsg = msg_handler;\n        }\n      } else if (typeof google != 'undefined' && google.colab.kernel != null) {\n        var comm_promise = google.colab.kernel.comms.open(comm_id)\n        comm_promise.then((comm) => {\n          window.PyViz.comms[comm_id] = comm;\n          if (msg_handler) {\n            var messages = comm.messages[Symbol.asyncIterator]();\n            function processIteratorResult(result) {\n              var message = result.value;\n              var content = {data: message.data};\n              var metadata = message.metadata || {comm_id};\n              var msg = {content, metadata}\n              msg_handler(msg);\n              return messages.next().then(processIteratorResult);\n            }\n            return messages.next().then(processIteratorResult);\n          }\n        }) \n        var sendClosure = (data, metadata, buffers, disposeOnDone) => {\n          return comm_promise.then((comm) => {\n            comm.send(data, metadata, buffers, disposeOnDone);\n          });\n        };\n        var comm = {\n          send: sendClosure\n        };\n      }\n      window.PyViz.comms[comm_id] = comm;\n      return comm;\n    }\n    window.PyViz.comm_manager = new JupyterCommManager();\n    \n\n\nvar JS_MIME_TYPE = 'application/javascript';\nvar HTML_MIME_TYPE = 'text/html';\nvar EXEC_MIME_TYPE = 'application/vnd.holoviews_exec.v0+json';\nvar CLASS_NAME = 'output';\n\n/**\n * Render data to the DOM node\n */\nfunction render(props, node) {\n  var div = document.createElement(\"div\");\n  var script = document.createElement(\"script\");\n  node.appendChild(div);\n  node.appendChild(script);\n}\n\n/**\n * Handle when a new output is added\n */\nfunction handle_add_output(event, handle) {\n  var output_area = handle.output_area;\n  var output = handle.output;\n  if ((output.data == undefined) || (!output.data.hasOwnProperty(EXEC_MIME_TYPE))) {\n    return\n  }\n  var id = output.metadata[EXEC_MIME_TYPE][\"id\"];\n  var toinsert = output_area.element.find(\".\" + CLASS_NAME.split(' ')[0]);\n  if (id !== undefined) {\n    var nchildren = toinsert.length;\n    var html_node = toinsert[nchildren-1].children[0];\n    html_node.innerHTML = output.data[HTML_MIME_TYPE];\n    var scripts = [];\n    var nodelist = html_node.querySelectorAll(\"script\");\n    for (var i in nodelist) {\n      if (nodelist.hasOwnProperty(i)) {\n        scripts.push(nodelist[i])\n      }\n    }\n\n    scripts.forEach( function (oldScript) {\n      var newScript = document.createElement(\"script\");\n      var attrs = [];\n      var nodemap = oldScript.attributes;\n      for (var j in nodemap) {\n        if (nodemap.hasOwnProperty(j)) {\n          attrs.push(nodemap[j])\n        }\n      }\n      attrs.forEach(function(attr) { newScript.setAttribute(attr.name, attr.value) });\n      newScript.appendChild(document.createTextNode(oldScript.innerHTML));\n      oldScript.parentNode.replaceChild(newScript, oldScript);\n    });\n    if (JS_MIME_TYPE in output.data) {\n      toinsert[nchildren-1].children[1].textContent = output.data[JS_MIME_TYPE];\n    }\n    output_area._hv_plot_id = id;\n    if ((window.Bokeh !== undefined) && (id in Bokeh.index)) {\n      window.PyViz.plot_index[id] = Bokeh.index[id];\n    } else {\n      window.PyViz.plot_index[id] = null;\n    }\n  } else if (output.metadata[EXEC_MIME_TYPE][\"server_id\"] !== undefined) {\n    var bk_div = document.createElement(\"div\");\n    bk_div.innerHTML = output.data[HTML_MIME_TYPE];\n    var script_attrs = bk_div.children[0].attributes;\n    for (var i = 0; i < script_attrs.length; i++) {\n      toinsert[toinsert.length - 1].childNodes[1].setAttribute(script_attrs[i].name, script_attrs[i].value);\n    }\n    // store reference to server id on output_area\n    output_area._bokeh_server_id = output.metadata[EXEC_MIME_TYPE][\"server_id\"];\n  }\n}\n\n/**\n * Handle when an output is cleared or removed\n */\nfunction handle_clear_output(event, handle) {\n  var id = handle.cell.output_area._hv_plot_id;\n  var server_id = handle.cell.output_area._bokeh_server_id;\n  if (((id === undefined) || !(id in PyViz.plot_index)) && (server_id !== undefined)) { return; }\n  var comm = window.PyViz.comm_manager.get_client_comm(\"hv-extension-comm\", \"hv-extension-comm\", function () {});\n  if (server_id !== null) {\n    comm.send({event_type: 'server_delete', 'id': server_id});\n    return;\n  } else if (comm !== null) {\n    comm.send({event_type: 'delete', 'id': id});\n  }\n  delete PyViz.plot_index[id];\n  if ((window.Bokeh !== undefined) & (id in window.Bokeh.index)) {\n    var doc = window.Bokeh.index[id].model.document\n    doc.clear();\n    const i = window.Bokeh.documents.indexOf(doc);\n    if (i > -1) {\n      window.Bokeh.documents.splice(i, 1);\n    }\n  }\n}\n\n/**\n * Handle kernel restart event\n */\nfunction handle_kernel_cleanup(event, handle) {\n  delete PyViz.comms[\"hv-extension-comm\"];\n  window.PyViz.plot_index = {}\n}\n\n/**\n * Handle update_display_data messages\n */\nfunction handle_update_output(event, handle) {\n  handle_clear_output(event, {cell: {output_area: handle.output_area}})\n  handle_add_output(event, handle)\n}\n\nfunction register_renderer(events, OutputArea) {\n  function append_mime(data, metadata, element) {\n    // create a DOM node to render to\n    var toinsert = this.create_output_subarea(\n    metadata,\n    CLASS_NAME,\n    EXEC_MIME_TYPE\n    );\n    this.keyboard_manager.register_events(toinsert);\n    // Render to node\n    var props = {data: data, metadata: metadata[EXEC_MIME_TYPE]};\n    render(props, toinsert[0]);\n    element.append(toinsert);\n    return toinsert\n  }\n\n  events.on('output_added.OutputArea', handle_add_output);\n  events.on('output_updated.OutputArea', handle_update_output);\n  events.on('clear_output.CodeCell', handle_clear_output);\n  events.on('delete.Cell', handle_clear_output);\n  events.on('kernel_ready.Kernel', handle_kernel_cleanup);\n\n  OutputArea.prototype.register_mime_type(EXEC_MIME_TYPE, append_mime, {\n    safe: true,\n    index: 0\n  });\n}\n\nif (window.Jupyter !== undefined) {\n  try {\n    var events = require('base/js/events');\n    var OutputArea = require('notebook/js/outputarea').OutputArea;\n    if (OutputArea.prototype.mime_types().indexOf(EXEC_MIME_TYPE) == -1) {\n      register_renderer(events, OutputArea);\n    }\n  } catch(err) {\n  }\n}\n"
     },
     "metadata": {},
     "output_type": "display_data"
    },
    {
     "data": {
      "text/html": [
       "<style>*[data-root-id],\n",
       "*[data-root-id] > * {\n",
       "  box-sizing: border-box;\n",
       "  font-family: var(--jp-ui-font-family);\n",
       "  font-size: var(--jp-ui-font-size1);\n",
       "  color: var(--vscode-editor-foreground, var(--jp-ui-font-color1));\n",
       "}\n",
       "\n",
       "/* Override VSCode background color */\n",
       ".cell-output-ipywidget-background:has(\n",
       "    > .cell-output-ipywidget-background > .lm-Widget > *[data-root-id]\n",
       "  ),\n",
       ".cell-output-ipywidget-background:has(> .lm-Widget > *[data-root-id]) {\n",
       "  background-color: transparent !important;\n",
       "}\n",
       "</style>"
      ]
     },
     "metadata": {},
     "output_type": "display_data"
    },
    {
     "data": {
      "text/html": [
       "\n",
       "<div class=\"logo-block\">\n",
       "<img src='data:image/png;base64,iVBORw0KGgoAAAANSUhEUgAAAEAAAABACAYAAACqaXHeAAAABHNCSVQICAgIfAhkiAAAAAlwSFlz\n",
       "AAAB+wAAAfsBxc2miwAAABl0RVh0U29mdHdhcmUAd3d3Lmlua3NjYXBlLm9yZ5vuPBoAAA6zSURB\n",
       "VHic7ZtpeFRVmsf/5966taWqUlUJ2UioBBJiIBAwCZtog9IOgjqACsogKtqirT2ttt069nQ/zDzt\n",
       "tI4+CrJIREFaFgWhBXpUNhHZQoKBkIUASchWla1S+3ar7r1nPkDaCAnZKoQP/D7mnPOe9/xy76n3\n",
       "nFSAW9ziFoPFNED2LLK5wcyBDObkb8ZkxuaoSYlI6ZcOKq1eWFdedqNzGHQBk9RMEwFAASkk0Xw3\n",
       "ETacDNi2vtvc7L0ROdw0AjoSotQVkKSvHQz/wRO1lScGModBFbDMaNRN1A4tUBCS3lk7BWhQkgpD\n",
       "lG4852/+7DWr1R3uHAZVQDsbh6ZPN7CyxUrCzJMRouusj0ipRwD2uKm0Zn5d2dFwzX1TCGhnmdGo\n",
       "G62Nna+isiUqhkzuKrkQaJlPEv5mFl2fvGg2t/VnzkEV8F5ioioOEWkLG86fvbpthynjdhXYZziQ\n",
       "x1hC9J2NFyi8vCTt91Fh04KGip0AaG9zuCk2wQCVyoNU3Hjezee9bq92duzzTmxsRJoy+jEZZZYo\n",
       "GTKJ6SJngdJqAfRzpze0+jHreUtPc7gpBLQnIYK6BYp/uGhw9YK688eu7v95ysgshcg9qSLMo3JC\n",
       "4jqLKQFBgdKDPoQ+Pltb8dUyQLpeDjeVgI6EgLIQFT5tEl3rn2losHVsexbZ3EyT9wE1uGdkIPcy\n",
       "BGxn8QUq1QrA5nqW5i2tLqvrrM9NK6AdkVIvL9E9bZL/oyfMVd/jqvc8LylzRBKDJSzIExwhQzuL\n",
       "QYGQj4rHfFTc8mUdu3E7yoLtbTe9gI4EqVgVkug2i5+uXGo919ixbRog+3fTbQ8qJe4ZOYNfMoTI\n",
       "OoshUNosgO60AisX15aeI2PSIp5KiFLI9ubb1vV3Qb2ltwLakUCDAkWX7/nHKRmmGIl9VgYsUhJm\n",
       "2NXjKYADtM1ygne9QQDIXlk49FBstMKx66D1v4+XuQr7vqTe0VcBHQlRWiOCbmmSYe2SqtL6q5rJ\n",
       "zsTb7lKx3FKOYC4DoqyS/B5bvLPxvD9Qtf6saxYLQGJErmDOdOMr/zo96km1nElr8bmPOBwI9COv\n",
       "HnFPRIwmkSOv9kcAS4heRsidOkpeWBgZM+UBrTFAXNYL5Vf2ii9c1trNzpYdaoVil3WIc+wdk+gQ\n",
       "noie3ecCcxt9ITcLAPWt/laGEO/9U6PmzZkenTtsSMQ8uYywJVW+grCstAvCIaAdArAsIWkRDDs/\n",
       "KzLm2YcjY1Lv0UdW73HabE9n6V66cxSzfEmuJssTpKGVp+0vHq73FwL46eOjpMpbRAnNmJFrGJNu\n",
       "Ukf9Yrz+3rghiumCKNXXWPhLYcjxGsIpoCMsIRoFITkW8AuyM8jC1+/QLx4bozCEJIq38+1rtpR6\n",
       "V/yzb8eBlRb3fo5l783N0CWolAzJHaVNzkrTzlEp2bQ2q3TC5gn6wpnoQAmwSiGh2GitnTmVMc5O\n",
       "UyfKWUKCIsU7+fZDKwqdT6DDpvkzAX4/+AMFjk0tDp5GRXLpQ2MUmhgDp5gxQT8+Y7hyPsMi8uxF\n",
       "71H0oebujHALECjFKaW9Lm68n18wXp2kVzIcABytD5iXFzg+WVXkegpAsOOYziqo0OkK76GyquC3\n",
       "ltZAzMhhqlSNmmWTE5T6e3IN05ITFLM4GdN0vtZ3ob8Jh1NAKXFbm5PtLU/eqTSlGjkNAJjdgn/N\n",
       "aedXa0tdi7+t9G0FIF49rtMSEgAs1kDLkTPO7ebm4IUWeyh1bKomXqlgMG6kJmHcSM0clYLJ8XtR\n",
       "1GTnbV3F6I5wCGikAb402npp1h1s7LQUZZSMIfALFOuL3UUrfnS8+rez7v9qcold5tilgHbO1fjK\n",
       "9ubb17u9oshxzMiUBKXWqJNxd+fqb0tLVs4lILFnK71H0Ind7uiPgACVcFJlrb0tV6DzxqqTIhUM\n",
       "CwDf1/rrVhTa33/3pGPxJYdQ2l2cbgVcQSosdx8uqnDtbGjh9SlDVSMNWhlnilfqZk42Th2ZpLpf\n",
       "xrHec5e815zrr0dfBZSwzkZfqsv+1FS1KUknUwPARVvItfKUY+cn57yP7qv07UE3p8B2uhUwLk09\n",
       "e0SCOrK+hbdYHYLjRIl71wWzv9jpEoeOHhGRrJAzyEyNiJuUqX0g2sBN5kGK6y2Blp5M3lsB9Qh4\n",
       "y2Ja6x6+i0ucmKgwMATwhSjdUu49tKrQ/pvN5d53ml2CGwCmJipmKjgmyuaXzNeL2a0AkQ01Th5j\n",
       "2DktO3Jyk8f9vcOBQHV94OK+fPumJmvQHxJoWkaKWq9Vs+yUsbq0zGT1I4RgeH2b5wef7+c7bl8F\n",
       "eKgoHVVZa8ZPEORzR6sT1BzDUAD/d9F78e2Tzv99v8D+fLVTqAKAsbGamKey1Mt9Ann4eH3gTXTz\n",
       "idWtAJ8PQWOk7NzSeQn/OTHDuEikVF1R4z8BQCy+6D1aWRfY0tTGG2OM8rRoPaeIj5ZHzJxszElN\n",
       "VM8K8JS5WOfv8mzRnQAKoEhmt8gyPM4lU9SmBK1MCQBnW4KONT86v1hZ1PbwSXPw4JWussVjtH9Y\n",
       "NCoiL9UoH/6PSu8jFrfY2t36erQHXLIEakMi1SydmzB31h3GGXFDFNPaK8Rme9B79Ixrd0WN+1ij\n",
       "NRQ/doRmuFLBkHSTOm5GruG+pFjFdAmorG4IXH1Qua6ASniclfFtDYt+oUjKipPrCQB7QBQ2lrgP\n",
       "fFzm+9XWUtcqJ3/5vDLDpJ79XHZk3u8nGZ42qlj1+ydtbxysCezrydp6ugmipNJ7WBPB5tydY0jP\n",
       "HaVNzs3QzeE4ZpTbI+ZbnSFPbVOw9vsfnVvqWnirPyCNGD08IlqtYkh2hjZ5dErEQzoNm+6ykyOt\n",
       "Lt5/PQEuSRRKo22VkydK+vvS1XEKlhCJAnsqvcVvH7f/ZU2R67eXbMEGAMiIV5oWZWiWvz5Fv2xG\n",
       "sjqNJQRvn3Rs2lji/lNP19VjAQDgD7FHhujZB9OGqYxRkZxixgRDVlqS6uEOFaJUVu0rPFzctrnF\n",
       "JqijImVp8dEKVWyUXDk92zAuMZ6bFwpBU1HrOw6AdhQgUooChb0+ItMbWJitSo5Ws3IAOGEOtL53\n",
       "0vHZih9sC4vtofZ7Qu6523V/fmGcds1TY3V36pUsBwAbSlxnVh2xLfAD/IAIMDf7XYIkNmXfpp2l\n",
       "18rkAJAy9HKFaIr/qULkeQQKy9zf1JgDB2uaeFNGijo5QsUyacNUUTOnGO42xSnv4oOwpDi1zYkc\n",
       "efUc3I5Gk6PhyTuVKaOGyLUAYPGIoY9Pu/atL/L92+4q9wbflRJ2Trpm/jPjdBtfnqB/dIThcl8A\n",
       "KG7hbRuKnb8qsQsVvVlTrwQAQMUlf3kwJI24Z4JhPMtcfng5GcH49GsrxJpGvvHIaeem2ma+KSjQ\n",
       "lIwUdYyCY8j4dE1KzijNnIP2llF2wcXNnsoapw9XxsgYAl6k+KzUXbi2yP3KR2ecf6z3BFsBICdW\n",
       "nvnIaG3eHybqX7vbpEqUMT+9OL4Qpe8VON7dXuFd39v19FoAABRVePbGGuXTszO0P7tu6lghUonE\n",
       "llRdrhArLvmKdh9u29jcFiRRkfLUxBiFNiqSU9icoZQHo5mYBI1MBgBH6wMNb+U7Pnw337H4gi1Y\n",
       "ciWs+uks3Z9fztUvfzxTm9Ne8XXkvQLHNytOOZeiD4e0PgkAIAYCYknKUNUDSXEKzdWNpnil7r4p\n",
       "xqkjTarZMtk/K8TQ6Qve78qqvXurGwIJqcOUKfUWHsm8KGvxSP68YudXq4pcj39X49uOK2X142O0\n",
       "Tz5/u/7TVybqH0rSya6ZBwD21/gubbrgWdDgEOx9WUhfBaC2ibcEBYm7a7x+ukrBMNcEZggyR0TE\n",
       "T8zUPjikQ4VosQZbTpS4vqizBKvqmvjsqnpfzaZyx9JPiz1/bfGKdgD45XB1zoIMzYbfTdS/NClB\n",
       "Gct0USiY3YL/g0LHy/uq/Ef6uo5+n0R/vyhp17Klpge763f8rMu6YU/zrn2nml+2WtH+Z+5IAAFc\n",
       "2bUTdTDOSNa9+cQY7YLsOIXhevEkCvzph7a8laecz/Un/z4/Ae04XeL3UQb57IwU9ZDr9UuKVajv\n",
       "nxp1+1UVIo/LjztZkKH59fO3G/JemqCfmaCRqbqbd90ZZ8FfjtkfAyD0J/9+C2h1hDwsSxvGjNDc\n",
       "b4zk5NfrSwiQblLHzZhg+Jf4aPlUwpDqkQqa9nimbt1/TDH8OitGMaQnj+RJS6B1fbF7SY1TqO5v\n",
       "/v0WAADl1f7zokgS7s7VT2DZ7pegUjBM7mjtiDZbcN4j0YrHH0rXpCtY0qPX0cVL0rv5jv/ZXend\n",
       "0u/EESYBAFBU4T4Qa5TflZOhTe7pmKpaP8kCVUVw1+yhXfJWvn1P3hnXi33JsTN6PnP3hHZ8Z3/h\n",
       "aLHzmkNPuPj7Bc/F/Q38CwjTpSwQXgE4Vmwry9tpfq/ZFgqFMy4AVDtCvi8rvMvOmv0N4YwbVgEA\n",
       "sPM72/KVnzfspmH7HQGCRLG2yL1+z8XwvPcdCbsAANh+xPzstgMtxeGKt+6MK3/tacfvwhWvIwMi\n",
       "oKEBtm0H7W+UVfkc/Y1V0BhoPlDr/w1w/eu1vjIgAgDg22OtX6/eYfnEz/focrZTHAFR+PSs56/7\n",
       "q32nwpjazxgwAQCwcU/T62t3WL7r6/jVRa6/byp1rei+Z98ZUAEAhEPHPc8fKnTU9nbgtnOe8h0l\n",
       "9hcGIqmODLQAHCy2Xti6v/XNRivf43f4fFvIteu854+VHnR7q9tfBlwAAGz+pnndB9vM26UebAe8\n",
       "SLHujPOTPVW+rwY+sxskAAC2HrA8t2Vvc7ffP1r9o+vwR2dcr92InIAbKKC1FZ5tB1tf+/G8p8sv\n",
       "N/9Q5zd/XR34LYCwV5JdccMEAMDBk45DH243r/X4xGvqxFa/GNpS7n6rwOwNWwHVE26oAADYurf1\n",
       "zx/utOzt+DMKYM0p17YtZZ5VNzqfsB2HewG1WXE8PoZ7gOclbTIvynZf9JV+fqZtfgs/8F/Nu5rB\n",
       "EIBmJ+8QRMmpU7EzGRsf2FzuePqYRbzh/zE26EwdrT10f6r6o8HOYzCJB9Dpff8tbnGLG8L/A/WE\n",
       "roTBs2RqAAAAAElFTkSuQmCC'\n",
       "     style='height:25px; border-radius:12px; display: inline-block; float: left; vertical-align: middle'></img>\n",
       "\n",
       "\n",
       "  <img src='data:image/png;base64,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'\n",
       "       style='height:15px; border-radius:12px; display: inline-block; float: left'></img>\n",
       "  \n",
       "\n",
       "\n",
       "  <img src='data:image/png;base64,iVBORw0KGgoAAAANSUhEUgAAACAAAAAgCAYAAABzenr0AAAABHNCSVQICAgIfAhkiAAAAAlwSFlz\n",
       "AAAFMAAABTABZarKtgAAABl0RVh0U29mdHdhcmUAd3d3Lmlua3NjYXBlLm9yZ5vuPBoAAArNSURB\n",
       "VFiFnVd5VFNXGv/ee0kgGyQhbFoXIKCFYEXEDVErTucMoKUOWA/VLsNSLPQgFTOdyrHPiIp1lFIQ\n",
       "OlaPShEG3EpPcQmISCuV1bQ1CLKIULeQhJA9JO+9+UMT0x5aPfOdc895373f/e7v/t537/ddBF5Q\n",
       "JBIJl81mJwCACEVRQBCEQhAEAQCgnghCURRCkmS7Wq2+WlJSYn0Rv8jzDHAcD0EQJIVGo5mFQuGF\n",
       "jIyMu39kq1KpkOrq6gU6nS6aIAiGzWY7VVBQ0P9/AcjNzWXy+fxcOp2uiY+Przm0d6+n8dblv/Fo\n",
       "kzM4SzYfPlRePvFnjnt6ehh1dXVv2mw2nlar/byoqMj8wgBwHBchCJIZEhJSeu1yHVi7vtu02t8+\n",
       "NykQ7BMWoOUMhXQsXLv5IQAwSJJEEASxcDicoeTk5DtCoZBy9XX69Gnv3t7ebJIky3EcH3guAKlU\n",
       "GoGiaOKWLVsOvhs7/9XXPMde3/IyIFbMnaPDuD5AUdQuOf2XlD0npTExMWYAgNbWVpZcLg8xGAzB\n",
       "JEnSvby82tPT052LaTQatLy8fBtJkt/s3Lnz5h8CwHFcRKPRNu/YsePAjh072KTs0IGCxRg8RgUB\n",
       "TGpSx6cmHgMAfNqN6Xa1GvJ/D35gYAAViURkcXHxUrPZHDRv3rxv4uLiDI7xPXv2bLdYLBUFBQWD\n",
       "jj7M8ZGbm8tkMpmSrKysQiaTScXGxtpqL7dManT6tcu5mgEWWJyOhicozpk+c3NsbKzNFcBbWWEf\n",
       "1Td9/upA30i3ZJv0h8bGxiSFQmFcuHDhOACAWCy+0d3dvX3lypUtzc3N9t8AiIuLk4SEhByLiooy\n",
       "AgAcO3ZsNlPgH3Cttb35JZo+bCYXIQAA9MDiUW7sWS1KN687w6Mera2twa2trfMvXboUOS28Pyb1\n",
       "U08McRtf/sXBSmt5cc35pqamVQqFwhoZGallMpnU/fv3e7RaberVq1d/AABAn1IfQqfTNRs3blQB\n",
       "AFy+fJk7Nja2XCKRnD3dNSorusPq6NfTPR+gPiEEoLRFXO1tS2+zavv27ReftjNttyr0S1/j0rUP\n",
       "PEJQwNwQYGgAACQSyXmNRhMtk8lYAAApKSlKDMP0+fn5QU4ACIKkxMfH1zjYuHnz5uspKSlOfdX7\n",
       "u68fvOePcCzKQR4YVCgATGfa/F3pnzaHWOAXSDyaMCqH2+r8VXErP3D+snXr1tV2dXW94dATExOr\n",
       "6XT6JgAAVCKRcDEMM4WHh9sAAHJyUqNu//wDymKx7AAAVVVVPiaTKXxByrYMvBsxEMSTwPXhuL+8\n",
       "e/fu9fv371+flvbemogYNz+TnsBOFEwMFO8/KzEYDKFVVVX+AAChoaGT7u7ud48ePRro0DEMs+bl\n",
       "5bFRNpud4O3tfdGBzq5uy/5wTUPM/q2zC9atmbVqeHg4Pi0t7WxGRoZFH5rw76I7LI8HqHfwPL7d\n",
       "rfVagzw1NfW81t4ePUfsP/OrnWZ6fPSuUqFQSEkkkrOjo6OvuQR5q0ajiXLoPj4+lzgcTjwKACLH\n",
       "9SqXy2kzhBO8haGo+UA2wZW+p880DxeveGt9aHx9fT09ctlq3sC0NT9e6xsbjuZblSxl7wKtVotM\n",
       "m6PnXvlmZJBtX91CEMQsxyJsNlteXl4udugIghAajQYFAEhPTx9AEGQOimGY8y4oLt63KlJkdB4t\n",
       "P282Z/c/dPrDH04ktJ9P2tfWXP3+2o1vHzunEp6Xq0lsGt08KzUrcSGTQ3n3XeefLCs5UqnT6Rap\n",
       "VCoEACA7O/snvV4f5gJooLa2NsihoygKKEVRzquTND2OCpttGXdG1tOxwOlgzdvE9v30rV+m3W5I\n",
       "2jfJNQmLH85QUUzPNTwvkAx0+vVGhq2/VV9fT+dyuZ01NTXOXQOA3fGxevXq2waDYY5r8KIoij5b\n",
       "jzB5Cz2oKdOo0erOm+1tVuVtBMZXElNMRJR1fvvjx9iPLQ/RjpuB0Xu/Vp7YmH1864YNG3oNBkPw\n",
       "VD7mzp1rJUnSzZUBmqsBggAgGFC/n6jVA+3WoN3tu1Gg39cg2tEx1Cg3CIJHsclxnl2HRorMN8Z0\n",
       "fRW+vr7GJ36Q56Z5h9BIknzGAMJWtvdQYs0EZe3/FSwqk5tpXEMb1JoYD+n8xRdQJl/fMPEgzKhS\n",
       "L40KCD7lGzg92qIyovpb3y/msT2un2psvFpWVvYyl8vtc1nDSXFXV5c7iqLOtEyS5LNBAADfWeKm\n",
       "Ly4uuvR1++sfv51/P5sfnHm2/Iy+mBmwsaHJbpt+Q0jHSS7TZ/PSNVkNJ/973OxtemD1s91CPb12\n",
       "h9MfvZsk5meo1eqo5ORkxTNWn7HR1tY2l8PhOAsUiqIolCRJcETtv/61qzNySYK5trZ2TCgUUiwW\n",
       "S1FSUhLR+bA/kAzwXcAbHa/cFhrTXrJ/v+7IkSPu3Je4Xm5eboJv2wba5QbO5fQwxhsP679Y+nFO\n",
       "jgAAoKSkJILFYjnBGI1G0YYNGwYBnqRoiqIQlKKojurq6gUAAAKBgKQoiuGYkJWVpTCZTOKmI1Xd\n",
       "HwnDcm+cOnOMw+H0FxYWbqpvqv/r9EV+bky+O+/QoUPiqJRt9JphTLFHbKBCR87tWL9EPN9oNIZn\n",
       "ZWUpXHaMCQQCEgCgsrIyEgBuoGq1+qpOp4t2GPH5/BvFxcVLHXpgYGDD8ePH/56Xl2cCAMjMzOxP\n",
       "S0s7pWfow4RCbz/fAF9RT0+P9yeffHJySSqev+9nxLD1FaAlTR8vlJ8vxxzsFhUVLRMIBB0OvwaD\n",
       "YRlFUdfQkpISK0EQ9J6eHgYAQEZGxl2z2Rw0MjJCBwBITk5+xOVyfzpw4ECSw5lQKKQIbxtJm4EN\n",
       "8eZ7jPz0oNv+dK5FG/jq54eH+IFr/S1KabBy0UerAvI+++wzD4vFEpCWljYEACCTyVh2ux3FcXwS\n",
       "BQCw2WxVdXV1bzrQRURE1FVVVTn1zMzM/pkzZ35/9OjRd0pLS19RqVQIy4/tCwDgOcPTQvFQEQBA\n",
       "aWnpK0ERK2LbyVllN341GUJ4YDu8zD5bKyur7O+85tx9Z2fnO1ar9QjA04KkpaVFs2LFir8olcq7\n",
       "YWFhJpFINNnX16drbGyMjY6Ovg0AIBaLjcuXL5d3d3d7XbhwIW704b3F479MeD1qVfJ5Og/bvb4R\n",
       "LwaDMZabm9uwflNa/z/3HOIv5NsDEK7XS7FeevXPvYNLvm5S/GglCK5KpZorlUobXE8g5ObmMqVS\n",
       "6UG1Wu1BURSHoijOiRMnwgoLC7coFAqBo+9Fm0KhEKStmvvto3TeucFN7pVJYbytarXaQyqVHsRx\n",
       "3N15TF1BuBaljr4rV66wOzo63mAymXdzcnKuwwtIUVHRMqvVGkgQxMV7NXvyJijGvcNXB/7z5Zdf\n",
       "bicI4gSO40NTAgD4bVnuODIAT2pElUq1FEEQO4fD6QsPD++fqixHEATj8/ntjoCrqKhwS0hIsJWV\n",
       "leURBHEOx3G563pT3tn5+flBDAbjg6CgoMMpKSlK17GhoSFMJpMFPk04DJIkEQzDzCwW6+5UD5Oa\n",
       "mhrfO3fufECS5GHXnf8pAAAAHMfdURTdimGYPjExsTo0NHTyj2ynEplMxurs7HyHIAiKJMlSHMct\n",
       "U9k9N2vl5+cH0en0TRiGWX18fC65vnh+LxqNBq2oqFhgMpmi7XY7arVaj+zdu/fxn/l/4bSZl5fH\n",
       "5nK5CQAQMtXznCRJePpEbwOAZhzHX4ix/wHzzC/tu64gcwAAAABJRU5ErkJggg=='\n",
       "       style='height:15px; border-radius:12px; display: inline-block; float: left'></img>\n",
       "  \n",
       "\n",
       "\n",
       "</div>\n"
      ]
     },
     "metadata": {},
     "output_type": "display_data"
    }
   ],
   "source": [
    "import os\n",
    "import h5py\n",
    "import numpy as np\n",
    "import pandas as pd\n",
    "import geopandas as gp\n",
    "from shapely.geometry import Point\n",
    "import geoviews as gv\n",
    "from geoviews import opts, tile_sources as gvts\n",
    "import holoviews as hv\n",
    "gv.extension('bokeh', 'matplotlib')\n",
    "import shapely\n",
    "import earthaccess\n",
    "import warnings\n",
    "from shapely.errors import ShapelyDeprecationWarning\n",
    "warnings.filterwarnings(\"ignore\", category=ShapelyDeprecationWarning) "
   ]
  },
  {
   "cell_type": "markdown",
   "metadata": {},
   "source": [
    "## 1.2 Set Up the Working Environment and Retrieve Files<a id=\"1.2\"></a>\n",
    "#### The input directory is defined as the current working directory. "
   ]
  },
  {
   "cell_type": "code",
   "execution_count": 2,
   "metadata": {
    "tags": []
   },
   "outputs": [
    {
     "data": {
      "text/plain": [
       "'/home/jovyan/shared/2023SSC/'"
      ]
     },
     "execution_count": 2,
     "metadata": {},
     "output_type": "execute_result"
    }
   ],
   "source": [
    "inDir = os.getcwd()   # Set input directory to the current working directory\n",
    "os.chdir(inDir)\n",
    "data_dir = inDir.rsplit('2023-ssc')[0] + 'shared/2023SSC/'\n",
    "data_dir"
   ]
  },
  {
   "cell_type": "markdown",
   "metadata": {},
   "source": [
    "## 1.3 Authentication\n",
    "Login to your NASA Earthdata account and create a .netrc file using the login function from the earthaccess library. If you do not have an Earthdata Account, you can create one here.\n"
   ]
  },
  {
   "cell_type": "code",
   "execution_count": 3,
   "metadata": {
    "tags": []
   },
   "outputs": [
    {
     "name": "stdout",
     "output_type": "stream",
     "text": [
      "EARTHDATA_USERNAME and EARTHDATA_PASSWORD are not set in the current environment, try setting them or use a different strategy (netrc, interactive)\n",
      "You're now authenticated with NASA Earthdata Login\n",
      "Using token with expiration date: 12/24/2023\n",
      "Using .netrc file for EDL\n"
     ]
    },
    {
     "data": {
      "text/plain": [
       "<earthaccess.auth.Auth at 0x7fa6508d1a20>"
      ]
     },
     "execution_count": 3,
     "metadata": {},
     "output_type": "execute_result"
    }
   ],
   "source": [
    "# authenticate\n",
    "earthaccess.login()"
   ]
  },
  {
   "cell_type": "markdown",
   "metadata": {},
   "source": [
    "# 2. Search for GEDI Granules \n",
    "\n",
    "#### Below, `earthaccess` library is used to find GEDI L2B V2 Granules for an area of interest and a temporal range. The .h5 file will be downloaded to the `data` folder. You will need to download the files in order to execute this tutorial.  \n"
   ]
  },
  {
   "cell_type": "code",
   "execution_count": 4,
   "metadata": {
    "tags": []
   },
   "outputs": [
    {
     "name": "stdout",
     "output_type": "stream",
     "text": [
      "Granules found: 5\n",
      " Getting 5 granules, approx download size: 1.59 GB\n"
     ]
    },
    {
     "data": {
      "application/vnd.jupyter.widget-view+json": {
       "model_id": "9b493b314b304d5a85bb8efc6eca0c28",
       "version_major": 2,
       "version_minor": 0
      },
      "text/plain": [
       "QUEUEING TASKS | :   0%|          | 0/5 [00:00<?, ?it/s]"
      ]
     },
     "metadata": {},
     "output_type": "display_data"
    },
    {
     "name": "stdout",
     "output_type": "stream",
     "text": [
      "File GEDI02_B_2022154163608_O19677_02_T01836_02_003_01_V002.h5 already downloaded\n",
      "File GEDI02_B_2022155015315_O19683_03_T05652_02_003_01_V002.h5 already downloaded\n",
      "File GEDI02_B_2022158145957_O19738_02_T03565_02_003_01_V002.h5 already downloaded\n",
      "File GEDI02_B_2022162224038_O19805_03_T06723_02_003_02_V002.h5 already downloaded\n",
      "File GEDI02_B_2022159001702_O19744_03_T08957_02_003_01_V002.h5 already downloaded\n"
     ]
    },
    {
     "data": {
      "application/vnd.jupyter.widget-view+json": {
       "model_id": "8463ed650e364684a54a2ca5e7ab73c2",
       "version_major": 2,
       "version_minor": 0
      },
      "text/plain": [
       "PROCESSING TASKS | :   0%|          | 0/5 [00:00<?, ?it/s]"
      ]
     },
     "metadata": {},
     "output_type": "display_data"
    },
    {
     "data": {
      "application/vnd.jupyter.widget-view+json": {
       "model_id": "d47ea502d8ce449b9dc3b67eab0fec77",
       "version_major": 2,
       "version_minor": 0
      },
      "text/plain": [
       "COLLECTING RESULTS | :   0%|          | 0/5 [00:00<?, ?it/s]"
      ]
     },
     "metadata": {},
     "output_type": "display_data"
    }
   ],
   "source": [
    "# Define query parameters\n",
    "conceptID = [\"C1908350066-LPDAAC_ECS\"]\n",
    "bbx = (-91.5,18,-89,19)  # Lower lon, lower lat, upper lon, upper lat\n",
    "tempRange = ('2022-06-01', '2022-06-30')\n",
    "# search \n",
    "results = earthaccess.search_data(\n",
    "    # short_name = 'GEDI02_B'\n",
    "    concept_id = conceptID, \n",
    "    bounding_box = bbx,      \n",
    "    temporal=tempRange,\n",
    "    count=500\n",
    ")\n",
    "# download\n",
    "downloaded_files = earthaccess.download(\n",
    "    results,\n",
    "    local_path= f'{data_dir}',  # Update the directory only to avoid overwritting by attendees \n",
    ")"
   ]
  },
  {
   "cell_type": "code",
   "execution_count": 5,
   "metadata": {
    "tags": []
   },
   "outputs": [
    {
     "data": {
      "text/plain": [
       "['GEDI02_B_2022155015315_O19683_03_T05652_02_003_01_V002.h5',\n",
       " 'GEDI02_B_2022159001702_O19744_03_T08957_02_003_01_V002.h5',\n",
       " 'GEDI02_B_2022158145957_O19738_02_T03565_02_003_01_V002.h5',\n",
       " 'GEDI02_B_2022154163608_O19677_02_T01836_02_003_01_V002.h5',\n",
       " 'GEDI02_B_2022162224038_O19805_03_T06723_02_003_02_V002.h5']"
      ]
     },
     "execution_count": 5,
     "metadata": {},
     "output_type": "execute_result"
    }
   ],
   "source": [
    "gediFiles = [g for g in os.listdir(data_dir) if g.startswith('GEDI02_B') and g.endswith('.h5')]  # List all GEDI L2B .h5 files in inDir\n",
    "gediFiles"
   ]
  },
  {
   "cell_type": "markdown",
   "metadata": {},
   "source": [
    "\n",
    "# 3. Import and Interpret Data <a id=\"importinterpret\"></a>"
   ]
  },
  {
   "cell_type": "markdown",
   "metadata": {},
   "source": [
    "## 3.1 Open a GEDI HDF5 File and Read File Metadata <a id=\"2.1\"></a>\n",
    "#### Read the file using `h5py`. "
   ]
  },
  {
   "cell_type": "code",
   "execution_count": 6,
   "metadata": {
    "tags": []
   },
   "outputs": [
    {
     "data": {
      "text/plain": [
       "'/home/jovyan/shared/2023SSC/GEDI02_B_2022155015315_O19683_03_T05652_02_003_01_V002.h5'"
      ]
     },
     "execution_count": 6,
     "metadata": {},
     "output_type": "execute_result"
    }
   ],
   "source": [
    "L2B = f'{data_dir}{gediFiles[0]}'\n",
    "L2B"
   ]
  },
  {
   "cell_type": "markdown",
   "metadata": {},
   "source": [
    "#### The standard format  for GEDI Version 2 filenames is as follows:\n",
    "> **GEDI02_B**: Product Short Name    \n",
    "**2022159001702**: Julian Date and Time of Acquisition (YYYYDDDHHMMSS)  \n",
    "**O19744**: Orbit Number   \n",
    "**03**: Sub-Orbit Granule Number (1-4)  \n",
    "**T08957**: Track Number (Reference Ground Track)   \n",
    "**02**: Positioning and Pointing Determination System (PPDS) type (00 is predict, 01 rapid, 02 and higher is final)  \n",
    "**003**: PGE Version Number    \n",
    "**01**: Granule Production Version  \n",
    "**V002**: Product Version  "
   ]
  },
  {
   "cell_type": "markdown",
   "metadata": {},
   "source": [
    "#### Read in a GEDI HDF5 file using the `h5py` package."
   ]
  },
  {
   "cell_type": "code",
   "execution_count": 7,
   "metadata": {
    "tags": []
   },
   "outputs": [],
   "source": [
    "gediL2B = h5py.File(L2B, 'r')  # Read file using h5py"
   ]
  },
  {
   "cell_type": "markdown",
   "metadata": {},
   "source": [
    "#### Navigate the HDF5 file below. "
   ]
  },
  {
   "cell_type": "code",
   "execution_count": 8,
   "metadata": {
    "tags": []
   },
   "outputs": [
    {
     "data": {
      "text/plain": [
       "['BEAM0000',\n",
       " 'BEAM0001',\n",
       " 'BEAM0010',\n",
       " 'BEAM0011',\n",
       " 'BEAM0101',\n",
       " 'BEAM0110',\n",
       " 'BEAM1000',\n",
       " 'BEAM1011',\n",
       " 'METADATA']"
      ]
     },
     "execution_count": 8,
     "metadata": {},
     "output_type": "execute_result"
    }
   ],
   "source": [
    "list(gediL2B.keys())"
   ]
  },
  {
   "cell_type": "markdown",
   "metadata": {},
   "source": [
    "#### The GEDI HDF5 file contains groups in which data and metadata are stored.\n",
    "#### First, the `METADATA` group contains the file-level metadata."
   ]
  },
  {
   "cell_type": "code",
   "execution_count": 9,
   "metadata": {
    "tags": []
   },
   "outputs": [
    {
     "data": {
      "text/plain": [
       "['DatasetIdentification']"
      ]
     },
     "execution_count": 9,
     "metadata": {},
     "output_type": "execute_result"
    }
   ],
   "source": [
    "list(gediL2B['METADATA'])"
   ]
  },
  {
   "cell_type": "markdown",
   "metadata": {},
   "source": [
    "This contains useful information such as the creation date, PGEVersion, and VersionID. Below, print the file-level metadata attributes."
   ]
  },
  {
   "cell_type": "code",
   "execution_count": 10,
   "metadata": {
    "tags": []
   },
   "outputs": [
    {
     "name": "stdout",
     "output_type": "stream",
     "text": [
      "PGEVersion :  003\n",
      "VersionID :  01\n",
      "abstract :  The GEDI L2B standard data product contains precise latitude, longitude, elevation, height, cover and vertical profile metrics for each laser footprint located on the land surface.\n",
      "characterSet :  utf8\n",
      "creationDate :  2022-09-22T17:38:15.690108Z\n",
      "credit :  The software that generates the L2B product was implemented within the GEDI Science Data Processing System at the NASA Goddard Space Flight Center (GSFC) in Greenbelt, Maryland in collaboration with the Department of Geographical Sciences at the University of Maryland (UMD).\n",
      "fileName :  GEDI02_B_2022155015315_O19683_03_T05652_02_003_01_V002.h5\n",
      "language :  eng\n",
      "originatorOrganizationName :  UMD/GSFC GEDI-SDPS > GEDI Science Data Processing System\n",
      "purpose :  The purpose of the L2B dataset is to extract biophysical metrics from each GEDI waveform. These metrics are based on the directional gap probability profile derived from the L1B waveform and include canopy cover, Plant Area Index (PAI), Plant Area Volume Density (PAVD) and Foliage Height Diversity (FHD).\n",
      "shortName :  GEDI_L2B\n",
      "spatialRepresentationType :  along-track\n",
      "status :  onGoing\n",
      "topicCategory :  geoscientificInformation\n",
      "uuid :  f7ecc77a-3372-4f53-9131-f110b4bbfb5c\n"
     ]
    }
   ],
   "source": [
    "for g in gediL2B['METADATA']['DatasetIdentification'].attrs:\n",
    "    print(g, \": \", gediL2B['METADATA']['DatasetIdentification'].attrs[g]) "
   ]
  },
  {
   "cell_type": "markdown",
   "metadata": {},
   "source": [
    "## 3.2 Read SDS Metadata and Subset by Beam <a id=\"2.2\"></a>"
   ]
  },
  {
   "cell_type": "markdown",
   "metadata": {},
   "source": [
    "####  The GEDI instrument consists of 3 lasers producing a total of 8 beam ground transects. The eight remaining groups contain data for each of the eight GEDI beam transects. For additional information, be sure to check out: https://gedi.umd.edu/instrument/specifications/."
   ]
  },
  {
   "cell_type": "code",
   "execution_count": 11,
   "metadata": {
    "tags": []
   },
   "outputs": [
    {
     "data": {
      "text/plain": [
       "['BEAM0000',\n",
       " 'BEAM0001',\n",
       " 'BEAM0010',\n",
       " 'BEAM0011',\n",
       " 'BEAM0101',\n",
       " 'BEAM0110',\n",
       " 'BEAM1000',\n",
       " 'BEAM1011']"
      ]
     },
     "execution_count": 11,
     "metadata": {},
     "output_type": "execute_result"
    }
   ],
   "source": [
    "beamNames = [g for g in gediL2B.keys() if g.startswith('BEAM')]\n",
    "beamNames"
   ]
  },
  {
   "cell_type": "markdown",
   "metadata": {},
   "source": [
    "#### One useful piece of metadata to retrieve from each beam transect is whether it is a full power beam or a coverage beam. "
   ]
  },
  {
   "cell_type": "code",
   "execution_count": 12,
   "metadata": {
    "tags": []
   },
   "outputs": [
    {
     "name": "stdout",
     "output_type": "stream",
     "text": [
      "BEAM0000 is a Coverage beam\n",
      "BEAM0001 is a Coverage beam\n",
      "BEAM0010 is a Coverage beam\n",
      "BEAM0011 is a Coverage beam\n",
      "BEAM0101 is a Full power beam\n",
      "BEAM0110 is a Full power beam\n",
      "BEAM1000 is a Full power beam\n",
      "BEAM1011 is a Full power beam\n"
     ]
    }
   ],
   "source": [
    "for b in beamNames: \n",
    "    print(f\"{b} is a {gediL2B[b].attrs['description']}\")"
   ]
  },
  {
   "cell_type": "markdown",
   "metadata": {},
   "source": [
    "#### Below, pick one of the full power beams that will be used to retrieve GEDI L2B shots in next section. "
   ]
  },
  {
   "cell_type": "markdown",
   "metadata": {},
   "source": [
    "#### Identify all the objects in the GEDI HDF5 file below. \n",
    "Note: This step may take a while to complete."
   ]
  },
  {
   "cell_type": "code",
   "execution_count": 13,
   "metadata": {
    "collapsed": true,
    "jupyter": {
     "outputs_hidden": true
    },
    "tags": []
   },
   "outputs": [
    {
     "data": {
      "text/plain": [
       "['BEAM0101/algorithmrun_flag',\n",
       " 'BEAM0101/ancillary/dz',\n",
       " 'BEAM0101/ancillary/l2a_alg_count',\n",
       " 'BEAM0101/ancillary/maxheight_cuttoff',\n",
       " 'BEAM0101/ancillary/rg_eg_constraint_center_buffer',\n",
       " 'BEAM0101/ancillary/rg_eg_mpfit_max_func_evals',\n",
       " 'BEAM0101/ancillary/rg_eg_mpfit_maxiters',\n",
       " 'BEAM0101/ancillary/rg_eg_mpfit_tolerance',\n",
       " 'BEAM0101/ancillary/signal_search_buff',\n",
       " 'BEAM0101/ancillary/tx_noise_stddev_multiplier',\n",
       " 'BEAM0101/beam',\n",
       " 'BEAM0101/channel',\n",
       " 'BEAM0101/cover',\n",
       " 'BEAM0101/cover_z',\n",
       " 'BEAM0101/fhd_normal',\n",
       " 'BEAM0101/geolocation/degrade_flag',\n",
       " 'BEAM0101/geolocation/delta_time',\n",
       " 'BEAM0101/geolocation/digital_elevation_model',\n",
       " 'BEAM0101/geolocation/elev_highestreturn',\n",
       " 'BEAM0101/geolocation/elev_lowestmode',\n",
       " 'BEAM0101/geolocation/elevation_bin0',\n",
       " 'BEAM0101/geolocation/elevation_bin0_error',\n",
       " 'BEAM0101/geolocation/elevation_lastbin',\n",
       " 'BEAM0101/geolocation/elevation_lastbin_error',\n",
       " 'BEAM0101/geolocation/height_bin0',\n",
       " 'BEAM0101/geolocation/height_lastbin',\n",
       " 'BEAM0101/geolocation/lat_highestreturn',\n",
       " 'BEAM0101/geolocation/lat_lowestmode',\n",
       " 'BEAM0101/geolocation/latitude_bin0',\n",
       " 'BEAM0101/geolocation/latitude_bin0_error',\n",
       " 'BEAM0101/geolocation/latitude_lastbin',\n",
       " 'BEAM0101/geolocation/latitude_lastbin_error',\n",
       " 'BEAM0101/geolocation/local_beam_azimuth',\n",
       " 'BEAM0101/geolocation/local_beam_elevation',\n",
       " 'BEAM0101/geolocation/lon_highestreturn',\n",
       " 'BEAM0101/geolocation/lon_lowestmode',\n",
       " 'BEAM0101/geolocation/longitude_bin0',\n",
       " 'BEAM0101/geolocation/longitude_bin0_error',\n",
       " 'BEAM0101/geolocation/longitude_lastbin',\n",
       " 'BEAM0101/geolocation/longitude_lastbin_error',\n",
       " 'BEAM0101/geolocation/shot_number',\n",
       " 'BEAM0101/geolocation/solar_azimuth',\n",
       " 'BEAM0101/geolocation/solar_elevation',\n",
       " 'BEAM0101/l2a_quality_flag',\n",
       " 'BEAM0101/l2b_quality_flag',\n",
       " 'BEAM0101/land_cover_data/landsat_treecover',\n",
       " 'BEAM0101/land_cover_data/landsat_water_persistence',\n",
       " 'BEAM0101/land_cover_data/leaf_off_doy',\n",
       " 'BEAM0101/land_cover_data/leaf_off_flag',\n",
       " 'BEAM0101/land_cover_data/leaf_on_cycle',\n",
       " 'BEAM0101/land_cover_data/leaf_on_doy',\n",
       " 'BEAM0101/land_cover_data/modis_nonvegetated',\n",
       " 'BEAM0101/land_cover_data/modis_nonvegetated_sd',\n",
       " 'BEAM0101/land_cover_data/modis_treecover',\n",
       " 'BEAM0101/land_cover_data/modis_treecover_sd',\n",
       " 'BEAM0101/land_cover_data/pft_class',\n",
       " 'BEAM0101/land_cover_data/region_class',\n",
       " 'BEAM0101/land_cover_data/urban_focal_window_size',\n",
       " 'BEAM0101/land_cover_data/urban_proportion',\n",
       " 'BEAM0101/master_frac',\n",
       " 'BEAM0101/master_int',\n",
       " 'BEAM0101/num_detectedmodes',\n",
       " 'BEAM0101/omega',\n",
       " 'BEAM0101/pai',\n",
       " 'BEAM0101/pai_z',\n",
       " 'BEAM0101/pavd_z',\n",
       " 'BEAM0101/pgap_theta',\n",
       " 'BEAM0101/pgap_theta_error',\n",
       " 'BEAM0101/pgap_theta_z',\n",
       " 'BEAM0101/rg',\n",
       " 'BEAM0101/rh100',\n",
       " 'BEAM0101/rhog',\n",
       " 'BEAM0101/rhog_error',\n",
       " 'BEAM0101/rhov',\n",
       " 'BEAM0101/rhov_error',\n",
       " 'BEAM0101/rossg',\n",
       " 'BEAM0101/rv',\n",
       " 'BEAM0101/rx_processing/algorithmrun_flag_a1',\n",
       " 'BEAM0101/rx_processing/algorithmrun_flag_a2',\n",
       " 'BEAM0101/rx_processing/algorithmrun_flag_a3',\n",
       " 'BEAM0101/rx_processing/algorithmrun_flag_a4',\n",
       " 'BEAM0101/rx_processing/algorithmrun_flag_a5',\n",
       " 'BEAM0101/rx_processing/algorithmrun_flag_a6',\n",
       " 'BEAM0101/rx_processing/pgap_theta_a1',\n",
       " 'BEAM0101/rx_processing/pgap_theta_a2',\n",
       " 'BEAM0101/rx_processing/pgap_theta_a3',\n",
       " 'BEAM0101/rx_processing/pgap_theta_a4',\n",
       " 'BEAM0101/rx_processing/pgap_theta_a5',\n",
       " 'BEAM0101/rx_processing/pgap_theta_a6',\n",
       " 'BEAM0101/rx_processing/pgap_theta_error_a1',\n",
       " 'BEAM0101/rx_processing/pgap_theta_error_a2',\n",
       " 'BEAM0101/rx_processing/pgap_theta_error_a3',\n",
       " 'BEAM0101/rx_processing/pgap_theta_error_a4',\n",
       " 'BEAM0101/rx_processing/pgap_theta_error_a5',\n",
       " 'BEAM0101/rx_processing/pgap_theta_error_a6',\n",
       " 'BEAM0101/rx_processing/rg_a1',\n",
       " 'BEAM0101/rx_processing/rg_a2',\n",
       " 'BEAM0101/rx_processing/rg_a3',\n",
       " 'BEAM0101/rx_processing/rg_a4',\n",
       " 'BEAM0101/rx_processing/rg_a5',\n",
       " 'BEAM0101/rx_processing/rg_a6',\n",
       " 'BEAM0101/rx_processing/rg_eg_amplitude_a1',\n",
       " 'BEAM0101/rx_processing/rg_eg_amplitude_a2',\n",
       " 'BEAM0101/rx_processing/rg_eg_amplitude_a3',\n",
       " 'BEAM0101/rx_processing/rg_eg_amplitude_a4',\n",
       " 'BEAM0101/rx_processing/rg_eg_amplitude_a5',\n",
       " 'BEAM0101/rx_processing/rg_eg_amplitude_a6',\n",
       " 'BEAM0101/rx_processing/rg_eg_amplitude_error_a1',\n",
       " 'BEAM0101/rx_processing/rg_eg_amplitude_error_a2',\n",
       " 'BEAM0101/rx_processing/rg_eg_amplitude_error_a3',\n",
       " 'BEAM0101/rx_processing/rg_eg_amplitude_error_a4',\n",
       " 'BEAM0101/rx_processing/rg_eg_amplitude_error_a5',\n",
       " 'BEAM0101/rx_processing/rg_eg_amplitude_error_a6',\n",
       " 'BEAM0101/rx_processing/rg_eg_center_a1',\n",
       " 'BEAM0101/rx_processing/rg_eg_center_a2',\n",
       " 'BEAM0101/rx_processing/rg_eg_center_a3',\n",
       " 'BEAM0101/rx_processing/rg_eg_center_a4',\n",
       " 'BEAM0101/rx_processing/rg_eg_center_a5',\n",
       " 'BEAM0101/rx_processing/rg_eg_center_a6',\n",
       " 'BEAM0101/rx_processing/rg_eg_center_error_a1',\n",
       " 'BEAM0101/rx_processing/rg_eg_center_error_a2',\n",
       " 'BEAM0101/rx_processing/rg_eg_center_error_a3',\n",
       " 'BEAM0101/rx_processing/rg_eg_center_error_a4',\n",
       " 'BEAM0101/rx_processing/rg_eg_center_error_a5',\n",
       " 'BEAM0101/rx_processing/rg_eg_center_error_a6',\n",
       " 'BEAM0101/rx_processing/rg_eg_chisq_a1',\n",
       " 'BEAM0101/rx_processing/rg_eg_chisq_a2',\n",
       " 'BEAM0101/rx_processing/rg_eg_chisq_a3',\n",
       " 'BEAM0101/rx_processing/rg_eg_chisq_a4',\n",
       " 'BEAM0101/rx_processing/rg_eg_chisq_a5',\n",
       " 'BEAM0101/rx_processing/rg_eg_chisq_a6',\n",
       " 'BEAM0101/rx_processing/rg_eg_flag_a1',\n",
       " 'BEAM0101/rx_processing/rg_eg_flag_a2',\n",
       " 'BEAM0101/rx_processing/rg_eg_flag_a3',\n",
       " 'BEAM0101/rx_processing/rg_eg_flag_a4',\n",
       " 'BEAM0101/rx_processing/rg_eg_flag_a5',\n",
       " 'BEAM0101/rx_processing/rg_eg_flag_a6',\n",
       " 'BEAM0101/rx_processing/rg_eg_gamma_a1',\n",
       " 'BEAM0101/rx_processing/rg_eg_gamma_a2',\n",
       " 'BEAM0101/rx_processing/rg_eg_gamma_a3',\n",
       " 'BEAM0101/rx_processing/rg_eg_gamma_a4',\n",
       " 'BEAM0101/rx_processing/rg_eg_gamma_a5',\n",
       " 'BEAM0101/rx_processing/rg_eg_gamma_a6',\n",
       " 'BEAM0101/rx_processing/rg_eg_gamma_error_a1',\n",
       " 'BEAM0101/rx_processing/rg_eg_gamma_error_a2',\n",
       " 'BEAM0101/rx_processing/rg_eg_gamma_error_a3',\n",
       " 'BEAM0101/rx_processing/rg_eg_gamma_error_a4',\n",
       " 'BEAM0101/rx_processing/rg_eg_gamma_error_a5',\n",
       " 'BEAM0101/rx_processing/rg_eg_gamma_error_a6',\n",
       " 'BEAM0101/rx_processing/rg_eg_niter_a1',\n",
       " 'BEAM0101/rx_processing/rg_eg_niter_a2',\n",
       " 'BEAM0101/rx_processing/rg_eg_niter_a3',\n",
       " 'BEAM0101/rx_processing/rg_eg_niter_a4',\n",
       " 'BEAM0101/rx_processing/rg_eg_niter_a5',\n",
       " 'BEAM0101/rx_processing/rg_eg_niter_a6',\n",
       " 'BEAM0101/rx_processing/rg_eg_sigma_a1',\n",
       " 'BEAM0101/rx_processing/rg_eg_sigma_a2',\n",
       " 'BEAM0101/rx_processing/rg_eg_sigma_a3',\n",
       " 'BEAM0101/rx_processing/rg_eg_sigma_a4',\n",
       " 'BEAM0101/rx_processing/rg_eg_sigma_a5',\n",
       " 'BEAM0101/rx_processing/rg_eg_sigma_a6',\n",
       " 'BEAM0101/rx_processing/rg_eg_sigma_error_a1',\n",
       " 'BEAM0101/rx_processing/rg_eg_sigma_error_a2',\n",
       " 'BEAM0101/rx_processing/rg_eg_sigma_error_a3',\n",
       " 'BEAM0101/rx_processing/rg_eg_sigma_error_a4',\n",
       " 'BEAM0101/rx_processing/rg_eg_sigma_error_a5',\n",
       " 'BEAM0101/rx_processing/rg_eg_sigma_error_a6',\n",
       " 'BEAM0101/rx_processing/rg_error_a1',\n",
       " 'BEAM0101/rx_processing/rg_error_a2',\n",
       " 'BEAM0101/rx_processing/rg_error_a3',\n",
       " 'BEAM0101/rx_processing/rg_error_a4',\n",
       " 'BEAM0101/rx_processing/rg_error_a5',\n",
       " 'BEAM0101/rx_processing/rg_error_a6',\n",
       " 'BEAM0101/rx_processing/rv_a1',\n",
       " 'BEAM0101/rx_processing/rv_a2',\n",
       " 'BEAM0101/rx_processing/rv_a3',\n",
       " 'BEAM0101/rx_processing/rv_a4',\n",
       " 'BEAM0101/rx_processing/rv_a5',\n",
       " 'BEAM0101/rx_processing/rv_a6',\n",
       " 'BEAM0101/rx_processing/rx_energy_a1',\n",
       " 'BEAM0101/rx_processing/rx_energy_a2',\n",
       " 'BEAM0101/rx_processing/rx_energy_a3',\n",
       " 'BEAM0101/rx_processing/rx_energy_a4',\n",
       " 'BEAM0101/rx_processing/rx_energy_a5',\n",
       " 'BEAM0101/rx_processing/rx_energy_a6',\n",
       " 'BEAM0101/rx_processing/shot_number',\n",
       " 'BEAM0101/rx_range_highestreturn',\n",
       " 'BEAM0101/rx_sample_count',\n",
       " 'BEAM0101/rx_sample_start_index',\n",
       " 'BEAM0101/selected_l2a_algorithm',\n",
       " 'BEAM0101/selected_mode',\n",
       " 'BEAM0101/selected_mode_flag',\n",
       " 'BEAM0101/selected_rg_algorithm',\n",
       " 'BEAM0101/sensitivity',\n",
       " 'BEAM0101/shot_number',\n",
       " 'BEAM0101/stale_return_flag',\n",
       " 'BEAM0101/surface_flag']"
      ]
     },
     "execution_count": 13,
     "metadata": {},
     "output_type": "execute_result"
    }
   ],
   "source": [
    "gediL2B_objs = []\n",
    "gediL2B.visit(gediL2B_objs.append)                                           # Retrieve list of datasets\n",
    "gediSDS = [o for o in gediL2B_objs if isinstance(gediL2B[o], h5py.Dataset)]  # Search for relevant SDS inside data file\n",
    "# gediSDS\n",
    "[i for i in gediSDS if beamNames[4] in i]                               # Print the datasets for a selected beam "
   ]
  },
  {
   "cell_type": "markdown",
   "metadata": {},
   "source": [
    "There are several datasets for each beam. View the [GEDI L2B Dictionary](https://lpdaac.usgs.gov/documents/587/gedi_l2b_dictionary_P001_v1.html) for more details. You can also print the description for desired datasets."
   ]
  },
  {
   "cell_type": "code",
   "execution_count": 14,
   "metadata": {
    "tags": []
   },
   "outputs": [
    {
     "name": "stdout",
     "output_type": "stream",
     "text": [
      "pai:  Total plant area index\n",
      "pai_z:  Vertical PAI profile from canopy height (z) to ground (z=0) with a vertical step size of dZ, where cover(z > z_max) = 0\n",
      "pavd_z:  Vertical Plant Area Volume Density profile with a vertical step size of dZ\n",
      "shot_number:  Unique shot ID.\n",
      "rh100:  Height above ground of the received waveform signal start (rh[101] from L2A)\n",
      "Quality Flag:  Flag simpilfying selection of most useful data for Level 2B\n"
     ]
    }
   ],
   "source": [
    "print('pai: ', gediL2B['BEAM0101/pai'].attrs['description'])\n",
    "print('pai_z: ', gediL2B['BEAM0101/pai_z'].attrs['description'])\n",
    "print('pavd_z: ', gediL2B['BEAM0101/pavd_z'].attrs['description'])\n",
    "print('shot_number: ', gediL2B['BEAM0101/geolocation/shot_number'].attrs['description'])\n",
    "print('rh100: ', gediL2B['BEAM0101/rh100'].attrs['description'])\n",
    "print('Quality Flag: ', gediL2B['BEAM0101/l2b_quality_flag'].attrs['description'])"
   ]
  },
  {
   "cell_type": "markdown",
   "metadata": {},
   "source": [
    "### We will set the shot index used as an example from the [GEDI L1B Tutorial](https://git.earthdata.nasa.gov/projects/LPDUR/repos/gedi-v2-tutorials/browse/GEDI_L1B_V2_Tutorial.ipynb) and [GEDI L2A Tutorial](https://git.earthdata.nasa.gov/projects/LPDUR/repos/gedi-v2-tutorials/browse/GEDI_L2A_V2_Tutorial.ipynb) to show how to subset a single shot of GEDI L2B data."
   ]
  },
  {
   "cell_type": "markdown",
   "metadata": {},
   "source": [
    "# 4. Visualize a GEDI Orbit <a id=\"visualizeorbit\"></a>\n",
    "#### In the section below, import GEDI L2B SDS layers into a `GeoPandas` GeoDataFrame for the beam specified above. \n",
    "#### Use the `lat_lowestmode` and `lon_lowestmode` to create a `shapely` point for each GEDI shot location. "
   ]
  },
  {
   "cell_type": "markdown",
   "metadata": {},
   "source": [
    "## 4.1 Subset by Layer and Create a Geodataframe <a id=\"3.1\"></a>"
   ]
  },
  {
   "cell_type": "markdown",
   "metadata": {},
   "source": [
    "#### Read in the SDS and take a representative sample (every 100th shot) and append to lists, then use the lists to generate a `pandas` dataframe."
   ]
  },
  {
   "cell_type": "code",
   "execution_count": 15,
   "metadata": {
    "tags": []
   },
   "outputs": [
    {
     "data": {
      "text/html": [
       "<div>\n",
       "<style scoped>\n",
       "    .dataframe tbody tr th:only-of-type {\n",
       "        vertical-align: middle;\n",
       "    }\n",
       "\n",
       "    .dataframe tbody tr th {\n",
       "        vertical-align: top;\n",
       "    }\n",
       "\n",
       "    .dataframe thead th {\n",
       "        text-align: right;\n",
       "    }\n",
       "</style>\n",
       "<table border=\"1\" class=\"dataframe\">\n",
       "  <thead>\n",
       "    <tr style=\"text-align: right;\">\n",
       "      <th></th>\n",
       "      <th>Beam</th>\n",
       "      <th>Shot Number</th>\n",
       "      <th>Longitude</th>\n",
       "      <th>Latitude</th>\n",
       "      <th>Quality Flag</th>\n",
       "    </tr>\n",
       "  </thead>\n",
       "  <tbody>\n",
       "    <tr>\n",
       "      <th>0</th>\n",
       "      <td>BEAM0000</td>\n",
       "      <td>196830000300204328</td>\n",
       "      <td>-150.407079</td>\n",
       "      <td>51.480311</td>\n",
       "      <td>0</td>\n",
       "    </tr>\n",
       "    <tr>\n",
       "      <th>1</th>\n",
       "      <td>BEAM0000</td>\n",
       "      <td>196830000300204428</td>\n",
       "      <td>-150.363476</td>\n",
       "      <td>51.474715</td>\n",
       "      <td>0</td>\n",
       "    </tr>\n",
       "    <tr>\n",
       "      <th>2</th>\n",
       "      <td>BEAM0000</td>\n",
       "      <td>196830000300204528</td>\n",
       "      <td>-150.322943</td>\n",
       "      <td>51.470677</td>\n",
       "      <td>0</td>\n",
       "    </tr>\n",
       "    <tr>\n",
       "      <th>3</th>\n",
       "      <td>BEAM0000</td>\n",
       "      <td>196830000300204628</td>\n",
       "      <td>-150.280632</td>\n",
       "      <td>51.465678</td>\n",
       "      <td>0</td>\n",
       "    </tr>\n",
       "    <tr>\n",
       "      <th>4</th>\n",
       "      <td>BEAM0000</td>\n",
       "      <td>196830000300204728</td>\n",
       "      <td>-150.239797</td>\n",
       "      <td>51.461442</td>\n",
       "      <td>0</td>\n",
       "    </tr>\n",
       "    <tr>\n",
       "      <th>...</th>\n",
       "      <td>...</td>\n",
       "      <td>...</td>\n",
       "      <td>...</td>\n",
       "      <td>...</td>\n",
       "      <td>...</td>\n",
       "    </tr>\n",
       "    <tr>\n",
       "      <th>1532</th>\n",
       "      <td>BEAM0000</td>\n",
       "      <td>196830000300357528</td>\n",
       "      <td>-77.574387</td>\n",
       "      <td>0.617701</td>\n",
       "      <td>0</td>\n",
       "    </tr>\n",
       "    <tr>\n",
       "      <th>1533</th>\n",
       "      <td>BEAM0000</td>\n",
       "      <td>196830000300357628</td>\n",
       "      <td>-77.544344</td>\n",
       "      <td>0.575149</td>\n",
       "      <td>0</td>\n",
       "    </tr>\n",
       "    <tr>\n",
       "      <th>1534</th>\n",
       "      <td>BEAM0000</td>\n",
       "      <td>196830000300357728</td>\n",
       "      <td>-77.514584</td>\n",
       "      <td>0.532945</td>\n",
       "      <td>0</td>\n",
       "    </tr>\n",
       "    <tr>\n",
       "      <th>1535</th>\n",
       "      <td>BEAM0000</td>\n",
       "      <td>196830000300357828</td>\n",
       "      <td>-77.484620</td>\n",
       "      <td>0.490324</td>\n",
       "      <td>0</td>\n",
       "    </tr>\n",
       "    <tr>\n",
       "      <th>1536</th>\n",
       "      <td>BEAM0000</td>\n",
       "      <td>196830000300357928</td>\n",
       "      <td>-77.454636</td>\n",
       "      <td>0.447691</td>\n",
       "      <td>0</td>\n",
       "    </tr>\n",
       "  </tbody>\n",
       "</table>\n",
       "<p>1537 rows × 5 columns</p>\n",
       "</div>"
      ],
      "text/plain": [
       "          Beam         Shot Number   Longitude   Latitude  Quality Flag\n",
       "0     BEAM0000  196830000300204328 -150.407079  51.480311             0\n",
       "1     BEAM0000  196830000300204428 -150.363476  51.474715             0\n",
       "2     BEAM0000  196830000300204528 -150.322943  51.470677             0\n",
       "3     BEAM0000  196830000300204628 -150.280632  51.465678             0\n",
       "4     BEAM0000  196830000300204728 -150.239797  51.461442             0\n",
       "...        ...                 ...         ...        ...           ...\n",
       "1532  BEAM0000  196830000300357528  -77.574387   0.617701             0\n",
       "1533  BEAM0000  196830000300357628  -77.544344   0.575149             0\n",
       "1534  BEAM0000  196830000300357728  -77.514584   0.532945             0\n",
       "1535  BEAM0000  196830000300357828  -77.484620   0.490324             0\n",
       "1536  BEAM0000  196830000300357928  -77.454636   0.447691             0\n",
       "\n",
       "[1537 rows x 5 columns]"
      ]
     },
     "execution_count": 15,
     "metadata": {},
     "output_type": "execute_result"
    }
   ],
   "source": [
    "lonSample, latSample, shotSample, qualitySample, beamSample = [], [], [], [], []  # Set up lists to store data\n",
    "\n",
    "# Open the SDS\n",
    "lats = gediL2B[f'{beamNames[0]}/geolocation/lat_lowestmode'][()]\n",
    "lons = gediL2B[f'{beamNames[0]}/geolocation/lon_lowestmode'][()]\n",
    "shots = gediL2B[f'{beamNames[0]}/geolocation/shot_number'][()]\n",
    "quality = gediL2B[f'{beamNames[0]}/l2b_quality_flag'][()]\n",
    "\n",
    "# Take every 100th shot and append to list\n",
    "for i in range(len(shots)):\n",
    "    if i % 100 == 0:\n",
    "        shotSample.append(str(shots[i]))\n",
    "        lonSample.append(lons[i])\n",
    "        latSample.append(lats[i])\n",
    "        qualitySample.append(quality[i])\n",
    "        beamSample.append(beamNames[0])\n",
    "            \n",
    "# Write all of the sample shots to a dataframe\n",
    "latslons = pd.DataFrame({'Beam': beamSample, 'Shot Number': shotSample, 'Longitude': lonSample, 'Latitude': latSample,\n",
    "                         'Quality Flag': qualitySample})\n",
    "latslons"
   ]
  },
  {
   "cell_type": "markdown",
   "metadata": {},
   "source": [
    "#### Above is a dataframe containing columns describing the beam, shot number, lat/lon location, and quality information about each shot."
   ]
  },
  {
   "cell_type": "markdown",
   "metadata": {
    "tags": []
   },
   "source": [
    "#### Side Note: Wondering what the 0's and 1's for `l2b_quality_flag` mean?\n",
    "#### Above, 0 is poor quality and a quality_flag value of 1 indicates the laser shot meets criteria based on energy, sensitivity, amplitude, and real-time surface tracking quality. We will show an example of how to quality filter GEDI data."
   ]
  },
  {
   "cell_type": "code",
   "execution_count": 16,
   "metadata": {
    "tags": []
   },
   "outputs": [],
   "source": [
    "# Clean up variables that will no longer be needed\n",
    "# del beamSample, quality, qualitySample, gediL2B_objs, latSample, lats, lonSample, lons, shotSample, shots "
   ]
  },
  {
   "cell_type": "markdown",
   "metadata": {},
   "source": [
    "#### Below, create an additional column called 'geometry' that contains a `shapely` point generated from each lat/lon location from the shot. "
   ]
  },
  {
   "cell_type": "code",
   "execution_count": 17,
   "metadata": {
    "tags": []
   },
   "outputs": [],
   "source": [
    "# Take the lat/lon dataframe and convert each lat/lon to a shapely point\n",
    "latslons['geometry'] = latslons.apply(lambda row: Point(row.Longitude, row.Latitude), axis=1)"
   ]
  },
  {
   "cell_type": "markdown",
   "metadata": {},
   "source": [
    "#### Next, convert to a `Geopandas` GeoDataFrame."
   ]
  },
  {
   "cell_type": "code",
   "execution_count": 18,
   "metadata": {
    "tags": []
   },
   "outputs": [
    {
     "data": {
      "text/plain": [
       "0       POINT (-150.40708 51.48031)\n",
       "1       POINT (-150.36348 51.47471)\n",
       "2       POINT (-150.32294 51.47068)\n",
       "3       POINT (-150.28063 51.46568)\n",
       "4       POINT (-150.23980 51.46144)\n",
       "                   ...             \n",
       "1532      POINT (-77.57439 0.61770)\n",
       "1533      POINT (-77.54434 0.57515)\n",
       "1534      POINT (-77.51458 0.53295)\n",
       "1535      POINT (-77.48462 0.49032)\n",
       "1536      POINT (-77.45464 0.44769)\n",
       "Name: geometry, Length: 1537, dtype: geometry"
      ]
     },
     "execution_count": 18,
     "metadata": {},
     "output_type": "execute_result"
    }
   ],
   "source": [
    "# Convert to a Geodataframe\n",
    "latslons = gp.GeoDataFrame(latslons)\n",
    "latslons = latslons.drop(columns=['Latitude','Longitude'])\n",
    "latslons['geometry']"
   ]
  },
  {
   "cell_type": "markdown",
   "metadata": {},
   "source": [
    "#### Pull out and plot an example `shapely` point below."
   ]
  },
  {
   "cell_type": "markdown",
   "metadata": {},
   "source": [
    "## 4.2 Visualize a GeoDataFrame <a id=\"3.2\"></a>\n",
    "#### In this section, use the GeoDataFrame and the `geoviews` python package to spatially visualize the location of the GEDI shots on a basemap and import a GeoJSON file of the spatial region of interest for the use case example: Redwood National Park."
   ]
  },
  {
   "cell_type": "code",
   "execution_count": 19,
   "metadata": {
    "tags": []
   },
   "outputs": [],
   "source": [
    "# Define a function for visualizing GEDI points\n",
    "def pointVisual(features, vdims):\n",
    "    return (gvts.EsriImagery * gv.Points(features, vdims=vdims).options(tools=['hover'], height=500, width=900, size=5, \n",
    "                                                                        color='yellow', fontsize={'xticks': 10, 'yticks': 10, \n",
    "                                                                                                  'xlabel':16, 'ylabel': 16}))"
   ]
  },
  {
   "cell_type": "markdown",
   "metadata": {},
   "source": [
    "#### Import a GeoJSON of `Reserva de la Biósfera Calakmul` National Park as an additional GeoDataFrame. "
   ]
  },
  {
   "cell_type": "code",
   "execution_count": 20,
   "metadata": {
    "tags": []
   },
   "outputs": [],
   "source": [
    "calakmul = gp.GeoDataFrame.from_file(f'{data_dir}calakmul.geojson')  # Import GeoJSON as GeoDataFrame"
   ]
  },
  {
   "cell_type": "code",
   "execution_count": 21,
   "metadata": {
    "tags": []
   },
   "outputs": [
    {
     "data": {
      "text/html": [
       "<div>\n",
       "<style scoped>\n",
       "    .dataframe tbody tr th:only-of-type {\n",
       "        vertical-align: middle;\n",
       "    }\n",
       "\n",
       "    .dataframe tbody tr th {\n",
       "        vertical-align: top;\n",
       "    }\n",
       "\n",
       "    .dataframe thead th {\n",
       "        text-align: right;\n",
       "    }\n",
       "</style>\n",
       "<table border=\"1\" class=\"dataframe\">\n",
       "  <thead>\n",
       "    <tr style=\"text-align: right;\">\n",
       "      <th></th>\n",
       "      <th>geometry</th>\n",
       "    </tr>\n",
       "  </thead>\n",
       "  <tbody>\n",
       "    <tr>\n",
       "      <th>0</th>\n",
       "      <td>POLYGON ((-89.00000 19.00000, -91.50000 19.000...</td>\n",
       "    </tr>\n",
       "  </tbody>\n",
       "</table>\n",
       "</div>"
      ],
      "text/plain": [
       "                                            geometry\n",
       "0  POLYGON ((-89.00000 19.00000, -91.50000 19.000..."
      ]
     },
     "execution_count": 21,
     "metadata": {},
     "output_type": "execute_result"
    }
   ],
   "source": [
    "calakmul"
   ]
  },
  {
   "cell_type": "code",
   "execution_count": 22,
   "metadata": {
    "tags": []
   },
   "outputs": [
    {
     "data": {
      "image/svg+xml": [
       "<svg xmlns=\"http://www.w3.org/2000/svg\" xmlns:xlink=\"http://www.w3.org/1999/xlink\" width=\"100.0\" height=\"100.0\" viewBox=\"-91.6 17.9 2.6999999999999886 1.2000000000000028\" preserveAspectRatio=\"xMinYMin meet\"><g transform=\"matrix(1,0,0,-1,0,37.0)\"><path fill-rule=\"evenodd\" fill=\"#66cc99\" stroke=\"#555555\" stroke-width=\"0.05399999999999977\" opacity=\"0.6\" d=\"M -89.0,19.0 L -91.5,19.0 L -91.5,18.0 L -89.0,18.0 L -89.0,19.0 z\" /></g></svg>"
      ],
      "text/plain": [
       "<POLYGON ((-89 19, -91.5 19, -91.5 18, -89 18, -89 19))>"
      ]
     },
     "execution_count": 22,
     "metadata": {},
     "output_type": "execute_result"
    }
   ],
   "source": [
    "calakmul['geometry'][0]  # Plot GeoDataFrame"
   ]
  },
  {
   "cell_type": "markdown",
   "metadata": {},
   "source": [
    "#### Defining the vdims below will allow you to hover over specific shots and view information about them."
   ]
  },
  {
   "cell_type": "code",
   "execution_count": 23,
   "metadata": {
    "tags": []
   },
   "outputs": [
    {
     "data": {
      "text/plain": [
       "['Beam', 'Shot Number', 'Quality Flag']"
      ]
     },
     "execution_count": 23,
     "metadata": {},
     "output_type": "execute_result"
    }
   ],
   "source": [
    "# Create a list of geodataframe columns to be included as attributes in the output map\n",
    "vdims = []\n",
    "for f in latslons:\n",
    "    if f not in ['geometry']:\n",
    "        vdims.append(f)\n",
    "vdims"
   ]
  },
  {
   "cell_type": "markdown",
   "metadata": {},
   "source": [
    "#### Below, combine a plot of the Redwood National Park Boundary (combine two `geoviews` plots using `*`) with the point visual mapping function defined above in order to plot (1) the representative GEDI shots, (2) the region of interest, and (3) a basemap layer. "
   ]
  },
  {
   "cell_type": "code",
   "execution_count": 24,
   "metadata": {
    "tags": []
   },
   "outputs": [
    {
     "data": {},
     "metadata": {},
     "output_type": "display_data"
    },
    {
     "data": {
      "application/vnd.holoviews_exec.v0+json": "",
      "text/html": [
       "<div id='p1005'>\n",
       "  <div id=\"a523fa5f-37b6-44c7-a159-4a39d9d92c9a\" data-root-id=\"p1005\" style=\"display: contents;\"></div>\n",
       "</div>\n",
       "<script type=\"application/javascript\">(function(root) {\n",
       "  var docs_json = {\"40c07354-f5ac-42b6-8dba-913fe71f11f5\":{\"version\":\"3.2.2\",\"title\":\"Bokeh Application\",\"roots\":[{\"type\":\"object\",\"name\":\"Row\",\"id\":\"p1005\",\"attributes\":{\"name\":\"Row02806\",\"tags\":[\"embedded\"],\"stylesheets\":[\"\\n:host(.pn-loading.pn-arc):before, .pn-loading.pn-arc:before {\\n  background-image: url(\\\"data:image/svg+xml;base64,PHN2ZyB4bWxucz0iaHR0cDovL3d3dy53My5vcmcvMjAwMC9zdmciIHN0eWxlPSJtYXJnaW46IGF1dG87IGJhY2tncm91bmQ6IG5vbmU7IGRpc3BsYXk6IGJsb2NrOyBzaGFwZS1yZW5kZXJpbmc6IGF1dG87IiB2aWV3Qm94PSIwIDAgMTAwIDEwMCIgcHJlc2VydmVBc3BlY3RSYXRpbz0ieE1pZFlNaWQiPiAgPGNpcmNsZSBjeD0iNTAiIGN5PSI1MCIgZmlsbD0ibm9uZSIgc3Ryb2tlPSIjYzNjM2MzIiBzdHJva2Utd2lkdGg9IjEwIiByPSIzNSIgc3Ryb2tlLWRhc2hhcnJheT0iMTY0LjkzMzYxNDMxMzQ2NDE1IDU2Ljk3Nzg3MTQzNzgyMTM4Ij4gICAgPGFuaW1hdGVUcmFuc2Zvcm0gYXR0cmlidXRlTmFtZT0idHJhbnNmb3JtIiB0eXBlPSJyb3RhdGUiIHJlcGVhdENvdW50PSJpbmRlZmluaXRlIiBkdXI9IjFzIiB2YWx1ZXM9IjAgNTAgNTA7MzYwIDUwIDUwIiBrZXlUaW1lcz0iMDsxIj48L2FuaW1hdGVUcmFuc2Zvcm0+ICA8L2NpcmNsZT48L3N2Zz4=\\\");\\n  background-size: auto calc(min(50%, 400px));\\n}\",{\"type\":\"object\",\"name\":\"ImportedStyleSheet\",\"id\":\"p1008\",\"attributes\":{\"url\":\"https://cdn.holoviz.org/panel/1.2.3/dist/css/loading.css\"}},{\"type\":\"object\",\"name\":\"ImportedStyleSheet\",\"id\":\"p1104\",\"attributes\":{\"url\":\"https://cdn.holoviz.org/panel/1.2.3/dist/css/listpanel.css\"}},{\"type\":\"object\",\"name\":\"ImportedStyleSheet\",\"id\":\"p1006\",\"attributes\":{\"url\":\"https://cdn.holoviz.org/panel/1.2.3/dist/bundled/theme/default.css\"}},{\"type\":\"object\",\"name\":\"ImportedStyleSheet\",\"id\":\"p1007\",\"attributes\":{\"url\":\"https://cdn.holoviz.org/panel/1.2.3/dist/bundled/theme/native.css\"}}],\"min_width\":900,\"margin\":0,\"sizing_mode\":\"stretch_width\",\"align\":\"start\",\"children\":[{\"type\":\"object\",\"name\":\"Spacer\",\"id\":\"p1009\",\"attributes\":{\"name\":\"HSpacer02816\",\"stylesheets\":[\"\\n:host(.pn-loading.pn-arc):before, .pn-loading.pn-arc:before {\\n  background-image: url(\\\"data:image/svg+xml;base64,PHN2ZyB4bWxucz0iaHR0cDovL3d3dy53My5vcmcvMjAwMC9zdmciIHN0eWxlPSJtYXJnaW46IGF1dG87IGJhY2tncm91bmQ6IG5vbmU7IGRpc3BsYXk6IGJsb2NrOyBzaGFwZS1yZW5kZXJpbmc6IGF1dG87IiB2aWV3Qm94PSIwIDAgMTAwIDEwMCIgcHJlc2VydmVBc3BlY3RSYXRpbz0ieE1pZFlNaWQiPiAgPGNpcmNsZSBjeD0iNTAiIGN5PSI1MCIgZmlsbD0ibm9uZSIgc3Ryb2tlPSIjYzNjM2MzIiBzdHJva2Utd2lkdGg9IjEwIiByPSIzNSIgc3Ryb2tlLWRhc2hhcnJheT0iMTY0LjkzMzYxNDMxMzQ2NDE1IDU2Ljk3Nzg3MTQzNzgyMTM4Ij4gICAgPGFuaW1hdGVUcmFuc2Zvcm0gYXR0cmlidXRlTmFtZT0idHJhbnNmb3JtIiB0eXBlPSJyb3RhdGUiIHJlcGVhdENvdW50PSJpbmRlZmluaXRlIiBkdXI9IjFzIiB2YWx1ZXM9IjAgNTAgNTA7MzYwIDUwIDUwIiBrZXlUaW1lcz0iMDsxIj48L2FuaW1hdGVUcmFuc2Zvcm0+ICA8L2NpcmNsZT48L3N2Zz4=\\\");\\n  background-size: auto calc(min(50%, 400px));\\n}\",{\"id\":\"p1008\"},{\"id\":\"p1006\"},{\"id\":\"p1007\"}],\"margin\":0,\"sizing_mode\":\"stretch_width\",\"align\":\"start\"}},{\"type\":\"object\",\"name\":\"Figure\",\"id\":\"p1034\",\"attributes\":{\"width\":900,\"height\":500,\"margin\":[5,10],\"sizing_mode\":\"fixed\",\"align\":\"start\",\"x_range\":{\"type\":\"object\",\"name\":\"Range1d\",\"id\":\"p1022\",\"attributes\":{\"tags\":[[[\"Longitude\",\"Longitude\",null]]],\"start\":-17194407.617501393,\"end\":-8171042.452832027,\"reset_start\":-17194407.617501393,\"reset_end\":-8171042.452832027,\"min_interval\":5}},\"y_range\":{\"type\":\"object\",\"name\":\"Range1d\",\"id\":\"p1023\",\"attributes\":{\"tags\":[[[\"Latitude\",\"Latitude\",null]]],\"start\":-615848.8175214923,\"end\":7372384.982456563,\"reset_start\":-615848.8175214923,\"reset_end\":7372384.982456563,\"min_interval\":5}},\"x_scale\":{\"type\":\"object\",\"name\":\"LinearScale\",\"id\":\"p1044\"},\"y_scale\":{\"type\":\"object\",\"name\":\"LinearScale\",\"id\":\"p1045\"},\"title\":{\"type\":\"object\",\"name\":\"Title\",\"id\":\"p1037\",\"attributes\":{\"text_color\":\"black\",\"text_font_size\":\"12pt\"}},\"renderers\":[{\"type\":\"object\",\"name\":\"GlyphRenderer\",\"id\":\"p1072\",\"attributes\":{\"data_source\":{\"type\":\"object\",\"name\":\"ColumnDataSource\",\"id\":\"p1063\",\"attributes\":{\"selected\":{\"type\":\"object\",\"name\":\"Selection\",\"id\":\"p1064\",\"attributes\":{\"indices\":[],\"line_indices\":[]}},\"selection_policy\":{\"type\":\"object\",\"name\":\"UnionRenderers\",\"id\":\"p1065\"},\"data\":{\"type\":\"map\",\"entries\":[[\"xs\",[[[{\"type\":\"ndarray\",\"array\":{\"type\":\"bytes\",\"data\":\"j3zHVZ3lYsHL7gqtgG1jwcvuCq2AbWPBj3zHVZ3lYsE=\"},\"shape\":[4],\"dtype\":\"float64\",\"order\":\"little\"}]]]],[\"ys\",[[[{\"type\":\"ndarray\",\"array\":{\"type\":\"bytes\",\"data\":\"7Igh9dtwQEHsiCH123BAQafGdIssFz9Bp8Z0iywXP0E=\"},\"shape\":[4],\"dtype\":\"float64\",\"order\":\"little\"}]]]]]}}},\"view\":{\"type\":\"object\",\"name\":\"CDSView\",\"id\":\"p1073\",\"attributes\":{\"filter\":{\"type\":\"object\",\"name\":\"AllIndices\",\"id\":\"p1074\"}}},\"glyph\":{\"type\":\"object\",\"name\":\"MultiPolygons\",\"id\":\"p1069\",\"attributes\":{\"xs\":{\"type\":\"field\",\"field\":\"xs\"},\"ys\":{\"type\":\"field\",\"field\":\"ys\"},\"line_color\":{\"type\":\"value\",\"value\":\"red\"},\"fill_color\":{\"type\":\"value\",\"value\":null},\"hatch_color\":{\"type\":\"value\",\"value\":null}}},\"selection_glyph\":{\"type\":\"object\",\"name\":\"MultiPolygons\",\"id\":\"p1077\",\"attributes\":{\"xs\":{\"type\":\"field\",\"field\":\"xs\"},\"ys\":{\"type\":\"field\",\"field\":\"ys\"},\"line_color\":{\"type\":\"value\",\"value\":\"red\"},\"line_alpha\":{\"type\":\"value\",\"value\":1.0},\"line_width\":{\"type\":\"value\",\"value\":1},\"line_join\":{\"type\":\"value\",\"value\":\"bevel\"},\"line_cap\":{\"type\":\"value\",\"value\":\"butt\"},\"line_dash\":{\"type\":\"value\",\"value\":[]},\"line_dash_offset\":{\"type\":\"value\",\"value\":0},\"fill_color\":{\"type\":\"value\",\"value\":null},\"fill_alpha\":{\"type\":\"value\",\"value\":1.0},\"hatch_color\":{\"type\":\"value\",\"value\":null},\"hatch_alpha\":{\"type\":\"value\",\"value\":1.0},\"hatch_scale\":{\"type\":\"value\",\"value\":12.0},\"hatch_pattern\":{\"type\":\"value\",\"value\":null},\"hatch_weight\":{\"type\":\"value\",\"value\":1.0}}},\"nonselection_glyph\":{\"type\":\"object\",\"name\":\"MultiPolygons\",\"id\":\"p1070\",\"attributes\":{\"xs\":{\"type\":\"field\",\"field\":\"xs\"},\"ys\":{\"type\":\"field\",\"field\":\"ys\"},\"line_color\":{\"type\":\"value\",\"value\":\"red\"},\"line_alpha\":{\"type\":\"value\",\"value\":0.1},\"fill_color\":{\"type\":\"value\",\"value\":null},\"fill_alpha\":{\"type\":\"value\",\"value\":0.1},\"hatch_color\":{\"type\":\"value\",\"value\":null},\"hatch_alpha\":{\"type\":\"value\",\"value\":0.1}}},\"muted_glyph\":{\"type\":\"object\",\"name\":\"MultiPolygons\",\"id\":\"p1071\",\"attributes\":{\"xs\":{\"type\":\"field\",\"field\":\"xs\"},\"ys\":{\"type\":\"field\",\"field\":\"ys\"},\"line_color\":{\"type\":\"value\",\"value\":\"red\"},\"line_alpha\":{\"type\":\"value\",\"value\":0.2},\"fill_color\":{\"type\":\"value\",\"value\":null},\"fill_alpha\":{\"type\":\"value\",\"value\":0.2},\"hatch_color\":{\"type\":\"value\",\"value\":null},\"hatch_alpha\":{\"type\":\"value\",\"value\":0.2}}}}},{\"type\":\"object\",\"name\":\"TileRenderer\",\"id\":\"p1082\",\"attributes\":{\"level\":\"underlay\",\"tile_source\":{\"type\":\"object\",\"name\":\"WMTSTileSource\",\"id\":\"p1078\",\"attributes\":{\"url\":\"https://server.arcgisonline.com/ArcGIS/rest/services/World_Imagery/MapServer/tile/{Z}/{Y}/{X}.jpg\",\"attribution\":\"&copy; <a href=\\\"http://downloads.esri.com/ArcGISOnline/docs/tou_summary.pdf\\\">Esri</a>, Earthstar Geographics\"}}}},{\"type\":\"object\",\"name\":\"GlyphRenderer\",\"id\":\"p1095\",\"attributes\":{\"data_source\":{\"type\":\"object\",\"name\":\"ColumnDataSource\",\"id\":\"p1086\",\"attributes\":{\"selected\":{\"type\":\"object\",\"name\":\"Selection\",\"id\":\"p1087\",\"attributes\":{\"indices\":[],\"line_indices\":[]}},\"selection_policy\":{\"type\":\"object\",\"name\":\"UnionRenderers\",\"id\":\"p1088\"},\"data\":{\"type\":\"map\",\"entries\":[[\"Longitude\",{\"type\":\"ndarray\",\"array\":{\"type\":\"bytes\",\"data\":\"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\"},\"shape\":[1537],\"dtype\":\"float64\",\"order\":\"little\"}],[\"Latitude\",{\"type\":\"ndarray\",\"array\":{\"type\":\"bytes\",\"data\":\"v463wIKVWUE7DNyxiJRZQYcFgkjUk1lB9i8i9/SSWUEovKS8N5JZQdxtIEW2kVlBMX48gAORWUEqNHBjCpBZQZto269Rj1lB3fX76oeOWUGuPPcr8Y1ZQaSLv852jFlBCSRbOzOKWUGlQTsrZolZQSgRZkJEh1lB9o4G4WSGWUEngw0tv4RZQSMMAbhag1lBj1pWPRKBWUE981OGOYBZQYrdgOx9fllB5m6YBsN8WUGMAwQf73pZQet5GIr+eVlBx/4qbmZ4WUELHQwlZHZZQRi3Kh+kdFlBBHFhb4pzWUGXiA/7WXFZQcHy2DZDcFlBLp980J1uWUHp5kg882xZQUQpBF41a1lBCMXKUeNoWUHXdw8g+mdZQUCkYsRDZllBbQnwLmBkWUHeXBPa8GFZQTJ9OK9zYFlBiHBGQy5fWUFGvD1hF11ZQVuW3FGAW1lB6HmMnuJZWUGKfYjIXVdZQZCAaYCSVVlB5AcrDAZUWUGrLyzOOVJZQdLad1aPUFlB/SeZ9mpOWUFhvLNnI01ZQRpP8YhFS1lBYciQRyBJWUEV3TR10kdZQdkGh5PxRVlBJE4qn3JDWUGY32QhhUFZQUQA763gP1lB8J1I1+89WUG6PTHH3TtZQXKU9u9HOllBlu600lQ4WUGreLTbVDZZQYEUgoO2M1lBT4i4X+8xWUHmCz/vlC9ZQT4ZlCqMLVlBtTtpfwwsWUGZGXz/aSpZQQp8kNMvKFlB7l7BXDsmWUH26kPdPSRZQZWT7HgcIllBTVc7+eofWUEcfLx/tR1ZQaMrumm0G1lBum2/tXoZWUHJ4P0iQxdZQRd9npR3FVlB1WO2I14TWUHa+jQz3BBZQVBBv40wD1lBpDTo0bMMWUF6gwUniQpZQTLQpYHJB1lB/iBBF4YFWUF4oJOOwQNZQShpbtWPAVlBQ1m7H9n/WEFH+2HQov1YQaC2k+lp+1hBUW9Nox/5WEGAXw5G1fZYQSlCKSma9FhBesCD5ZbxWEFa9LY0Uu9YQUOO7kGG7VhBi28VPIbrWEHqTe7SqOhYQcVuvvsP5lhBCJvqb63kWEH5Eg7Jz+FYQSTvASW+31hBiZCxqxrdWEHbpl4PrtpYQTS2lWxX2FhBfAMuN/fVWEE7vpJyl9NYQTFFa+vM0VhBDgZnCM/OWEFz3TkAacxYQbTPREDbyVhBB54OSprHWEGFIXc528RYQYJIwAF2w1hBf8dCODLAWEFCZAHZ0r1YQV8vkF3xu1hBDFRtULa4WEHEWqM4L7ZYQQygmOVLtFhBhbQo48mxWEHwmXxilq9YQc5Uo6kMrFhBkwHDvZ6pWEFLk2dSeqdYQf9A6+DwpFhB/IGkXyGiWEGev7YI/59YQQJ2hSQynVhBYDwr0VebWEHMLY/3y5dYQeMfxJmKlVhBj37z3fGSWEG7Ak/Wy5BYQS466NRsjlhBVqV4Uk6LWEHGSe4zqYhYQS/457r1hVhBoth9h0SDWEH0rqCdLoFYQcxAiF7yfVhB5+LqZKl6WEGC7lkwXHhYQRj55jBTdVhBBo3cgplyWEGS4k7t5W9YQRFVXw8vbVhBjZOn/29qWEHQld53tWdYQU7BvfrHZVhBB6HSpzJjWEH3tCgh6l9YQSESbrVSXVhBNJuyk7xaWEGBJ41DK1dYQVyL+YgbVVhBldHAhktSWEF+gTo5aE9YQfhaFwD0TFhB4AN/bzVKWEFodFbQkkZYQdWy2ZJMQ1hBfpZVSeFAWEEzSK5YqT1YQSotbjFTO1hBlVCtAHY4WEH2XnmOljVYQUkZQ28NM1hBotl7V9UvWEFbUdnnRy1YQR2pxo9aKlhBmszP3/8mWEFsii0VFSRYQZuEBaHYIFhBuN+I/lgeWEEwCobH9RpYQRjxkALcF1hB5nTgu7cVWEGwkPRsdBJYQVahdm/vDlhBt9/97RANWEGUY40/FQpYQQJfC3upBlhBzdJ/tXADWEG6lxia1wBYQW44UQCm/VdB7WG5lmH6V0H4nBK9YvdXQY6CzJfl9FdBs3Pv3tPxV0ErljCTse1XQWQ5ceWr61dBMj32swToV0H4Ov578ORXQcwHXSPL4VdBsEF+mcneV0EqR4YvMttXQWpn38mR2FdBLGv8SHfVV0H5lliURdJXQdomv0klz1dBjHt7JAfMV0ELUvrdeMhXQUb+R30dxldBQ/AzI1PCV0H8cSDfdr9XQR+fqTFNvFdB9ctkBCG5V0HOmBHq9LVXQZfykLiksldBO9N3wHavV0FWA+QVQaxXQSKfieaEqFdBGt+12/WlV0G9HeYzvqJXQR1z3Lh1n1dB+raWNVecV0FOnGaH/phXQfxcnQDAlVdBvM99ahqSV0FgCuq73o5XQfYsjkp3i1dBmfffYFmIV0EjGMz174RXQcXyEBh4gldBbbKu1fV+V0Hkgrbv8HpXQWfOhFWvd1dBZFgKwGB0V0E7DEDPEHFXQb3vcy+qbVdBbcv376NqV0E3j0bhI2dXQT66joqKZFdBi13blbBgV0EaVnKkjV1XQTcuE4GyWVdBh3VjLFFWV0G+6ebsNlNXQSgiPXXWT1dB+voxKr9MV0GiJoEluUhXQbeA5qBERVdBwcb4eepBV0EUJGvugD5XQdGvtacVO1dBIwnMr6g3V0E1e+xjSzRXQdmkBtxcMVdB0ufrjSgtV0Gg6ysH4ylXQaedCkRvJldB+CTSHfgiV0Ei4n//fR9XQTyI56NNHFdBggzi8GAYV0FSAXQmBhVXQWA1tZJ+EVdBVWichCgOV0FyREKMbgpXQQ8piDzWBldB89EZ2p8DV0Hjbg5c6f9WQUZIyLrS/FZB8d9F3634VkFtdHuS5/VWQf/50ddd8lZBS9cY3tHuVkGH0pcrSetWQapW8K+65lZB36BH+WLjVkEGlATOFeBWQSl72aYQ3FZBVjcv9YHYVkGILbvEv9RWQWAmt59x0VZBPaqAddvNVkEoCFGwSspWQZNnvPixxlZBLItL/PrCVkEeeNYkUcBWQY0xGAO8u1ZBfJORSom4VkGcLT7x3LRWQR8nU/HKsFZBKPvRd12tVkH1n8E8ZKlWQX9RJVS8pVZBhrlHxAmiVkH5DnQLzJ5WQYua59WtmlZB2zYJP/eWVkHMLfYNMZNWQVjHLFJ5kFZBYEb+vh2MVkH8ja9RZohWQWsuH/1jhFZBtg+ULpiAVkHcuAngOH1WQWY+oG87eVZBlgZlFqp1VkE0yY2+h3JWQYD3jRzwbVZBiIRtNyxqVkGkALl2Y2ZWQYJGWUCQYlZBb6jwK/heVkHoN7ASNVtWQTvdiF76VlZBj2ki4rlTVkG4TWqYrk9WQaIqgwygTFZBquJQmBNIVkEXRJUQQ0RWQctNPx43QVZBomCKRJU8VkGAzNNbujhWQefD/wjrNFZBvbfkJg8xVkH11mo9Mi1WQRTx6jJhKVZBI0wA44IlVkG+Il+4YCFWQQgtcGDBHVZBdKsY1twZVkGtu1ZGAxZWQacVkTMqElZBPivOo04OVkE+4iN+cQpWQW+XbMphB1ZBWL6yF6YCVkFtlZ62ev9VQQ+uGmc7+1VB8Kwg+1j3VUEO1Zo04/JVQYvxD/bu7lVBXxyo/S7rVUELOJImmOdVQVhmPDKv41VBb3T1h5ffVUHGKO5cSNxVQStmIGNS2FVBl74A7sTTVUHgT4VUzc9VQZH2E0/Ty1VBAm8s8X/HVUHDWtQUusRVQVA9xGHCwFVBjlocp7m8VUFrXdmgqrhVQew7zaLys1VBjdifquivVUEjtvL2dqxVQXy+bZ59qFVBtuRQHXWkVUGggMp9+p9VQb8BMtn4m1VB+KMbuvaXVUHbJbqbUpRVQePnOSZNkFVBFPWZY/CLVUF5QmtrSYhVQZHeaxgihFVBgKxjHGF/VUHOWdn4XXxVQQDy98FXeFVB5IsF3TN0VUFxb39Il29VQfvdsvtla1VB3ZfLXPdmVUFL8Y8+4mJVQcuGvwcJYFVBmLrgcBVbVUHMUwpeCFdVQZrn82xaU1VBsPtNIzRPVUFHiso3mEpVQV9Q0hVxRlVBVxMlAVlCVUGFl5mpKz5VQegP6PhuOlVBrjl3AEk2VUGcb5KoJzJVQT/UpKMPLlVBU1UsOGcqVUG9YrvVSCZVQVfmV8kvIVVBY2QSrxMdVUE6lrRs9BhVQX1KsufOFFVBSIVCS7AQVUGNPOGHgQxVQQKTXKJhCFVBFWhONjUEVUGCKLSzFQFVQSwUA1AH/VRBI0+BFqv4VEFw4dvxTvRUQWMdv8Ie8FRBgReUPkLrVEGtfUrwD+dUQTzzV0jn4lRBpCAHAa3eVEGmp9Q4iNpUQVUQRb5r11RBDeRbDUDTVEGpHwhDYM5UQeXsw9rNylRBtR+BjJnGVEEUgN0pasJUQUI0c691vVRBE8weDQa6VEEfsU3Gc7VUQczkt8b3sFRB7VJH7MSsVEHgq3oVgKhUQQ0ct9zBo1RB6+u1y5qfVEHyP2GXXptUQcABeDbollRBZxN8QsmSVEEgMsPEWo9UQZPwpmsxi1RB1oiH5fWGVEHpeUJIvYJUQe06HbKRfVRBOnKJYNt5VEHcp/fSnHVUQfsaRY1CcVRBoIGsSf1sVEHsCOtm52hUQd3R9CubZFRBGuWGVNhfVEH3E3TiiltUQdw0nebcVlRBcmEKQFFTVEHUMXEF0E5UQQbshWmKSlRBtBXeLiNGVEFwIsrUbEFUQUZnK9rmPVRBxu6bgZI5VEFLStDhyDRUQZbahxj6MFRBpOhUxsArVEFAKLrgvCdUQfGDY1xxI1RBk5sYlCMfVEELshttnxpUQdt3v+v8FlRBeryIR60SVEEZtmZlXQ5UQa7luCX/CVRBFaw0f6oFVEGKDqjbNwBUQcKz7/fZ+1NBVd4vY1L4U0FkCnaTHvRTQd25kJIl71NBIX9yWtLqU0EYf1KddeZTQZiG2Ssf4lNBAdH5XcndU0F6gmzwZtlTQQb0IpH71FNBv4lB7JfQU0GuakW/L8xTQaJZG3W4x1NBGyJJbVXDU0GGC3Rv675TQWrjAoWJulNBPZ+lODm2U0Flf6La3bFTQUo+ZcpzrVNBRoeFthKpU0Gi6nRMoKRTQc8POzU2oFNBSg2taMKbU0ELUY5lU5dTQQ5hlznsklNBcJkzajGPU0Fbrtp/7YlTQfg4c3aGhlNB3sfyzJaBU0HNwrumK31TQdvxpnKpeFNBq2vaSEJ0U0FS6fBRcnBTQZwaE1EKbFNBMEHgCntnU0EwH6BXgGJTQXB5yK8zXlNBXe/lvwNaU0HXMuysmFVTQXZCbqiJUFNBnpoyU+dMU0FbfWcne0hTQTD9/8QNRFNBdu0QRXE/U0FcVoDqWDpTQULwtHXuNVNBu/RwZ2AxU0HigsgN6SxTQcwIddtpKFNBRCQ7zOYjU0G6cnigaB9TQQmi4q30GlNBUYOAm3YWU0F2rbq7/xFTQdcCErp0DVNBpcNAMYUJU0G7ynu+LQVTQfuoMF/K/1JBE8uX10j7UkEhtuFJ3vZSQX/sccBm8lJBjIoJTcDuUkEru7K0NulSQf0fnMb45FJBI1/h+KDgUkF3ME/OKdxSQZAFu8+e11JB9ECD4xvTUkEn/V+dlc5SQU1ohA4WylJBVmYOQH/FUkEGVG4dDMFSQVQBQn2FvFJBu9VJOQa4UkFPBG1SgrNSQcfqws0Dr1JBpHLqyYiqUkHQbrtoB6ZSQQDat2F2oVJBZ40JgfScUkGI2BeHXJhSQae+z/nhk1JBDjGgpl6PUkFI9E584opSQSGN2qhhhlJBdfZ8MtyBUkELNAC8VH1SQUj0KhjEeFJBXBvlfzl0UkFwvG0Wym9SQQrJpLREa1JBdg+ZbsJmUkFJKJmcLmJSQR0b58GgXVJBE5/nQRJZUkE0IEtGh1RSQcl+eZ/9T1JBNy17iHVLUkF5iYjx6UZSQXE1zYVVQlJB0zvg58E9UkGNkynJPDlSQWnR6qK8NFJBa4HjoTMwUkF40t8uqitSQTh8bq4QJ1JBI7l6fXwiUkFqwAIj5B1SQd+jdNxGGVJBHrfv1rAUUkFZYvAvJxBSQe8hy4kGDFJBB4sywAwHUkGJAV4jZAJSQfGhI2zS/VFBqAVkmTr5UUGazTvHqvRRQXGxoGgN8FFBfpSq7GzrUUGdcTT5wuZRQUr0GdMk4lFBAjS6FJPdUUFB1OJ6D9lRQcOrBC571FFB7LR5VcLPUUFnVIyADstRQU7b6HZ8xlFBGWDJk/3BUUHeLQNwbr1RQY6EudfIuFFBsnCqRD20UUEkbfW5qq9RQXWVsXgPq1FBe/hQd2qmUUHOXfD61KFRQX40kCwUnVFB/3ec7XWYUUFZ+8sJz5NRQXdzUpk1j1FBHxttLa2KUUG4cmkAGYZRQWu3G5B+gVFBVg0nXu98UUEn4eVqUXhRQadmejSvc1FBTZJSVhVvUUGHCmjVempRQZrxBuPiZVFBp0K3RT1hUUHzoi0omVxRQRsLylsBWFFBFcvuRVxTUUFvdUFovU5RQTUTgb8eSlFBuyQcE4VFUUHYFA8U2kBRQY1JtkNAPFFBRBn7D503UUHruk8G7zJRQZ5CdL1ILlFBly8xfZQpUUF9o50n+SRRQY3IddxXIFFBBYEYm6obUUFKmA4F4xZRQdk0Q/w5ElFBQlYVAo8NUUGbnBT68whRQamk+rZZBFFBdZwMz5n/UEFpq8if7/pQQcsqbT9F9lBBbHmynpPxUEF33LZY8exQQVxLKvpO6FBBSVIsranjUEE4kEOSB99QQW/XFZ1X2lBBHgmXQKfVUEEFz6hv9tBQQVmC4HRPzFBBuKxlC4rHUEGU1l+p7cJQQQ48mas/vlBBZycOPJu5UEGTf74V9bRQQRnFgTJJsFBBVg3ETo+rUEFOW3r/8qZQQVKyjINKolBBXz92UZqdUEEnNTUh9ZhQQSaMjaRPlFBBGVLBSKePUEE5/T1R9opQQc2p46AzhlBB0c34JoyBUEEWW5R76HxQQTRoSRI/eFBBvtwLwpdzUEEHW3kW125QQfJfhZstalBBaPHNeINlUEHgxvXd2WBQQU4g/5oxXFBBtCl88mpXUEFyPAJexVJQQa6vy+QZTlBBKrMPf29JUEF+MmBPoURQQcehvnfaP1BBbhOt1yU7UEGD8ZuEfDZQQQYOlCjTMVBBKm+vDSctUEEqVFblcyhQQcNnu/q3I1BBeea42wwfUEHvR/oYUxpQQW46niKaFVBBEf4rIu8QUEF+/g+9RQxQQZ30zKSmB1BB0vMZkfoCUEFFcoO9ovxPQfji8yFO809BHejVCPnpT0F0Z8FijOBPQUIamyc3109BETU7rd3NT0FIX1qwgcRPQRI+FLAPu09BpHD7XWyxT0EMvufS9qdPQYRr/Fqonk9BKryCME2VT0GPhlGV7ItPQTwCaYqNgk9BypfwLzB5T0EjD4Iey29PQY9Uh38QZk9Bb/eOo2BcT0FbJ1rOC1NPQew7NHK9SU9B0ygyfmZAT0E5nD247DZPQbUOMo+GLU9BeBNveCgkT0Hdj9pbyRpPQYgcoR1rEU9B+SD9cwwIT0E8qE4rq/5OQcdRPM9I9U5BY92h6bPrTkERhF4xUOJOQaKLDMHv2E5BdEbv15DPTkGjRQsTHMZOQT4GQGOzvE5BvwKSPyGzTkFWfuJ7vKlOQRBjM7hboE5BAQwOQOKWTkEqMhcUao1OQSCn28XWg05BkBpBdXd6TkFSK+VN9nBOQcBkeW56Z05BQW+T2xReTkGqXCHVt1ROQZpGyaZTS05BeHsBNNNBTkEfKkDndjhOQRPDpl/uLk5Br83OIoolTkHTIcul0RxOQcLa9no5E05BinJM5roJTkFuiDNUUwBOQcGdhBY29U1B9xdua8brTUGe2loRUuJNQdA4qFnp2E1BL3T1/1/PTUFMjvnh38VNQavqyaVfvE1BunSsoOCyTUGzmeGygqpNQewdRffen01B2jAzJMCXTUHu5py2N45NQf3ZJMK6hE1BC1hppDh7TUFU6TVO03FNQWj+A2RqaE1BvuXWBQFfTUHjmSlmflVNQeTR5F7lS01Bg/4Op3RCTUEIfLC/8zhNQcuMO+tzL01B9z1YOwUmTUFtcEA1lRxNQQtgmzsnE01BYbAVsYwKTUGboc0YCgFNQQWT+BOe90xBdkjqUgHuTEFi5sjYcuRMQWiEsY852UxB4gQ0KbPPTEFev5toR8ZMQcyCUNHavExB5cVbY1WzTEFCbsM8t6lMQVbft0BCoExBUQWXhNWWTEF+DPLKaY1MQef4ojz8g0xBKOhQCYB6TEGMRFX613BMQSVln8FsZ0xB4YdYHvFdTEH+b2O9YlRMQdYFJYGhTExBL1mSoxtDTEFZX/eykjlMQbpa1igmMExBSvc2U58mTEGVL0JyGh1MQfrto5arE0xByBeppEYKTEGXpxEszABMQULZvMwu90tBpIHtJLLtS0GP1F4TC+NLQS5jAZxs2UtBJMFsOfTPS0F+tii1gsZLQbYeh2/xvUtBTCDYA4O0S0Fhdk6XE6tLQT+6FGSkoUtBZ6H41zSYS0FNVgQzxI5LQR4bNvdThUtBc4C+puZ7S0Gt3UVXXnJLQcca63TvaEtBoA59pYlfS0Eid4X2GVVLQVu6KP6RS0tBhPiHwbJCS0EfmlmPCTlLQQllJo2aL0tB7lEMaTAmS0FDrCBrpBxLQUHCMMw0E0tBQOCZjsQJS0GoptEnOgBLQcYajlHL9kpBcpGEWF3tSkEEh/RB1eNKQcmshF5i2kpB9TFgcu3QSkHBN0TDZsdKQflOs0VUvkpBGRqkA4O0SkHPe739+6pKQfjgFQpYoUpBHiurytGXSkFSs6f/Xo5KQQToFWnBhEpBtnSerkx7SkG/2wKX2XFKQQbVG6VsaEpBpYHYkOheSkEe+xdKeFVKQVpkLvIHTEpBE8p1ypZCSkHz61YFJjlKQTLtgj61L0pBjpf1LxUmSkEmluQHiRxKQeIXKi0ZE0pBujVorGAJSkEtSlCt2P9JQUEGtjpN9klBI190c9vsSUHjaFjUbeNJQQy3EMe12UlBXbmLzEXQSUGwxhJa08ZJQRgXgr5bvUlBoIg0HPOzSUER9m7sgKpJQTVZescQoUlBg58K3pyXSUG8iIbBF45JQUIzmmWFhElBzhKASw57SUHLTxfSnXFJQQb6qR/UZklB8ekPS6NeSUHhdrkCHFVJQdeMNnmpS0lBzoz/Uj1CSUHG0+nayDhJQYjGHDteL0lBOzr0ZeslSUEHDWxLehxJQWRij3fqEklBmBUym0gJSUEJBdGeqP9IQd3ICL9+9UhB5kcsC8/sSEHJmJN+qOJIQfoqiYfL2UhBI5sK82HQSEGyBrqp8sZIQfUhBPN/vUhBjSkTRg+0SEFXBrVznapIQfGFkmApoUhBYetrwHGXSEFuL0gK6Y1IQa5TvoZehEhBJLGIpux6SEFrJVhVZnFIQXvM6tjdZ0hB+XX1N25eSEHBqNE75lRIQf69+u52S0hBmb+2ywVCSEFWsNi1fjhIQejXJrz1LkhBq4IuC4ElSEG50GeW+RtIQetzlllyEkhBRjWAAwIJSEFPaFxtYv9HQSD3wZTy9UdBQjbX44LsR0G2d/bh+uJHQYkhtyaM2UdBzWMnvhrQR0HLV1Wtq8ZHQbTFd7QlvUdBWQCZuLazR0FR7h7cL6pHQbi0PG/BoEdBu1dTDTmXR0GaKPpsyI1HQcR/eVhZhEdBSHYFu7l6R0GyfDGkSnFHQQD9Ia/CZ0dBuB8iElReR0HVnqYOtVRHQfw6EOtGS0dBbTlV89hBR0FH9PWYVDhHQRnU+y7kLkdBbkoVZ10lR0FE59Mb7htHQZp06IR/EkdB6qgjIBIJR0EOkkFmp/9GQROVDRU59kZBUYAAhrDsRkHkgCE0QONGQW8t893Q2UZBvmwQU0TQRkHeZIR0ycZGQRx+3CRCvUZBb0e6GdGzRkHKuv+ERqpGQVq4Y7neoEZBZr/Z4ViXRkFaAMsG141GQVVsE+9QhEZB4WgLyLJ6RkFhVIRcLXFGQaftq1umZ0ZBWyyBpzleRkF5eHJhz1RGQS7eyJBkS0ZBl5TRmfRBRkHhmigyizhGQQStdKsdL0ZBlDmZMLAlRkHOrPSNRhxGQcf1qd3aEkZBqE3K9D0JRkGLpY640v9FQY1pt6JO9kVBSSxuRsrsRUFY8MV6SONFQec5V5PF2UVB5vF2sljQRUFJzL1j1cZFQZ2oUyxqvUVBjRGG+P2zRUEQtOy3fKpFQXF93d4RoUVBR/GsDo6XRUEWeq0/I45FQTZz5Mu5hEVBPb0Ojk97RUGTbOic5XFFQcdOfedjaEVBMqBdyt9eRUGa3kzuclVFQfk9RQ0MTEVBK1sE9qJCRUH5XVTEIDlFQYSWN4iiL0VB36WYkTYmRUFxR2zizBxFQcKTGY9jE0VBSAnAofsJRUEVQMdqkwBFQZsxdyMs90RBmetu8r7tREFaUi11V+REQTvPzeHu2kRB3hzz9T7RREESj6hd18dEQXpD5bFxvkRBDoetT/C0REGjvGeghatEQe0IocAEokRBu4N2k4OYREGDLojVB49EQeJxKvWhhURBkkqFYCF8REGea6GHuHJEQTzl19AgaURBRJhKwKJfREFBtRn1BFZEQTAO0WmNTERB2T+VjwhDREHa9R/kpjlEQXT9FxEoMERBo45WOrsmREGlPF6TRB1EQXpAWQ6xE0RBwdgbukoKREED+CKbywBEQX+nD+9K90NBzNRprsntQ0E2qq77Z+RDQfZNHmkE20NBEGPcNaLRQ0GLpaL7IMhDQRRTRhE/vkNBzeG6KSi1Q0GXB9eXq6tDQfhbWf4uokNB6Op4Ks+YQ0GFunlYaI9DQaJPcjTrhUNB+U+zkYh8Q0E41/R8BnNDQTkQ08WlaUNB+VzYvD1gQ0HOgl3i4FZDQQKzWbFMTUNBjyKUEbpDQ0FlOhCWPzpDQZN8Lp7cMENBnRN7x3knQ0E+BWJ5FR5DQYCZ93G0FENBb+LDqzoLQ0HQjKnxwQFDQWi20uRe+EJBxEPXy/zuQkG4NnLVmOVCQf2IYGcW3EJBnndfmZ7SQkGgDubkRslCQYpkzVrNv0JBOyz3R1S2QkGaeoFL2qxCQU268cp4o0JBISIw/xSaQkEUJkkMh5BCQZtatQIqh0JBKYEdSrB9QkHUw2tpSHRCQRdiStrRakJB82q/4lVhQkGWkzFZ/1dCQY54ym6eTkJBPSHAT0BFQkHhmCqb3TtCQXJzLA+AMkJBfUbvywcpQkHVBGuJqx9CQZ+D5yspFkJBSUonsb4MQkF2LkQsXgNCQZy6ZW71+UFBRHQB8ojwQUGMsK1GEOdBQZEi67I63UFBS+oAjFnUQUGfZaCY6MpBQcBGvFBvwUFBa1EacAq4QUEVK1vMqa5BQc7q03JJpUFBIlYsgYubQUFEQWGJJZJBQRJkev2+iEFBl8+n1G1/QUFaV1P1DnZBQVFhtbqhbEFBBnvOOyJjQUGT4CnQ0VlBQXXU9XpfUEFBY2GcoQFHQUF9vkeneT1BQbe4btUhNEFBP4VuuMgqQUFeAXrNPiFBQZFX2oLgF0FBBSAs3GkOQUGK6kJr9wRBQdl+/dOk+0BBMeB2OznyQEGvx9GiLOhAQUSHpU+X3UBBMsk4WhDTQEGh7c7/j8hAQSnDEbZVvkBB6ZMsTvSzQEHJaqZLNKlAQSVV6H5Dn0BBiWEVjJCUQEEZPxPnn4pAQViD0rJFgEBB9cjpYfZ1QEEP5Rufg2tAQZ7FJYL+YEBBdZDZrZZWQEEjuSavQkxAQSiF/tjtQUBB4UgtPJo3QEFv1RIrMC1AQT8WlprgIkBBPIvP644YQEHZ4Nx6GA5AQaz1P6agA0BBWa52tHfyP0F5YIlIkd0/QaJcYLajyD9BrGOQmcCzP0G91wrzEp8/Qd2q888Xij9BSzqcBXd1P0Fyc/xN+2A/Qes6EhJ8TD9Bkrpe+7Y3P0GhiOKc4iI/Qf8yUiFWDj9Baq1IGWT5PkHoJ+mwYuQ+QSA24Iszzz5BrcBGbWu6PkHpSIXC46U+QfFzUssfkT5BYc0OlZZ8PkHSDult+Wc+QbmoTe9lUz5Bjs6kOfc+PkEGquGeVyo+QTGKXZagFT5BUYNGFQoBPkGxEErtkuw9Qb8/TkUJ2D1BjtrS9ILDPUHD5WaR+K49QdkXYlQImj1BFYpQQYOFPUEkSN6K/3A9QdN2vNskXD1BhqZj/K1HPUFRHOyRKjM9QTankJasHj1BMbu9FfoJPUFkX8Hw0/U8QUgOAPqk4jxBvAcZhpvPPEEU4qYJ2bw8QdWz/jDqqTxB7EoGUgCXPEFQrBnqZIQ8Qc7/LvzHcTxBhD9+C/VePEEVhhb3bUw8QeZM+1WhOTxBjLvyGOomPEHHv0lLUBQ8QaysQ0LJATxB7shIzfzuO0E7ZEuEYNw7QTK43u61yDtBsgoWaBG3O0H2crE8VqQ7QahIc/G9kTtBp4TWuHx+O0FuEO5a7ms7QZ3jJlZpWTtBIc1hom1HO0E7j7i8sTQ7QRcCwZSEITtBlQ3kf2APO0Gdf1NFn/w6QdGc0JfY6TpBL5EiVxvXOkEZTyock8Q6QdNX4+RosTpBgqZCkaieOkE4vuOA8Is6QT/uiK5teTpBERlzjNtmOkHAiavB61M6QXMhPFoiQTpBGEXdMJIuOkFX9PRHCBw6QcAsOctKCTpBQIOper72OUGlv5lkwuM5Qf80mCQ00TlBtVqXBZm+OUHINkM7qas5QdAPTUYemTlB7FN/mJeGOUEo7OBr33M5QRn15qomYTlBjC0MhWpOOUG0W+lI4js5QXhsB7woKTlBNmggRHIWOUErRfZ85QM5QZGfXjwk8ThBlPf5XUreOEGPrQs+xMs4QRwGGRk8uThBiSscYoGmOEHICuo1zpM4QVistSW3gThB1+pvSOBuOEFmMFYJXVw4QT0Sn77PSThBy9OJabw2OEGIBrQ9DiQ4QbDdF859EThBtjLOc1r/N0HqXEaV0ew3QdCLxkC32TdBnQh+XgbHN0EfqjQtQLQ3Qb/fr2mdoTdBaiLWXACPN0GfgKL0anw3QXVzCcq7aTdBTHNyGzhXN0HlSGSxvEQ3QaNqV3cYMjdBMueFilQfN0Fw6FNNyQw3QTu4vfVH+jZBuau0zLXnNkHuGSw/MNU2QZicB+qTwjZBBryMikmwNkFZ3tgQY502QScekVqsijZB4Id31MB3NkHFqXcOFGU2QU1dmKVoUjZBlnSx3N4/NkEgoeeEWi02QTLhdcyyGTZBiU5LtzMHNkHqkjFlvvU1QVS3jJEn4jVBPlVp/KXPNUHK3+LnKL01QRipPViMqzVB+PWbRLiYNUECd8gpOIY1QeV7C/yzczVB/9GL/QlhNUHoGcihcU41QcV2D0LJOzVBxFZneTwpNUG1yDkXHBY1Qd3OSkD5AzVBvlzYH8PxNEFVvAHWS980QbEPRa95zDRBOV2jk3u5NEEXt3f/+6Y0QRMXty5tlDRBegANLeqBNEGdFIdBEG80QYhuiTv0XDRBTsyXm3xKNEHkU8NCAzg0Qc6b3yxbJTRBJzybruASNEHMVRbnAgA0QUoQtLha7TNBzqxRG7XaM0H2GiPI6cYzQVfw4bAQtDNBW95KPX6iM0HU7gbv1I8zQZnmU/M0fTNBm+3nLpNqM0FCGXpAG1gzQbPT9hmpRTNBmr0z5/oyM0HZ1tU3PyAzQc+wzJy/DTNBrSfEyfj6MkGqsh9hiugyQdMN1nDl1TJBe7SaOTnDMkEiUuvbwLAyQe1+QVU+njJB1oRX456LMkHaNpqd+3gyQc/ZzwaLZjJBChmdFd9TMkEkanXra0EyQZbY+oTMLjJBV5m15tAbMkF5yprpWAkyQd+2SoG89jFBB2IwqOTjMUGfktj419AxQWKwVDUpvjFBA2hnSbSrMUFFKu2KFJkxQWYqjmB3hjFBbSxIK91zMUEuijoHPmExQaxbbQnNTjFBzskDKVU8MUHG0+0ytSkxQRgjErJHFzFBdKxQ/soEMUEDwTgDTPIwQYHrD0O53zBB3RwJQiLNMEGDSJTVfLowQRWKlgoOpzBBD/qTTJqUMEGnpjUY84EwQR93cHWAbzBBGEFbXxxdMEEy8JPJp0owQU63Y8g2ODBBUbyxhsolMEEVfqX6JRMwQeXAFrZ6ADBBO3IhyDPcL0GvYR2tY7cvQSI2aKDLkS9BfFw0c+NsL0HBHlefpEcvQTn7FHppIi9B2EMliUD9LkF7XPzzcdguQZuJtTCCsy5BSdneC5mOLkGbHyu9tWguQRGBR8/tQy5BzRGXJrweLkHXD0055/ktQZcVuLsH1S1B5T5IEV+vLUGz9mWOw4ktQRLFeLrhZC1BmvruzwVALUFSIztxKxstQS0Dpttd9ixBMgmIbULRLEHxr3RJdawsQcZo55s+hyxBum5aKVlhLEH818v51TssQej8/FXpGCxBf8x1IP/zK0ElzafmHs8rQWn+ZH3mqStBKrOwfwuFK0GQRLgb4l8rQRLg22gZOytBIIajePIVK0EL3wsAIvEqQVYTshhXyipBkPwLmw+lKkHoLsoS9IAqQfDwPigoXCpB9hX0IiY3KkFSzIHQ5REqQUJ8yYdW7ClBw6ILzEvFKUFMtab0e6ApQf5u8ktsfilBjJYk5Z9ZKUGUqt5z3DQpQbt5e8gaEClBnp0mEVHrKEHGkOSkPMUoQYh2zTlyoChB7iRiLqZ7KEFl69TcjVUoQYSq+RK3MChBNUIjGioLKEF0hqQaXOYnQR3oWuqHwSdB4G48s1ecJ0Ft+KK4/XYnQWHgxJqzUidBXOAyNZUtJ0F2LeEqdggnQUA2Cl1M4yZBGvPs7TG+JkFfimVvdJkmQQwtDJGsdCZBmrB6xtVRJkG4c6tOsywmQRKAZcs2ByZBQUChg33iJUGL0J4loL0lQQn8k0bUmCVBnlJMpbJzJUFautHD6k4lQYXR168mKiVB2LZA9WkFJUGtLD7zROAkQdP9nY16uyRBUOlgWW2WJEFmwRiksHEkQbU8pOfiTCRBsKYMZBUoJEF342QyRAMkQWIHYmhy3iNBOiaOKPe4I0GumCsW85IjQU3SomUsbiNBdiou121JI0HuU+XgpiUjQXri61eYACNB5AYkY3TbIkElvGvqvbYiQZtGshaVkSJBdzWmzMlsIkHjjEn8pEciQSF3IQvDISJBN6nE2gn9IUHNx3YAztkhQSfpJXe5syFBSxvPQRGPIUGnAen3+2ohQRlDblhFRiFB5LP3viEhIUHUOq3zXPwgQZoko14/1yBBprsatCayIEFBzPuWp4wgQSqLWo3ZZyBBGNYIHGdCIEFE5VT7ghwgQc6TasgZ7h9BBV9iFtekH0FGLWdCyFofQTSb6ncrER9BWZFgTEDGHkFstl3D4nweQeZlq/dBMx5B31kqSrDpHUEuaOPANKAdQcKstmMKVh1BUxyEzn0KHUHCU8BFEMEcQYBYpQUrdhxBLpzd6M8sHEFH64zih+MbQdi4WRkRmhtBGt4O25NQG0HallGT8wYbQTfmjQq/vBpBKMcHxt9xGkEOpZtioCcaQbyVTf063hlBb1gS1NCUGUEub+USoUoZQRKtKBJ+ABlBZ65SbUm2GEH/zMmDfWsYQcltkkrwIRhBVLEJpXnYF0HtEHv87I4XQagiiPeDRRdB8/lI5bX6FkG5qlU9Ga8WQf5Y68eqZRZBKqczxXUbFkFrlp+PrNAVQUOLt4BThxVBOJ1NphA+FUHkp6G82/MUQdS8nBvAqRRBgxwF+JxfFEEf8p1UERYUQazy1mKKzBNBtPxfRWmCE0FT1JZkRjMTQWTgkF7d6RJBGvPrOnegEkF1UQ5MCFcSQSe8eZY0DBJBB8tXGSfCEUH8c5NwVngRQR1K0dV0NBFBvs+zXiTrEEGooyKOMKAQQbUI+ToaVRBBcjLPw2gGEEGgHfk/g3gPQef8w2lE5w5BkqdaKMFUDkF6qazQ6sANQd9wRjHMLA1BWI0j0T2aDEHB/k7k7gUMQQDxfRbhbwtBXZUM3//cCkHIYw9190oKQQ6nhyAZuAlBYrWEyWYlCUEtLzH0zZIIQZyWP+Oj/gdBk1BdzRZsB0Hmfsze4NcGQd/PMlcmRQZB4sRC29ewBUFE0CmF/BoFQYemHs2qhgRBAaKFcbfyA0GVjKNuiV4DQX1HwgZAygJBe33dFHI3AkE8V79cvKQBQURSLJdYEAFBHG46MjZ8AEEIrlS88sz/QAak3pBgpP5AiTrt4O5+/UCQdGXaxVb8QFcaYEsLMftAL/TKsb8L+kCodA7nSuP4QEwEwkDCvfdAnkIcNDiT9kD2oMgqD2v1QJ7fuP28PPRAdluK59YW80DjPv2Y2vHxQHpco2i3yfBArwxY7EpD70CTFbckAfjsQLXr9NHppupA2hyxE6dV6EA=\"},\"shape\":[1537],\"dtype\":\"float64\",\"order\":\"little\"}],[\"Beam\",{\"type\":\"ndarray\",\"array\":[\"BEAM0000\",\"BEAM0000\",\"BEAM0000\",\"BEAM0000\",\"BEAM0000\",\"BEAM0000\",\"BEAM0000\",\"BEAM0000\",\"BEAM0000\",\"BEAM0000\",\"BEAM0000\",\"BEAM0000\",\"BEAM0000\",\"BEAM0000\",\"BEAM0000\",\"BEAM0000\",\"BEAM0000\",\"BEAM0000\",\"BEAM0000\",\"BEAM0000\",\"BEAM0000\",\"BEAM0000\",\"BEAM0000\",\"BEAM0000\",\"BEAM0000\",\"BEAM0000\",\"BEAM0000\",\"BEAM0000\",\"BEAM0000\",\"BEAM0000\",\"BEAM0000\",\"BEAM0000\",\"BEAM0000\",\"BEAM0000\",\"BEAM0000\",\"BEAM0000\",\"BEAM0000\",\"BEAM0000\",\"BEAM0000\",\"BEAM0000\",\"BEAM0000\",\"BEAM0000\",\"BEAM0000\",\"BEAM0000\",\"BEAM0000\",\"BEAM0000\",\"BEAM0000\",\"BEAM0000\",\"BEAM0000\",\"BEAM0000\",\"BEAM0000\",\"BEAM0000\",\"BEAM0000\",\"BEAM0000\",\"BEAM0000\",\"BEAM0000\",\"BEAM0000\",\"BEAM0000\",\"BEAM0000\",\"BEAM0000\",\"BEAM0000\",\"BEAM0000\",\"BEAM0000\",\"BEAM0000\",\"BEAM0000\",\"BEAM0000\",\"BEAM0000\",\"BEAM0000\",\"BEAM0000\",\"BEAM0000\",\"BEAM0000\",\"BEAM0000\",\"BEAM0000\",\"BEAM0000\",\"BEAM0000\",\"BEAM0000\",\"BEAM0000\",\"BEAM0000\",\"BEAM0000\",\"BEAM0000\",\"BEAM0000\",\"BEAM0000\",\"BEAM0000\",\"BEAM0000\",\"BEAM0000\",\"BEAM0000\",\"BEAM0000\",\"BEAM0000\",\"BEAM0000\",\"BEAM0000\",\"BEAM0000\",\"BEAM0000\",\"BEAM0000\",\"BEAM0000\",\"BEAM0000\",\"BEAM0000\",\"BEAM0000\",\"BEAM0000\",\"BEAM0000\",\"BEAM0000\",\"BEAM0000\",\"BEAM0000\",\"BEAM0000\",\"BEAM0000\",\"BEAM0000\",\"BEAM0000\",\"BEAM0000\",\"BEAM0000\",\"BEAM0000\",\"BEAM0000\",\"BEAM0000\",\"BEAM0000\",\"BEAM0000\",\"BEAM0000\",\"BEAM0000\",\"BEAM0000\",\"BEAM0000\",\"BEAM0000\",\"BEAM0000\",\"BEAM0000\",\"BEAM0000\",\"BEAM0000\",\"BEAM0000\",\"BEAM0000\",\"BEAM0000\",\"BEAM0000\",\"BEAM0000\",\"BEAM0000\",\"BEAM0000\",\"BEAM0000\",\"BEAM0000\",\"BEAM0000\",\"BEAM0000\",\"BEAM0000\",\"BEAM0000\",\"BEAM0000\",\"BEAM0000\",\"BEAM0000\",\"BEAM0000\",\"BEAM0000\",\"BEAM0000\",\"BEAM0000\",\"BEAM0000\",\"BEAM0000\",\"BEAM0000\",\"BEAM0000\",\"BEAM0000\",\"BEAM0000\",\"BEAM0000\",\"BEAM0000\",\"BEAM0000\",\"BEAM0000\",\"BEAM0000\",\"BEAM0000\",\"BEAM0000\",\"BEAM0000\",\"BEAM0000\",\"BEAM0000\",\"BEAM0000\",\"BEAM0000\",\"BEAM0000\",\"BEAM0000\",\"BEAM0000\",\"BEAM0000\",\"BEAM0000\",\"BEAM0000\",\"BEAM0000\",\"BEAM0000\",\"BEAM0000\",\"BEAM0000\",\"BEAM0000\",\"BEAM0000\",\"BEAM0000\",\"BEAM0000\",\"BEAM0000\",\"BEAM0000\",\"BEAM0000\",\"BEAM0000\",\"BEAM0000\",\"BEAM0000\",\"BEAM0000\",\"BEAM0000\",\"BEAM0000\",\"BEAM0000\",\"BEAM0000\",\"BEAM0000\",\"BEAM0000\",\"BEAM0000\",\"BEAM0000\",\"BEAM0000\",\"BEAM0000\",\"BEAM0000\",\"BEAM0000\",\"BEAM0000\",\"BEAM0000\",\"BEAM0000\",\"BEAM0000\",\"BEAM0000\",\"BEAM0000\",\"BEAM0000\",\"BEAM0000\",\"BEAM0000\",\"BEAM0000\",\"BEAM0000\",\"BEAM0000\",\"BEAM0000\",\"BEAM0000\",\"BEAM0000\",\"BEAM0000\",\"BEAM0000\",\"BEAM0000\",\"BEAM0000\",\"BEAM0000\",\"BEAM0000\",\"BEAM0000\",\"BEAM0000\",\"BEAM0000\",\"BEAM0000\",\"BEAM0000\",\"BEAM0000\",\"BEAM0000\",\"BEAM0000\",\"BEAM0000\",\"BEAM0000\",\"BEAM0000\",\"BEAM0000\",\"BEAM0000\",\"BEAM0000\",\"BEAM0000\",\"BEAM0000\",\"BEAM0000\",\"BEAM0000\",\"BEAM0000\",\"BEAM0000\",\"BEAM0000\",\"BEAM0000\",\"BEAM0000\",\"BEAM0000\",\"BEAM0000\",\"BEAM0000\",\"BEAM0000\",\"BEAM0000\",\"BEAM0000\",\"BEAM0000\",\"BEAM0000\",\"BEAM0000\",\"BEAM0000\",\"BEAM0000\",\"BEAM0000\",\"BEAM0000\",\"BEAM0000\",\"BEAM0000\",\"BEAM0000\",\"BEAM0000\",\"BEAM0000\",\"BEAM0000\",\"BEAM0000\",\"BEAM0000\",\"BEAM0000\",\"BEAM0000\",\"BEAM0000\",\"BEAM0000\",\"BEAM0000\",\"BEAM0000\",\"BEAM0000\",\"BEAM0000\",\"BEAM0000\",\"BEAM0000\",\"BEAM0000\",\"BEAM0000\",\"BEAM0000\",\"BEAM0000\",\"BEAM0000\",\"BEAM0000\",\"BEAM0000\",\"BEAM0000\",\"BEAM0000\",\"BEAM0000\",\"BEAM0000\",\"BEAM0000\",\"BEAM0000\",\"BEAM0000\",\"BEAM0000\",\"BEAM0000\",\"BEAM0000\",\"BEAM0000\",\"BEAM0000\",\"BEAM0000\",\"BEAM0000\",\"BEAM0000\",\"BEAM0000\",\"BEAM0000\",\"BEAM0000\",\"BEAM0000\",\"BEAM0000\",\"BEAM0000\",\"BEAM0000\",\"BEAM0000\",\"BEAM0000\",\"BEAM0000\",\"BEAM0000\",\"BEAM0000\",\"BEAM0000\",\"BEAM0000\",\"BEAM0000\",\"BEAM0000\",\"BEAM0000\",\"BEAM0000\",\"BEAM0000\",\"BEAM0000\",\"BEAM0000\",\"BEAM0000\",\"BEAM0000\",\"BEAM0000\",\"BEAM0000\",\"BEAM0000\",\"BEAM0000\",\"BEAM0000\",\"BEAM0000\",\"BEAM0000\",\"BEAM0000\",\"BEAM0000\",\"BEAM0000\",\"BEAM0000\",\"BEAM0000\",\"BEAM0000\",\"BEAM0000\",\"BEAM0000\",\"BEAM0000\",\"BEAM0000\",\"BEAM0000\",\"BEAM0000\",\"BEAM0000\",\"BEAM0000\",\"BEAM0000\",\"BEAM0000\",\"BEAM0000\",\"BEAM0000\",\"BEAM0000\",\"BEAM0000\",\"BEAM0000\",\"BEAM0000\",\"BEAM0000\",\"BEAM0000\",\"BEAM0000\",\"BEAM0000\",\"BEAM0000\",\"BEAM0000\",\"BEAM0000\",\"BEAM0000\",\"BEAM0000\",\"BEAM0000\",\"BEAM0000\",\"BEAM0000\",\"BEAM0000\",\"BEAM0000\",\"BEAM0000\",\"BEAM0000\",\"BEAM0000\",\"BEAM0000\",\"BEAM0000\",\"BEAM0000\",\"BEAM0000\",\"BEAM0000\",\"BEAM0000\",\"BEAM0000\",\"BEAM0000\",\"BEAM0000\",\"BEAM0000\",\"BEAM0000\",\"BEAM0000\",\"BEAM0000\",\"BEAM0000\",\"BEAM0000\",\"BEAM0000\",\"BEAM0000\",\"BEAM0000\",\"BEAM0000\",\"BEAM0000\",\"BEAM0000\",\"BEAM0000\",\"BEAM0000\",\"BEAM0000\",\"BEAM0000\",\"BEAM0000\",\"BEAM0000\",\"BEAM0000\",\"BEAM0000\",\"BEAM0000\",\"BEAM0000\",\"BEAM0000\",\"BEAM0000\",\"BEAM0000\",\"BEAM0000\",\"BEAM0000\",\"BEAM0000\",\"BEAM0000\",\"BEAM0000\",\"BEAM0000\",\"BEAM0000\",\"BEAM0000\",\"BEAM0000\",\"BEAM0000\",\"BEAM0000\",\"BEAM0000\",\"BEAM0000\",\"BEAM0000\",\"BEAM0000\",\"BEAM0000\",\"BEAM0000\",\"BEAM0000\",\"BEAM0000\",\"BEAM0000\",\"BEAM0000\",\"BEAM0000\",\"BEAM0000\",\"BEAM0000\",\"BEAM0000\",\"BEAM0000\",\"BEAM0000\",\"BEAM0000\",\"BEAM0000\",\"BEAM0000\",\"BEAM0000\",\"BEAM0000\",\"BEAM0000\",\"BEAM0000\",\"BEAM0000\",\"BEAM0000\",\"BEAM0000\",\"BEAM0000\",\"BEAM0000\",\"BEAM0000\",\"BEAM0000\",\"BEAM0000\",\"BEAM0000\",\"BEAM0000\",\"BEAM0000\",\"BEAM0000\",\"BEAM0000\",\"BEAM0000\",\"BEAM0000\",\"BEAM0000\",\"BEAM0000\",\"BEAM0000\",\"BEAM0000\",\"BEAM0000\",\"BEAM0000\",\"BEAM0000\",\"BEAM0000\",\"BEAM0000\",\"BEAM0000\",\"BEAM0000\",\"BEAM0000\",\"BEAM0000\",\"BEAM0000\",\"BEAM0000\",\"BEAM0000\",\"BEAM0000\",\"BEAM0000\",\"BEAM0000\",\"BEAM0000\",\"BEAM0000\",\"BEAM0000\",\"BEAM0000\",\"BEAM0000\",\"BEAM0000\",\"BEAM0000\",\"BEAM0000\",\"BEAM0000\",\"BEAM0000\",\"BEAM0000\",\"BEAM0000\",\"BEAM0000\",\"BEAM0000\",\"BEAM0000\",\"BEAM0000\",\"BEAM0000\",\"BEAM0000\",\"BEAM0000\",\"BEAM0000\",\"BEAM0000\",\"BEAM0000\",\"BEAM0000\",\"BEAM0000\",\"BEAM0000\",\"BEAM0000\",\"BEAM0000\",\"BEAM0000\",\"BEAM0000\",\"BEAM0000\",\"BEAM0000\",\"BEAM0000\",\"BEAM0000\",\"BEAM0000\",\"BEAM0000\",\"BEAM0000\",\"BEAM0000\",\"BEAM0000\",\"BEAM0000\",\"BEAM0000\",\"BEAM0000\",\"BEAM0000\",\"BEAM0000\",\"BEAM0000\",\"BEAM0000\",\"BEAM0000\",\"BEAM0000\",\"BEAM0000\",\"BEAM0000\",\"BEAM0000\",\"BEAM0000\",\"BEAM0000\",\"BEAM0000\",\"BEAM0000\",\"BEAM0000\",\"BEAM0000\",\"BEAM0000\",\"BEAM0000\",\"BEAM0000\",\"BEAM0000\",\"BEAM0000\",\"BEAM0000\",\"BEAM0000\",\"BEAM0000\",\"BEAM0000\",\"BEAM0000\",\"BEAM0000\",\"BEAM0000\",\"BEAM0000\",\"BEAM0000\",\"BEAM0000\",\"BEAM0000\",\"BEAM0000\",\"BEAM0000\",\"BEAM0000\",\"BEAM0000\",\"BEAM0000\",\"BEAM0000\",\"BEAM0000\",\"BEAM0000\",\"BEAM0000\",\"BEAM0000\",\"BEAM0000\",\"BEAM0000\",\"BEAM0000\",\"BEAM0000\",\"BEAM0000\",\"BEAM0000\",\"BEAM0000\",\"BEAM0000\",\"BEAM0000\",\"BEAM0000\",\"BEAM0000\",\"BEAM0000\",\"BEAM0000\",\"BEAM0000\",\"BEAM0000\",\"BEAM0000\",\"BEAM0000\",\"BEAM0000\",\"BEAM0000\",\"BEAM0000\",\"BEAM0000\",\"BEAM0000\",\"BEAM0000\",\"BEAM0000\",\"BEAM0000\",\"BEAM0000\",\"BEAM0000\",\"BEAM0000\",\"BEAM0000\",\"BEAM0000\",\"BEAM0000\",\"BEAM0000\",\"BEAM0000\",\"BEAM0000\",\"BEAM0000\",\"BEAM0000\",\"BEAM0000\",\"BEAM0000\",\"BEAM0000\",\"BEAM0000\",\"BEAM0000\",\"BEAM0000\",\"BEAM0000\",\"BEAM0000\",\"BEAM0000\",\"BEAM0000\",\"BEAM0000\",\"BEAM0000\",\"BEAM0000\",\"BEAM0000\",\"BEAM0000\",\"BEAM0000\",\"BEAM0000\",\"BEAM0000\",\"BEAM0000\",\"BEAM0000\",\"BEAM0000\",\"BEAM0000\",\"BEAM0000\",\"BEAM0000\",\"BEAM0000\",\"BEAM0000\",\"BEAM0000\",\"BEAM0000\",\"BEAM0000\",\"BEAM0000\",\"BEAM0000\",\"BEAM0000\",\"BEAM0000\",\"BEAM0000\",\"BEAM0000\",\"BEAM0000\",\"BEAM0000\",\"BEAM0000\",\"BEAM0000\",\"BEAM0000\",\"BEAM0000\",\"BEAM0000\",\"BEAM0000\",\"BEAM0000\",\"BEAM0000\",\"BEAM0000\",\"BEAM0000\",\"BEAM0000\",\"BEAM0000\",\"BEAM0000\",\"BEAM0000\",\"BEAM0000\",\"BEAM0000\",\"BEAM0000\",\"BEAM0000\",\"BEAM0000\",\"BEAM0000\",\"BEAM0000\",\"BEAM0000\",\"BEAM0000\",\"BEAM0000\",\"BEAM0000\",\"BEAM0000\",\"BEAM0000\",\"BEAM0000\",\"BEAM0000\",\"BEAM0000\",\"BEAM0000\",\"BEAM0000\",\"BEAM0000\",\"BEAM0000\",\"BEAM0000\",\"BEAM0000\",\"BEAM0000\",\"BEAM0000\",\"BEAM0000\",\"BEAM0000\",\"BEAM0000\",\"BEAM0000\",\"BEAM0000\",\"BEAM0000\",\"BEAM0000\",\"BEAM0000\",\"BEAM0000\",\"BEAM0000\",\"BEAM0000\",\"BEAM0000\",\"BEAM0000\",\"BEAM0000\",\"BEAM0000\",\"BEAM0000\",\"BEAM0000\",\"BEAM0000\",\"BEAM0000\",\"BEAM0000\",\"BEAM0000\",\"BEAM0000\",\"BEAM0000\",\"BEAM0000\",\"BEAM0000\",\"BEAM0000\",\"BEAM0000\",\"BEAM0000\",\"BEAM0000\",\"BEAM0000\",\"BEAM0000\",\"BEAM0000\",\"BEAM0000\",\"BEAM0000\",\"BEAM0000\",\"BEAM0000\",\"BEAM0000\",\"BEAM0000\",\"BEAM0000\",\"BEAM0000\",\"BEAM0000\",\"BEAM0000\",\"BEAM0000\",\"BEAM0000\",\"BEAM0000\",\"BEAM0000\",\"BEAM0000\",\"BEAM0000\",\"BEAM0000\",\"BEAM0000\",\"BEAM0000\",\"BEAM0000\",\"BEAM0000\",\"BEAM0000\",\"BEAM0000\",\"BEAM0000\",\"BEAM0000\",\"BEAM0000\",\"BEAM0000\",\"BEAM0000\",\"BEAM0000\",\"BEAM0000\",\"BEAM0000\",\"BEAM0000\",\"BEAM0000\",\"BEAM0000\",\"BEAM0000\",\"BEAM0000\",\"BEAM0000\",\"BEAM0000\",\"BEAM0000\",\"BEAM0000\",\"BEAM0000\",\"BEAM0000\",\"BEAM0000\",\"BEAM0000\",\"BEAM0000\",\"BEAM0000\",\"BEAM0000\",\"BEAM0000\",\"BEAM0000\",\"BEAM0000\",\"BEAM0000\",\"BEAM0000\",\"BEAM0000\",\"BEAM0000\",\"BEAM0000\",\"BEAM0000\",\"BEAM0000\",\"BEAM0000\",\"BEAM0000\",\"BEAM0000\",\"BEAM0000\",\"BEAM0000\",\"BEAM0000\",\"BEAM0000\",\"BEAM0000\",\"BEAM0000\",\"BEAM0000\",\"BEAM0000\",\"BEAM0000\",\"BEAM0000\",\"BEAM0000\",\"BEAM0000\",\"BEAM0000\",\"BEAM0000\",\"BEAM0000\",\"BEAM0000\",\"BEAM0000\",\"BEAM0000\",\"BEAM0000\",\"BEAM0000\",\"BEAM0000\",\"BEAM0000\",\"BEAM0000\",\"BEAM0000\",\"BEAM0000\",\"BEAM0000\",\"BEAM0000\",\"BEAM0000\",\"BEAM0000\",\"BEAM0000\",\"BEAM0000\",\"BEAM0000\",\"BEAM0000\",\"BEAM0000\",\"BEAM0000\",\"BEAM0000\",\"BEAM0000\",\"BEAM0000\",\"BEAM0000\",\"BEAM0000\",\"BEAM0000\",\"BEAM0000\",\"BEAM0000\",\"BEAM0000\",\"BEAM0000\",\"BEAM0000\",\"BEAM0000\",\"BEAM0000\",\"BEAM0000\",\"BEAM0000\",\"BEAM0000\",\"BEAM0000\",\"BEAM0000\",\"BEAM0000\",\"BEAM0000\",\"BEAM0000\",\"BEAM0000\",\"BEAM0000\",\"BEAM0000\",\"BEAM0000\",\"BEAM0000\",\"BEAM0000\",\"BEAM0000\",\"BEAM0000\",\"BEAM0000\",\"BEAM0000\",\"BEAM0000\",\"BEAM0000\",\"BEAM0000\",\"BEAM0000\",\"BEAM0000\",\"BEAM0000\",\"BEAM0000\",\"BEAM0000\",\"BEAM0000\",\"BEAM0000\",\"BEAM0000\",\"BEAM0000\",\"BEAM0000\",\"BEAM0000\",\"BEAM0000\",\"BEAM0000\",\"BEAM0000\",\"BEAM0000\",\"BEAM0000\",\"BEAM0000\",\"BEAM0000\",\"BEAM0000\",\"BEAM0000\",\"BEAM0000\",\"BEAM0000\",\"BEAM0000\",\"BEAM0000\",\"BEAM0000\",\"BEAM0000\",\"BEAM0000\",\"BEAM0000\",\"BEAM0000\",\"BEAM0000\",\"BEAM0000\",\"BEAM0000\",\"BEAM0000\",\"BEAM0000\",\"BEAM0000\",\"BEAM0000\",\"BEAM0000\",\"BEAM0000\",\"BEAM0000\",\"BEAM0000\",\"BEAM0000\",\"BEAM0000\",\"BEAM0000\",\"BEAM0000\",\"BEAM0000\",\"BEAM0000\",\"BEAM0000\",\"BEAM0000\",\"BEAM0000\",\"BEAM0000\",\"BEAM0000\",\"BEAM0000\",\"BEAM0000\",\"BEAM0000\",\"BEAM0000\",\"BEAM0000\",\"BEAM0000\",\"BEAM0000\",\"BEAM0000\",\"BEAM0000\",\"BEAM0000\",\"BEAM0000\",\"BEAM0000\",\"BEAM0000\",\"BEAM0000\",\"BEAM0000\",\"BEAM0000\",\"BEAM0000\",\"BEAM0000\",\"BEAM0000\",\"BEAM0000\",\"BEAM0000\",\"BEAM0000\",\"BEAM0000\",\"BEAM0000\",\"BEAM0000\",\"BEAM0000\",\"BEAM0000\",\"BEAM0000\",\"BEAM0000\",\"BEAM0000\",\"BEAM0000\",\"BEAM0000\",\"BEAM0000\",\"BEAM0000\",\"BEAM0000\",\"BEAM0000\",\"BEAM0000\",\"BEAM0000\",\"BEAM0000\",\"BEAM0000\",\"BEAM0000\",\"BEAM0000\",\"BEAM0000\",\"BEAM0000\",\"BEAM0000\",\"BEAM0000\",\"BEAM0000\",\"BEAM0000\",\"BEAM0000\",\"BEAM0000\",\"BEAM0000\",\"BEAM0000\",\"BEAM0000\",\"BEAM0000\",\"BEAM0000\",\"BEAM0000\",\"BEAM0000\",\"BEAM0000\",\"BEAM0000\",\"BEAM0000\",\"BEAM0000\",\"BEAM0000\",\"BEAM0000\",\"BEAM0000\",\"BEAM0000\",\"BEAM0000\",\"BEAM0000\",\"BEAM0000\",\"BEAM0000\",\"BEAM0000\",\"BEAM0000\",\"BEAM0000\",\"BEAM0000\",\"BEAM0000\",\"BEAM0000\",\"BEAM0000\",\"BEAM0000\",\"BEAM0000\",\"BEAM0000\",\"BEAM0000\",\"BEAM0000\",\"BEAM0000\",\"BEAM0000\",\"BEAM0000\",\"BEAM0000\",\"BEAM0000\",\"BEAM0000\",\"BEAM0000\",\"BEAM0000\",\"BEAM0000\",\"BEAM0000\",\"BEAM0000\",\"BEAM0000\",\"BEAM0000\",\"BEAM0000\",\"BEAM0000\",\"BEAM0000\",\"BEAM0000\",\"BEAM0000\",\"BEAM0000\",\"BEAM0000\",\"BEAM0000\",\"BEAM0000\",\"BEAM0000\",\"BEAM0000\",\"BEAM0000\",\"BEAM0000\",\"BEAM0000\",\"BEAM0000\",\"BEAM0000\",\"BEAM0000\",\"BEAM0000\",\"BEAM0000\",\"BEAM0000\",\"BEAM0000\",\"BEAM0000\",\"BEAM0000\",\"BEAM0000\",\"BEAM0000\",\"BEAM0000\",\"BEAM0000\",\"BEAM0000\",\"BEAM0000\",\"BEAM0000\",\"BEAM0000\",\"BEAM0000\",\"BEAM0000\",\"BEAM0000\",\"BEAM0000\",\"BEAM0000\",\"BEAM0000\",\"BEAM0000\",\"BEAM0000\",\"BEAM0000\",\"BEAM0000\",\"BEAM0000\",\"BEAM0000\",\"BEAM0000\",\"BEAM0000\",\"BEAM0000\",\"BEAM0000\",\"BEAM0000\",\"BEAM0000\",\"BEAM0000\",\"BEAM0000\",\"BEAM0000\",\"BEAM0000\",\"BEAM0000\",\"BEAM0000\",\"BEAM0000\",\"BEAM0000\",\"BEAM0000\",\"BEAM0000\",\"BEAM0000\",\"BEAM0000\",\"BEAM0000\",\"BEAM0000\",\"BEAM0000\",\"BEAM0000\",\"BEAM0000\",\"BEAM0000\",\"BEAM0000\",\"BEAM0000\",\"BEAM0000\",\"BEAM0000\",\"BEAM0000\",\"BEAM0000\",\"BEAM0000\",\"BEAM0000\",\"BEAM0000\",\"BEAM0000\",\"BEAM0000\",\"BEAM0000\",\"BEAM0000\",\"BEAM0000\",\"BEAM0000\",\"BEAM0000\",\"BEAM0000\",\"BEAM0000\",\"BEAM0000\",\"BEAM0000\",\"BEAM0000\",\"BEAM0000\",\"BEAM0000\",\"BEAM0000\",\"BEAM0000\",\"BEAM0000\",\"BEAM0000\",\"BEAM0000\",\"BEAM0000\",\"BEAM0000\",\"BEAM0000\",\"BEAM0000\",\"BEAM0000\",\"BEAM0000\",\"BEAM0000\",\"BEAM0000\",\"BEAM0000\",\"BEAM0000\",\"BEAM0000\",\"BEAM0000\",\"BEAM0000\",\"BEAM0000\",\"BEAM0000\",\"BEAM0000\",\"BEAM0000\",\"BEAM0000\",\"BEAM0000\",\"BEAM0000\",\"BEAM0000\",\"BEAM0000\",\"BEAM0000\",\"BEAM0000\",\"BEAM0000\",\"BEAM0000\",\"BEAM0000\",\"BEAM0000\",\"BEAM0000\",\"BEAM0000\",\"BEAM0000\",\"BEAM0000\",\"BEAM0000\",\"BEAM0000\",\"BEAM0000\",\"BEAM0000\",\"BEAM0000\",\"BEAM0000\",\"BEAM0000\",\"BEAM0000\",\"BEAM0000\",\"BEAM0000\",\"BEAM0000\",\"BEAM0000\",\"BEAM0000\",\"BEAM0000\",\"BEAM0000\",\"BEAM0000\",\"BEAM0000\",\"BEAM0000\",\"BEAM0000\",\"BEAM0000\",\"BEAM0000\",\"BEAM0000\",\"BEAM0000\",\"BEAM0000\",\"BEAM0000\",\"BEAM0000\",\"BEAM0000\",\"BEAM0000\",\"BEAM0000\",\"BEAM0000\",\"BEAM0000\",\"BEAM0000\",\"BEAM0000\",\"BEAM0000\",\"BEAM0000\",\"BEAM0000\",\"BEAM0000\",\"BEAM0000\",\"BEAM0000\",\"BEAM0000\",\"BEAM0000\",\"BEAM0000\",\"BEAM0000\",\"BEAM0000\",\"BEAM0000\",\"BEAM0000\",\"BEAM0000\",\"BEAM0000\",\"BEAM0000\",\"BEAM0000\",\"BEAM0000\",\"BEAM0000\",\"BEAM0000\",\"BEAM0000\",\"BEAM0000\",\"BEAM0000\",\"BEAM0000\",\"BEAM0000\",\"BEAM0000\",\"BEAM0000\",\"BEAM0000\",\"BEAM0000\",\"BEAM0000\",\"BEAM0000\",\"BEAM0000\",\"BEAM0000\",\"BEAM0000\",\"BEAM0000\",\"BEAM0000\",\"BEAM0000\",\"BEAM0000\",\"BEAM0000\",\"BEAM0000\",\"BEAM0000\",\"BEAM0000\",\"BEAM0000\",\"BEAM0000\",\"BEAM0000\",\"BEAM0000\",\"BEAM0000\",\"BEAM0000\",\"BEAM0000\",\"BEAM0000\",\"BEAM0000\",\"BEAM0000\",\"BEAM0000\",\"BEAM0000\",\"BEAM0000\",\"BEAM0000\",\"BEAM0000\",\"BEAM0000\",\"BEAM0000\",\"BEAM0000\",\"BEAM0000\",\"BEAM0000\",\"BEAM0000\",\"BEAM0000\",\"BEAM0000\",\"BEAM0000\",\"BEAM0000\",\"BEAM0000\",\"BEAM0000\",\"BEAM0000\",\"BEAM0000\",\"BEAM0000\",\"BEAM0000\",\"BEAM0000\",\"BEAM0000\",\"BEAM0000\",\"BEAM0000\",\"BEAM0000\",\"BEAM0000\",\"BEAM0000\",\"BEAM0000\",\"BEAM0000\",\"BEAM0000\",\"BEAM0000\",\"BEAM0000\",\"BEAM0000\",\"BEAM0000\",\"BEAM0000\",\"BEAM0000\",\"BEAM0000\",\"BEAM0000\",\"BEAM0000\",\"BEAM0000\",\"BEAM0000\",\"BEAM0000\",\"BEAM0000\",\"BEAM0000\",\"BEAM0000\",\"BEAM0000\",\"BEAM0000\",\"BEAM0000\",\"BEAM0000\",\"BEAM0000\",\"BEAM0000\",\"BEAM0000\",\"BEAM0000\",\"BEAM0000\",\"BEAM0000\",\"BEAM0000\",\"BEAM0000\",\"BEAM0000\",\"BEAM0000\",\"BEAM0000\",\"BEAM0000\",\"BEAM0000\",\"BEAM0000\",\"BEAM0000\",\"BEAM0000\",\"BEAM0000\",\"BEAM0000\",\"BEAM0000\",\"BEAM0000\",\"BEAM0000\",\"BEAM0000\",\"BEAM0000\",\"BEAM0000\",\"BEAM0000\",\"BEAM0000\",\"BEAM0000\",\"BEAM0000\",\"BEAM0000\",\"BEAM0000\",\"BEAM0000\",\"BEAM0000\",\"BEAM0000\",\"BEAM0000\",\"BEAM0000\",\"BEAM0000\",\"BEAM0000\",\"BEAM0000\",\"BEAM0000\",\"BEAM0000\",\"BEAM0000\",\"BEAM0000\",\"BEAM0000\",\"BEAM0000\",\"BEAM0000\",\"BEAM0000\",\"BEAM0000\",\"BEAM0000\",\"BEAM0000\",\"BEAM0000\",\"BEAM0000\",\"BEAM0000\",\"BEAM0000\",\"BEAM0000\",\"BEAM0000\",\"BEAM0000\",\"BEAM0000\",\"BEAM0000\",\"BEAM0000\",\"BEAM0000\",\"BEAM0000\",\"BEAM0000\",\"BEAM0000\",\"BEAM0000\",\"BEAM0000\",\"BEAM0000\",\"BEAM0000\",\"BEAM0000\",\"BEAM0000\",\"BEAM0000\",\"BEAM0000\",\"BEAM0000\",\"BEAM0000\",\"BEAM0000\",\"BEAM0000\",\"BEAM0000\",\"BEAM0000\",\"BEAM0000\",\"BEAM0000\",\"BEAM0000\",\"BEAM0000\",\"BEAM0000\",\"BEAM0000\",\"BEAM0000\",\"BEAM0000\",\"BEAM0000\",\"BEAM0000\",\"BEAM0000\",\"BEAM0000\",\"BEAM0000\",\"BEAM0000\",\"BEAM0000\",\"BEAM0000\",\"BEAM0000\",\"BEAM0000\",\"BEAM0000\",\"BEAM0000\",\"BEAM0000\",\"BEAM0000\",\"BEAM0000\",\"BEAM0000\",\"BEAM0000\",\"BEAM0000\",\"BEAM0000\",\"BEAM0000\",\"BEAM0000\",\"BEAM0000\",\"BEAM0000\",\"BEAM0000\",\"BEAM0000\",\"BEAM0000\",\"BEAM0000\",\"BEAM0000\",\"BEAM0000\",\"BEAM0000\",\"BEAM0000\",\"BEAM0000\",\"BEAM0000\",\"BEAM0000\",\"BEAM0000\",\"BEAM0000\",\"BEAM0000\",\"BEAM0000\",\"BEAM0000\",\"BEAM0000\",\"BEAM0000\",\"BEAM0000\",\"BEAM0000\",\"BEAM0000\",\"BEAM0000\",\"BEAM0000\",\"BEAM0000\",\"BEAM0000\",\"BEAM0000\",\"BEAM0000\",\"BEAM0000\",\"BEAM0000\",\"BEAM0000\",\"BEAM0000\",\"BEAM0000\",\"BEAM0000\",\"BEAM0000\",\"BEAM0000\",\"BEAM0000\",\"BEAM0000\",\"BEAM0000\",\"BEAM0000\",\"BEAM0000\",\"BEAM0000\",\"BEAM0000\",\"BEAM0000\",\"BEAM0000\",\"BEAM0000\",\"BEAM0000\",\"BEAM0000\",\"BEAM0000\",\"BEAM0000\",\"BEAM0000\",\"BEAM0000\",\"BEAM0000\",\"BEAM0000\",\"BEAM0000\",\"BEAM0000\",\"BEAM0000\",\"BEAM0000\",\"BEAM0000\",\"BEAM0000\",\"BEAM0000\",\"BEAM0000\",\"BEAM0000\",\"BEAM0000\",\"BEAM0000\",\"BEAM0000\",\"BEAM0000\",\"BEAM0000\",\"BEAM0000\",\"BEAM0000\",\"BEAM0000\",\"BEAM0000\",\"BEAM0000\",\"BEAM0000\",\"BEAM0000\",\"BEAM0000\",\"BEAM0000\",\"BEAM0000\",\"BEAM0000\",\"BEAM0000\",\"BEAM0000\",\"BEAM0000\",\"BEAM0000\",\"BEAM0000\",\"BEAM0000\",\"BEAM0000\",\"BEAM0000\",\"BEAM0000\",\"BEAM0000\",\"BEAM0000\",\"BEAM0000\",\"BEAM0000\",\"BEAM0000\",\"BEAM0000\",\"BEAM0000\",\"BEAM0000\",\"BEAM0000\",\"BEAM0000\",\"BEAM0000\",\"BEAM0000\",\"BEAM0000\",\"BEAM0000\",\"BEAM0000\",\"BEAM0000\",\"BEAM0000\",\"BEAM0000\",\"BEAM0000\",\"BEAM0000\",\"BEAM0000\",\"BEAM0000\",\"BEAM0000\",\"BEAM0000\",\"BEAM0000\",\"BEAM0000\",\"BEAM0000\",\"BEAM0000\",\"BEAM0000\",\"BEAM0000\",\"BEAM0000\",\"BEAM0000\",\"BEAM0000\",\"BEAM0000\",\"BEAM0000\",\"BEAM0000\",\"BEAM0000\",\"BEAM0000\",\"BEAM0000\",\"BEAM0000\",\"BEAM0000\",\"BEAM0000\",\"BEAM0000\",\"BEAM0000\",\"BEAM0000\",\"BEAM0000\",\"BEAM0000\",\"BEAM0000\",\"BEAM0000\",\"BEAM0000\",\"BEAM0000\",\"BEAM0000\",\"BEAM0000\",\"BEAM0000\",\"BEAM0000\",\"BEAM0000\",\"BEAM0000\",\"BEAM0000\",\"BEAM0000\",\"BEAM0000\",\"BEAM0000\",\"BEAM0000\",\"BEAM0000\",\"BEAM0000\",\"BEAM0000\",\"BEAM0000\",\"BEAM0000\",\"BEAM0000\",\"BEAM0000\",\"BEAM0000\",\"BEAM0000\",\"BEAM0000\",\"BEAM0000\",\"BEAM0000\",\"BEAM0000\",\"BEAM0000\",\"BEAM0000\",\"BEAM0000\",\"BEAM0000\",\"BEAM0000\",\"BEAM0000\",\"BEAM0000\",\"BEAM0000\",\"BEAM0000\",\"BEAM0000\",\"BEAM0000\",\"BEAM0000\",\"BEAM0000\",\"BEAM0000\",\"BEAM0000\",\"BEAM0000\",\"BEAM0000\",\"BEAM0000\",\"BEAM0000\",\"BEAM0000\",\"BEAM0000\",\"BEAM0000\",\"BEAM0000\",\"BEAM0000\",\"BEAM0000\",\"BEAM0000\",\"BEAM0000\",\"BEAM0000\",\"BEAM0000\",\"BEAM0000\",\"BEAM0000\",\"BEAM0000\",\"BEAM0000\",\"BEAM0000\",\"BEAM0000\",\"BEAM0000\",\"BEAM0000\",\"BEAM0000\",\"BEAM0000\",\"BEAM0000\",\"BEAM0000\",\"BEAM0000\",\"BEAM0000\",\"BEAM0000\",\"BEAM0000\"],\"shape\":[1537],\"dtype\":\"object\",\"order\":\"little\"}],[\"Shot_Number\",{\"type\":\"ndarray\",\"array\":[\"196830000300204328\",\"196830000300204428\",\"196830000300204528\",\"196830000300204628\",\"196830000300204728\",\"196830000300204828\",\"196830000300204928\",\"196830000300205028\",\"196830000300205128\",\"196830000300205228\",\"196830000300205328\",\"196830000300205428\",\"196830000300205528\",\"196830000300205628\",\"196830000300205728\",\"196830000300205828\",\"196830000300205928\",\"196830000300206028\",\"196830000300206128\",\"196830000300206228\",\"196830000300206328\",\"196830000300206428\",\"196830000300206528\",\"196830000300206628\",\"196830000300206728\",\"196830000300206828\",\"196830000300206928\",\"196830000300207028\",\"196830000300207128\",\"196830000300207228\",\"196830000300207328\",\"196830000300207428\",\"196830000300207528\",\"196830000300207628\",\"196830000300207728\",\"196830000300207828\",\"196830000300207928\",\"196830000300208028\",\"196830000300208128\",\"196830000300208228\",\"196830000300208328\",\"196830000300208428\",\"196830000300208528\",\"196830000300208628\",\"196830000300208728\",\"196830000300208828\",\"196830000300208928\",\"196830000300209028\",\"196830000300209128\",\"196830000300209228\",\"196830000300209328\",\"196830000300209428\",\"196830000300209528\",\"196830000300209628\",\"196830000300209728\",\"196830000300209828\",\"196830000300209928\",\"196830000300210028\",\"196830000300210128\",\"196830000300210228\",\"196830000300210328\",\"196830000300210428\",\"196830000300210528\",\"196830000300210628\",\"196830000300210728\",\"196830000300210828\",\"196830000300210928\",\"196830000300211028\",\"196830000300211128\",\"196830000300211228\",\"196830000300211328\",\"196830000300211428\",\"196830000300211528\",\"196830000300211628\",\"196830000300211728\",\"196830000300211828\",\"196830000300211928\",\"196830000300212028\",\"196830000300212128\",\"196830000300212228\",\"196830000300212328\",\"196830000300212428\",\"196830000300212528\",\"196830000300212628\",\"196830000300212728\",\"196830000300212828\",\"196830000300212928\",\"196830000300213028\",\"196830000300213128\",\"196830000300213228\",\"196830000300213328\",\"196830000300213428\",\"196830000300213528\",\"196830000300213628\",\"196830000300213728\",\"196830000300213828\",\"196830000300213928\",\"196830000300214028\",\"196830000300214128\",\"196830000300214228\",\"196830000300214328\",\"196830000300214428\",\"196830000300214528\",\"196830000300214628\",\"196830000300214728\",\"196830000300214828\",\"196830000300214928\",\"196830000300215028\",\"196830000300215128\",\"196830000300215228\",\"196830000300215328\",\"196830000300215428\",\"196830000300215528\",\"196830000300215628\",\"196830000300215728\",\"196830000300215828\",\"196830000300215928\",\"196830000300216028\",\"196830000300216128\",\"196830000300216228\",\"196830000300216328\",\"196830000300216428\",\"196830000300216528\",\"196830000300216628\",\"196830000300216728\",\"196830000300216828\",\"196830000300216928\",\"196830000300217028\",\"196830000300217128\",\"196830000300217228\",\"196830000300217328\",\"196830000300217428\",\"196830000300217528\",\"196830000300217628\",\"196830000300217728\",\"196830000300217828\",\"196830000300217928\",\"196830000300218028\",\"196830000300218128\",\"196830000300218228\",\"196830000300218328\",\"196830000300218428\",\"196830000300218528\",\"196830000300218628\",\"196830000300218728\",\"196830000300218828\",\"196830000300218928\",\"196830000300219028\",\"196830000300219128\",\"196830000300219228\",\"196830000300219328\",\"196830000300219428\",\"196830000300219528\",\"196830000300219628\",\"196830000300219728\",\"196830000300219828\",\"196830000300219928\",\"196830000300220028\",\"196830000300220128\",\"196830000300220228\",\"196830000300220328\",\"196830000300220428\",\"196830000300220528\",\"196830000300220628\",\"196830000300220728\",\"196830000300220828\",\"196830000300220928\",\"196830000300221028\",\"196830000300221128\",\"196830000300221228\",\"196830000300221328\",\"196830000300221428\",\"196830000300221528\",\"196830000300221628\",\"196830000300221728\",\"196830000300221828\",\"196830000300221928\",\"196830000300222028\",\"196830000300222128\",\"196830000300222228\",\"196830000300222328\",\"196830000300222428\",\"196830000300222528\",\"196830000300222628\",\"196830000300222728\",\"196830000300222828\",\"196830000300222928\",\"196830000300223028\",\"196830000300223128\",\"196830000300223228\",\"196830000300223328\",\"196830000300223428\",\"196830000300223528\",\"196830000300223628\",\"196830000300223728\",\"196830000300223828\",\"196830000300223928\",\"196830000300224028\",\"196830000300224128\",\"196830000300224228\",\"196830000300224328\",\"196830000300224428\",\"196830000300224528\",\"196830000300224628\",\"196830000300224728\",\"196830000300224828\",\"196830000300224928\",\"196830000300225028\",\"196830000300225128\",\"196830000300225228\",\"196830000300225328\",\"196830000300225428\",\"196830000300225528\",\"196830000300225628\",\"196830000300225728\",\"196830000300225828\",\"196830000300225928\",\"196830000300226028\",\"196830000300226128\",\"196830000300226228\",\"196830000300226328\",\"196830000300226428\",\"196830000300226528\",\"196830000300226628\",\"196830000300226728\",\"196830000300226828\",\"196830000300226928\",\"196830000300227028\",\"196830000300227128\",\"196830000300227228\",\"196830000300227328\",\"196830000300227428\",\"196830000300227528\",\"196830000300227628\",\"196830000300227728\",\"196830000300227828\",\"196830000300227928\",\"196830000300228028\",\"196830000300228128\",\"196830000300228228\",\"196830000300228328\",\"196830000300228428\",\"196830000300228528\",\"196830000300228628\",\"196830000300228728\",\"196830000300228828\",\"196830000300228928\",\"196830000300229028\",\"196830000300229128\",\"196830000300229228\",\"196830000300229328\",\"196830000300229428\",\"196830000300229528\",\"196830000300229628\",\"196830000300229728\",\"196830000300229828\",\"196830000300229928\",\"196830000300230028\",\"196830000300230128\",\"196830000300230228\",\"196830000300230328\",\"196830000300230428\",\"196830000300230528\",\"196830000300230628\",\"196830000300230728\",\"196830000300230828\",\"196830000300230928\",\"196830000300231028\",\"196830000300231128\",\"196830000300231228\",\"196830000300231328\",\"196830000300231428\",\"196830000300231528\",\"196830000300231628\",\"196830000300231728\",\"196830000300231828\",\"196830000300231928\",\"196830000300232028\",\"196830000300232128\",\"196830000300232228\",\"196830000300232328\",\"196830000300232428\",\"196830000300232528\",\"196830000300232628\",\"196830000300232728\",\"196830000300232828\",\"196830000300232928\",\"196830000300233028\",\"196830000300233128\",\"196830000300233228\",\"196830000300233328\",\"196830000300233428\",\"196830000300233528\",\"196830000300233628\",\"196830000300233728\",\"196830000300233828\",\"196830000300233928\",\"196830000300234028\",\"196830000300234128\",\"196830000300234228\",\"196830000300234328\",\"196830000300234428\",\"196830000300234528\",\"196830000300234628\",\"196830000300234728\",\"196830000300234828\",\"196830000300234928\",\"196830000300235028\",\"196830000300235128\",\"196830000300235228\",\"196830000300235328\",\"196830000300235428\",\"196830000300235528\",\"196830000300235628\",\"196830000300235728\",\"196830000300235828\",\"196830000300235928\",\"196830000300236028\",\"196830000300236128\",\"196830000300236228\",\"196830000300236328\",\"196830000300236428\",\"196830000300236528\",\"196830000300236628\",\"196830000300236728\",\"196830000300236828\",\"196830000300236928\",\"196830000300237028\",\"196830000300237128\",\"196830000300237228\",\"196830000300237328\",\"196830000300237428\",\"196830000300237528\",\"196830000300237628\",\"196830000300237728\",\"196830000300237828\",\"196830000300237928\",\"196830000300238028\",\"196830000300238128\",\"196830000300238228\",\"196830000300238328\",\"196830000300238428\",\"196830000300238528\",\"196830000300238628\",\"196830000300238728\",\"196830000300238828\",\"196830000300238928\",\"196830000300239028\",\"196830000300239128\",\"196830000300239228\",\"196830000300239328\",\"196830000300239428\",\"196830000300239528\",\"196830000300239628\",\"196830000300239728\",\"196830000300239828\",\"196830000300239928\",\"196830000300240028\",\"196830000300240128\",\"196830000300240228\",\"196830000300240328\",\"196830000300240428\",\"196830000300240528\",\"196830000300240628\",\"196830000300240728\",\"196830000300240828\",\"196830000300240928\",\"196830000300241028\",\"196830000300241128\",\"196830000300241228\",\"196830000300241328\",\"196830000300241428\",\"196830000300241528\",\"196830000300241628\",\"196830000300241728\",\"196830000300241828\",\"196830000300241928\",\"196830000300242028\",\"196830000300242128\",\"196830000300242228\",\"196830000300242328\",\"196830000300242428\",\"196830000300242528\",\"196830000300242628\",\"196830000300242728\",\"196830000300242828\",\"196830000300242928\",\"196830000300243028\",\"196830000300243128\",\"196830000300243228\",\"196830000300243328\",\"196830000300243428\",\"196830000300243528\",\"196830000300243628\",\"196830000300243728\",\"196830000300243828\",\"196830000300243928\",\"196830000300244028\",\"196830000300244128\",\"196830000300244228\",\"196830000300244328\",\"196830000300244428\",\"196830000300244528\",\"196830000300244628\",\"196830000300244728\",\"196830000300244828\",\"196830000300244928\",\"196830000300245028\",\"196830000300245128\",\"196830000300245228\",\"196830000300245328\",\"196830000300245428\",\"196830000300245528\",\"196830000300245628\",\"196830000300245728\",\"196830000300245828\",\"196830000300245928\",\"196830000300246028\",\"196830000300246128\",\"196830000300246228\",\"196830000300246328\",\"196830000300246428\",\"196830000300246528\",\"196830000300246628\",\"196830000300246728\",\"196830000300246828\",\"196830000300246928\",\"196830000300247028\",\"196830000300247128\",\"196830000300247228\",\"196830000300247328\",\"196830000300247428\",\"196830000300247528\",\"196830000300247628\",\"196830000300247728\",\"196830000300247828\",\"196830000300247928\",\"196830000300248028\",\"196830000300248128\",\"196830000300248228\",\"196830000300248328\",\"196830000300248428\",\"196830000300248528\",\"196830000300248628\",\"196830000300248728\",\"196830000300248828\",\"196830000300248928\",\"196830000300249028\",\"196830000300249128\",\"196830000300249228\",\"196830000300249328\",\"196830000300249428\",\"196830000300249528\",\"196830000300249628\",\"196830000300249728\",\"196830000300249828\",\"196830000300249928\",\"196830000300250028\",\"196830000300250128\",\"196830000300250228\",\"196830000300250328\",\"196830000300250428\",\"196830000300250528\",\"196830000300250628\",\"196830000300250728\",\"196830000300250828\",\"196830000300250928\",\"196830000300251028\",\"196830000300251128\",\"196830000300251228\",\"196830000300251328\",\"196830000300251428\",\"196830000300251528\",\"196830000300251628\",\"196830000300251728\",\"196830000300251828\",\"196830000300251928\",\"196830000300252028\",\"196830000300252128\",\"196830000300252228\",\"196830000300252328\",\"196830000300252428\",\"196830000300252528\",\"196830000300252628\",\"196830000300252728\",\"196830000300252828\",\"196830000300252928\",\"196830000300253028\",\"196830000300253128\",\"196830000300253228\",\"196830000300253328\",\"196830000300253428\",\"196830000300253528\",\"196830000300253628\",\"196830000300253728\",\"196830000300253828\",\"196830000300253928\",\"196830000300254028\",\"196830000300254128\",\"196830000300254228\",\"196830000300254328\",\"196830000300254428\",\"196830000300254528\",\"196830000300254628\",\"196830000300254728\",\"196830000300254828\",\"196830000300254928\",\"196830000300255028\",\"196830000300255128\",\"196830000300255228\",\"196830000300255328\",\"196830000300255428\",\"196830000300255528\",\"196830000300255628\",\"196830000300255728\",\"196830000300255828\",\"196830000300255928\",\"196830000300256028\",\"196830000300256128\",\"196830000300256228\",\"196830000300256328\",\"196830000300256428\",\"196830000300256528\",\"196830000300256628\",\"196830000300256728\",\"196830000300256828\",\"196830000300256928\",\"196830000300257028\",\"196830000300257128\",\"196830000300257228\",\"196830000300257328\",\"196830000300257428\",\"196830000300257528\",\"196830000300257628\",\"196830000300257728\",\"196830000300257828\",\"196830000300257928\",\"196830000300258028\",\"196830000300258128\",\"196830000300258228\",\"196830000300258328\",\"196830000300258428\",\"196830000300258528\",\"196830000300258628\",\"196830000300258728\",\"196830000300258828\",\"196830000300258928\",\"196830000300259028\",\"196830000300259128\",\"196830000300259228\",\"196830000300259328\",\"196830000300259428\",\"196830000300259528\",\"196830000300259628\",\"196830000300259728\",\"196830000300259828\",\"196830000300259928\",\"196830000300260028\",\"196830000300260128\",\"196830000300260228\",\"196830000300260328\",\"196830000300260428\",\"196830000300260528\",\"196830000300260628\",\"196830000300260728\",\"196830000300260828\",\"196830000300260928\",\"196830000300261028\",\"196830000300261128\",\"196830000300261228\",\"196830000300261328\",\"196830000300261428\",\"196830000300261528\",\"196830000300261628\",\"196830000300261728\",\"196830000300261828\",\"196830000300261928\",\"196830000300262028\",\"196830000300262128\",\"196830000300262228\",\"196830000300262328\",\"196830000300262428\",\"196830000300262528\",\"196830000300262628\",\"196830000300262728\",\"196830000300262828\",\"196830000300262928\",\"196830000300263028\",\"196830000300263128\",\"196830000300263228\",\"196830000300263328\",\"196830000300263428\",\"196830000300263528\",\"196830000300263628\",\"196830000300263728\",\"196830000300263828\",\"196830000300263928\",\"196830000300264028\",\"196830000300264128\",\"196830000300264228\",\"196830000300264328\",\"196830000300264428\",\"196830000300264528\",\"196830000300264628\",\"196830000300264728\",\"196830000300264828\",\"196830000300264928\",\"196830000300265028\",\"196830000300265128\",\"196830000300265228\",\"196830000300265328\",\"196830000300265428\",\"196830000300265528\",\"196830000300265628\",\"196830000300265728\",\"196830000300265828\",\"196830000300265928\",\"196830000300266028\",\"196830000300266128\",\"196830000300266228\",\"196830000300266328\",\"196830000300266428\",\"196830000300266528\",\"196830000300266628\",\"196830000300266728\",\"196830000300266828\",\"196830000300266928\",\"196830000300267028\",\"196830000300267128\",\"196830000300267228\",\"196830000300267328\",\"196830000300267428\",\"196830000300267528\",\"196830000300267628\",\"196830000300267728\",\"196830000300267828\",\"196830000300267928\",\"196830000300268028\",\"196830000300268128\",\"196830000300268228\",\"196830000300268328\",\"196830000300268428\",\"196830000300268528\",\"196830000300268628\",\"196830000300268728\",\"196830000300268828\",\"196830000300268928\",\"196830000300269028\",\"196830000300269128\",\"196830000300269228\",\"196830000300269328\",\"196830000300269428\",\"196830000300269528\",\"196830000300269628\",\"196830000300269728\",\"196830000300269828\",\"196830000300269928\",\"196830000300270028\",\"196830000300270128\",\"196830000300270228\",\"196830000300270328\",\"196830000300270428\",\"196830000300270528\",\"196830000300270628\",\"196830000300270728\",\"196830000300270828\",\"196830000300270928\",\"196830000300271028\",\"196830000300271128\",\"196830000300271228\",\"196830000300271328\",\"196830000300271428\",\"196830000300271528\",\"196830000300271628\",\"196830000300271728\",\"196830000300271828\",\"196830000300271928\",\"196830000300272028\",\"196830000300272128\",\"196830000300272228\",\"196830000300272328\",\"196830000300272428\",\"196830000300272528\",\"196830000300272628\",\"196830000300272728\",\"196830000300272828\",\"196830000300272928\",\"196830000300273028\",\"196830000300273128\",\"196830000300273228\",\"196830000300273328\",\"196830000300273428\",\"196830000300273528\",\"196830000300273628\",\"196830000300273728\",\"196830000300273828\",\"196830000300273928\",\"196830000300274028\",\"196830000300274128\",\"196830000300274228\",\"196830000300274328\",\"196830000300274428\",\"196830000300274528\",\"196830000300274628\",\"196830000300274728\",\"196830000300274828\",\"196830000300274928\",\"196830000300275028\",\"196830000300275128\",\"196830000300275228\",\"196830000300275328\",\"196830000300275428\",\"196830000300275528\",\"196830000300275628\",\"196830000300275728\",\"196830000300275828\",\"196830000300275928\",\"196830000300276028\",\"196830000300276128\",\"196830000300276228\",\"196830000300276328\",\"196830000300276428\",\"196830000300276528\",\"196830000300276628\",\"196830000300276728\",\"196830000300276828\",\"196830000300276928\",\"196830000300277028\",\"196830000300277128\",\"196830000300277228\",\"196830000300277328\",\"196830000300277428\",\"196830000300277528\",\"196830000300277628\",\"196830000300277728\",\"196830000300277828\",\"196830000300277928\",\"196830000300278028\",\"196830000300278128\",\"196830000300278228\",\"196830000300278328\",\"196830000300278428\",\"196830000300278528\",\"196830000300278628\",\"196830000300278728\",\"196830000300278828\",\"196830000300278928\",\"196830000300279028\",\"196830000300279128\",\"196830000300279228\",\"196830000300279328\",\"196830000300279428\",\"196830000300279528\",\"196830000300279628\",\"196830000300279728\",\"196830000300279828\",\"196830000300279928\",\"196830000300280028\",\"196830000300280128\",\"196830000300280228\",\"196830000300280328\",\"196830000300280428\",\"196830000300280528\",\"196830000300280628\",\"196830000300280728\",\"196830000300280828\",\"196830000300280928\",\"196830000300281028\",\"196830000300281128\",\"196830000300281228\",\"196830000300281328\",\"196830000300281428\",\"196830000300281528\",\"196830000300281628\",\"196830000300281728\",\"196830000300281828\",\"196830000300281928\",\"196830000300282028\",\"196830000300282128\",\"196830000300282228\",\"196830000300282328\",\"196830000300282428\",\"196830000300282528\",\"196830000300282628\",\"196830000300282728\",\"196830000300282828\",\"196830000300282928\",\"196830000300283028\",\"196830000300283128\",\"196830000300283228\",\"196830000300283328\",\"196830000300283428\",\"196830000300283528\",\"196830000300283628\",\"196830000300283728\",\"196830000300283828\",\"196830000300283928\",\"196830000300284028\",\"196830000300284128\",\"196830000300284228\",\"196830000300284328\",\"196830000300284428\",\"196830000300284528\",\"196830000300284628\",\"196830000300284728\",\"196830000300284828\",\"196830000300284928\",\"196830000300285028\",\"196830000300285128\",\"196830000300285228\",\"196830000300285328\",\"196830000300285428\",\"196830000300285528\",\"196830000300285628\",\"196830000300285728\",\"196830000300285828\",\"196830000300285928\",\"196830000300286028\",\"196830000300286128\",\"196830000300286228\",\"196830000300286328\",\"196830000300286428\",\"196830000300286528\",\"196830000300286628\",\"196830000300286728\",\"196830000300286828\",\"196830000300286928\",\"196830000300287028\",\"196830000300287128\",\"196830000300287228\",\"196830000300287328\",\"196830000300287428\",\"196830000300287528\",\"196830000300287628\",\"196830000300287728\",\"196830000300287828\",\"196830000300287928\",\"196830000300288028\",\"196830000300288128\",\"196830000300288228\",\"196830000300288328\",\"196830000300288428\",\"196830000300288528\",\"196830000300288628\",\"196830000300288728\",\"196830000300288828\",\"196830000300288928\",\"196830000300289028\",\"196830000300289128\",\"196830000300289228\",\"196830000300289328\",\"196830000300289428\",\"196830000300289528\",\"196830000300289628\",\"196830000300289728\",\"196830000300289828\",\"196830000300289928\",\"196830000300290028\",\"196830000300290128\",\"196830000300290228\",\"196830000300290328\",\"196830000300290428\",\"196830000300290528\",\"196830000300290628\",\"196830000300290728\",\"196830000300290828\",\"196830000300290928\",\"196830000300291028\",\"196830000300291128\",\"196830000300291228\",\"196830000300291328\",\"196830000300291428\",\"196830000300291528\",\"196830000300291628\",\"196830000300291728\",\"196830000300291828\",\"196830000300291928\",\"196830000300292028\",\"196830000300292128\",\"196830000300292228\",\"196830000300292328\",\"196830000300292428\",\"196830000300292528\",\"196830000300292628\",\"196830000300292728\",\"196830000300292828\",\"196830000300292928\",\"196830000300293028\",\"196830000300293128\",\"196830000300293228\",\"196830000300293328\",\"196830000300293428\",\"196830000300293528\",\"196830000300293628\",\"196830000300293728\",\"196830000300293828\",\"196830000300293928\",\"196830000300294028\",\"196830000300294128\",\"196830000300294228\",\"196830000300294328\",\"196830000300294428\",\"196830000300294528\",\"196830000300294628\",\"196830000300294728\",\"196830000300294828\",\"196830000300294928\",\"196830000300295028\",\"196830000300295128\",\"196830000300295228\",\"196830000300295328\",\"196830000300295428\",\"196830000300295528\",\"196830000300295628\",\"196830000300295728\",\"196830000300295828\",\"196830000300295928\",\"196830000300296028\",\"196830000300296128\",\"196830000300296228\",\"196830000300296328\",\"196830000300296428\",\"196830000300296528\",\"196830000300296628\",\"196830000300296728\",\"196830000300296828\",\"196830000300296928\",\"196830000300297028\",\"196830000300297128\",\"196830000300297228\",\"196830000300297328\",\"196830000300297428\",\"196830000300297528\",\"196830000300297628\",\"196830000300297728\",\"196830000300297828\",\"196830000300297928\",\"196830000300298028\",\"196830000300298128\",\"196830000300298228\",\"196830000300298328\",\"196830000300298428\",\"196830000300298528\",\"196830000300298628\",\"196830000300298728\",\"196830000300298828\",\"196830000300298928\",\"196830000300299028\",\"196830000300299128\",\"196830000300299228\",\"196830000300299328\",\"196830000300299428\",\"196830000300299528\",\"196830000300299628\",\"196830000300299728\",\"196830000300299828\",\"196830000300299928\",\"196830000300300028\",\"196830000300300128\",\"196830000300300228\",\"196830000300300328\",\"196830000300300428\",\"196830000300300528\",\"196830000300300628\",\"196830000300300728\",\"196830000300300828\",\"196830000300300928\",\"196830000300301028\",\"196830000300301128\",\"196830000300301228\",\"196830000300301328\",\"196830000300301428\",\"196830000300301528\",\"196830000300301628\",\"196830000300301728\",\"196830000300301828\",\"196830000300301928\",\"196830000300302028\",\"196830000300302128\",\"196830000300302228\",\"196830000300302328\",\"196830000300302428\",\"196830000300302528\",\"196830000300302628\",\"196830000300302728\",\"196830000300302828\",\"196830000300302928\",\"196830000300303028\",\"196830000300303128\",\"196830000300303228\",\"196830000300303328\",\"196830000300303428\",\"196830000300303528\",\"196830000300303628\",\"196830000300303728\",\"196830000300303828\",\"196830000300303928\",\"196830000300304028\",\"196830000300304128\",\"196830000300304228\",\"196830000300304328\",\"196830000300304428\",\"196830000300304528\",\"196830000300304628\",\"196830000300304728\",\"196830000300304828\",\"196830000300304928\",\"196830000300305028\",\"196830000300305128\",\"196830000300305228\",\"196830000300305328\",\"196830000300305428\",\"196830000300305528\",\"196830000300305628\",\"196830000300305728\",\"196830000300305828\",\"196830000300305928\",\"196830000300306028\",\"196830000300306128\",\"196830000300306228\",\"196830000300306328\",\"196830000300306428\",\"196830000300306528\",\"196830000300306628\",\"196830000300306728\",\"196830000300306828\",\"196830000300306928\",\"196830000300307028\",\"196830000300307128\",\"196830000300307228\",\"196830000300307328\",\"196830000300307428\",\"196830000300307528\",\"196830000300307628\",\"196830000300307728\",\"196830000300307828\",\"196830000300307928\",\"196830000300308028\",\"196830000300308128\",\"196830000300308228\",\"196830000300308328\",\"196830000300308428\",\"196830000300308528\",\"196830000300308628\",\"196830000300308728\",\"196830000300308828\",\"196830000300308928\",\"196830000300309028\",\"196830000300309128\",\"196830000300309228\",\"196830000300309328\",\"196830000300309428\",\"196830000300309528\",\"196830000300309628\",\"196830000300309728\",\"196830000300309828\",\"196830000300309928\",\"196830000300310028\",\"196830000300310128\",\"196830000300310228\",\"196830000300310328\",\"196830000300310428\",\"196830000300310528\",\"196830000300310628\",\"196830000300310728\",\"196830000300310828\",\"196830000300310928\",\"196830000300311028\",\"196830000300311128\",\"196830000300311228\",\"196830000300311328\",\"196830000300311428\",\"196830000300311528\",\"196830000300311628\",\"196830000300311728\",\"196830000300311828\",\"196830000300311928\",\"196830000300312028\",\"196830000300312128\",\"196830000300312228\",\"196830000300312328\",\"196830000300312428\",\"196830000300312528\",\"196830000300312628\",\"196830000300312728\",\"196830000300312828\",\"196830000300312928\",\"196830000300313028\",\"196830000300313128\",\"196830000300313228\",\"196830000300313328\",\"196830000300313428\",\"196830000300313528\",\"196830000300313628\",\"196830000300313728\",\"196830000300313828\",\"196830000300313928\",\"196830000300314028\",\"196830000300314128\",\"196830000300314228\",\"196830000300314328\",\"196830000300314428\",\"196830000300314528\",\"196830000300314628\",\"196830000300314728\",\"196830000300314828\",\"196830000300314928\",\"196830000300315028\",\"196830000300315128\",\"196830000300315228\",\"196830000300315328\",\"196830000300315428\",\"196830000300315528\",\"196830000300315628\",\"196830000300315728\",\"196830000300315828\",\"196830000300315928\",\"196830000300316028\",\"196830000300316128\",\"196830000300316228\",\"196830000300316328\",\"196830000300316428\",\"196830000300316528\",\"196830000300316628\",\"196830000300316728\",\"196830000300316828\",\"196830000300316928\",\"196830000300317028\",\"196830000300317128\",\"196830000300317228\",\"196830000300317328\",\"196830000300317428\",\"196830000300317528\",\"196830000300317628\",\"196830000300317728\",\"196830000300317828\",\"196830000300317928\",\"196830000300318028\",\"196830000300318128\",\"196830000300318228\",\"196830000300318328\",\"196830000300318428\",\"196830000300318528\",\"196830000300318628\",\"196830000300318728\",\"196830000300318828\",\"196830000300318928\",\"196830000300319028\",\"196830000300319128\",\"196830000300319228\",\"196830000300319328\",\"196830000300319428\",\"196830000300319528\",\"196830000300319628\",\"196830000300319728\",\"196830000300319828\",\"196830000300319928\",\"196830000300320028\",\"196830000300320128\",\"196830000300320228\",\"196830000300320328\",\"196830000300320428\",\"196830000300320528\",\"196830000300320628\",\"196830000300320728\",\"196830000300320828\",\"196830000300320928\",\"196830000300321028\",\"196830000300321128\",\"196830000300321228\",\"196830000300321328\",\"196830000300321428\",\"196830000300321528\",\"196830000300321628\",\"196830000300321728\",\"196830000300321828\",\"196830000300321928\",\"196830000300322028\",\"196830000300322128\",\"196830000300322228\",\"196830000300322328\",\"196830000300322428\",\"196830000300322528\",\"196830000300322628\",\"196830000300322728\",\"196830000300322828\",\"196830000300322928\",\"196830000300323028\",\"196830000300323128\",\"196830000300323228\",\"196830000300323328\",\"196830000300323428\",\"196830000300323528\",\"196830000300323628\",\"196830000300323728\",\"196830000300323828\",\"196830000300323928\",\"196830000300324028\",\"196830000300324128\",\"196830000300324228\",\"196830000300324328\",\"196830000300324428\",\"196830000300324528\",\"196830000300324628\",\"196830000300324728\",\"196830000300324828\",\"196830000300324928\",\"196830000300325028\",\"196830000300325128\",\"196830000300325228\",\"196830000300325328\",\"196830000300325428\",\"196830000300325528\",\"196830000300325628\",\"196830000300325728\",\"196830000300325828\",\"196830000300325928\",\"196830000300326028\",\"196830000300326128\",\"196830000300326228\",\"196830000300326328\",\"196830000300326428\",\"196830000300326528\",\"196830000300326628\",\"196830000300326728\",\"196830000300326828\",\"196830000300326928\",\"196830000300327028\",\"196830000300327128\",\"196830000300327228\",\"196830000300327328\",\"196830000300327428\",\"196830000300327528\",\"196830000300327628\",\"196830000300327728\",\"196830000300327828\",\"196830000300327928\",\"196830000300328028\",\"196830000300328128\",\"196830000300328228\",\"196830000300328328\",\"196830000300328428\",\"196830000300328528\",\"196830000300328628\",\"196830000300328728\",\"196830000300328828\",\"196830000300328928\",\"196830000300329028\",\"196830000300329128\",\"196830000300329228\",\"196830000300329328\",\"196830000300329428\",\"196830000300329528\",\"196830000300329628\",\"196830000300329728\",\"196830000300329828\",\"196830000300329928\",\"196830000300330028\",\"196830000300330128\",\"196830000300330228\",\"196830000300330328\",\"196830000300330428\",\"196830000300330528\",\"196830000300330628\",\"196830000300330728\",\"196830000300330828\",\"196830000300330928\",\"196830000300331028\",\"196830000300331128\",\"196830000300331228\",\"196830000300331328\",\"196830000300331428\",\"196830000300331528\",\"196830000300331628\",\"196830000300331728\",\"196830000300331828\",\"196830000300331928\",\"196830000300332028\",\"196830000300332128\",\"196830000300332228\",\"196830000300332328\",\"196830000300332428\",\"196830000300332528\",\"196830000300332628\",\"196830000300332728\",\"196830000300332828\",\"196830000300332928\",\"196830000300333028\",\"196830000300333128\",\"196830000300333228\",\"196830000300333328\",\"196830000300333428\",\"196830000300333528\",\"196830000300333628\",\"196830000300333728\",\"196830000300333828\",\"196830000300333928\",\"196830000300334028\",\"196830000300334128\",\"196830000300334228\",\"196830000300334328\",\"196830000300334428\",\"196830000300334528\",\"196830000300334628\",\"196830000300334728\",\"196830000300334828\",\"196830000300334928\",\"196830000300335028\",\"196830000300335128\",\"196830000300335228\",\"196830000300335328\",\"196830000300335428\",\"196830000300335528\",\"196830000300335628\",\"196830000300335728\",\"196830000300335828\",\"196830000300335928\",\"196830000300336028\",\"196830000300336128\",\"196830000300336228\",\"196830000300336328\",\"196830000300336428\",\"196830000300336528\",\"196830000300336628\",\"196830000300336728\",\"196830000300336828\",\"196830000300336928\",\"196830000300337028\",\"196830000300337128\",\"196830000300337228\",\"196830000300337328\",\"196830000300337428\",\"196830000300337528\",\"196830000300337628\",\"196830000300337728\",\"196830000300337828\",\"196830000300337928\",\"196830000300338028\",\"196830000300338128\",\"196830000300338228\",\"196830000300338328\",\"196830000300338428\",\"196830000300338528\",\"196830000300338628\",\"196830000300338728\",\"196830000300338828\",\"196830000300338928\",\"196830000300339028\",\"196830000300339128\",\"196830000300339228\",\"196830000300339328\",\"196830000300339428\",\"196830000300339528\",\"196830000300339628\",\"196830000300339728\",\"196830000300339828\",\"196830000300339928\",\"196830000300340028\",\"196830000300340128\",\"196830000300340228\",\"196830000300340328\",\"196830000300340428\",\"196830000300340528\",\"196830000300340628\",\"196830000300340728\",\"196830000300340828\",\"196830000300340928\",\"196830000300341028\",\"196830000300341128\",\"196830000300341228\",\"196830000300341328\",\"196830000300341428\",\"196830000300341528\",\"196830000300341628\",\"196830000300341728\",\"196830000300341828\",\"196830000300341928\",\"196830000300342028\",\"196830000300342128\",\"196830000300342228\",\"196830000300342328\",\"196830000300342428\",\"196830000300342528\",\"196830000300342628\",\"196830000300342728\",\"196830000300342828\",\"196830000300342928\",\"196830000300343028\",\"196830000300343128\",\"196830000300343228\",\"196830000300343328\",\"196830000300343428\",\"196830000300343528\",\"196830000300343628\",\"196830000300343728\",\"196830000300343828\",\"196830000300343928\",\"196830000300344028\",\"196830000300344128\",\"196830000300344228\",\"196830000300344328\",\"196830000300344428\",\"196830000300344528\",\"196830000300344628\",\"196830000300344728\",\"196830000300344828\",\"196830000300344928\",\"196830000300345028\",\"196830000300345128\",\"196830000300345228\",\"196830000300345328\",\"196830000300345428\",\"196830000300345528\",\"196830000300345628\",\"196830000300345728\",\"196830000300345828\",\"196830000300345928\",\"196830000300346028\",\"196830000300346128\",\"196830000300346228\",\"196830000300346328\",\"196830000300346428\",\"196830000300346528\",\"196830000300346628\",\"196830000300346728\",\"196830000300346828\",\"196830000300346928\",\"196830000300347028\",\"196830000300347128\",\"196830000300347228\",\"196830000300347328\",\"196830000300347428\",\"196830000300347528\",\"196830000300347628\",\"196830000300347728\",\"196830000300347828\",\"196830000300347928\",\"196830000300348028\",\"196830000300348128\",\"196830000300348228\",\"196830000300348328\",\"196830000300348428\",\"196830000300348528\",\"196830000300348628\",\"196830000300348728\",\"196830000300348828\",\"196830000300348928\",\"196830000300349028\",\"196830000300349128\",\"196830000300349228\",\"196830000300349328\",\"196830000300349428\",\"196830000300349528\",\"196830000300349628\",\"196830000300349728\",\"196830000300349828\",\"196830000300349928\",\"196830000300350028\",\"196830000300350128\",\"196830000300350228\",\"196830000300350328\",\"196830000300350428\",\"196830000300350528\",\"196830000300350628\",\"196830000300350728\",\"196830000300350828\",\"196830000300350928\",\"196830000300351028\",\"196830000300351128\",\"196830000300351228\",\"196830000300351328\",\"196830000300351428\",\"196830000300351528\",\"196830000300351628\",\"196830000300351728\",\"196830000300351828\",\"196830000300351928\",\"196830000300352028\",\"196830000300352128\",\"196830000300352228\",\"196830000300352328\",\"196830000300352428\",\"196830000300352528\",\"196830000300352628\",\"196830000300352728\",\"196830000300352828\",\"196830000300352928\",\"196830000300353028\",\"196830000300353128\",\"196830000300353228\",\"196830000300353328\",\"196830000300353428\",\"196830000300353528\",\"196830000300353628\",\"196830000300353728\",\"196830000300353828\",\"196830000300353928\",\"196830000300354028\",\"196830000300354128\",\"196830000300354228\",\"196830000300354328\",\"196830000300354428\",\"196830000300354528\",\"196830000300354628\",\"196830000300354728\",\"196830000300354828\",\"196830000300354928\",\"196830000300355028\",\"196830000300355128\",\"196830000300355228\",\"196830000300355328\",\"196830000300355428\",\"196830000300355528\",\"196830000300355628\",\"196830000300355728\",\"196830000300355828\",\"196830000300355928\",\"196830000300356028\",\"196830000300356128\",\"196830000300356228\",\"196830000300356328\",\"196830000300356428\",\"196830000300356528\",\"196830000300356628\",\"196830000300356728\",\"196830000300356828\",\"196830000300356928\",\"196830000300357028\",\"196830000300357128\",\"196830000300357228\",\"196830000300357328\",\"196830000300357428\",\"196830000300357528\",\"196830000300357628\",\"196830000300357728\",\"196830000300357828\",\"196830000300357928\"],\"shape\":[1537],\"dtype\":\"object\",\"order\":\"little\"}],[\"Quality_Flag\",{\"type\":\"ndarray\",\"array\":{\"type\":\"bytes\",\"data\":\"AAAAAAAAAAAAAAAAAAAAAAAAAAAAAAAAAAAAAAAAAAAAAAAAAAAAAAAAAAAAAAAAAAAAAAAAAAAAAAAAAAAAAAAAAAAAAAAAAAAAAAAAAAAAAAAAAAAAAAAAAAAAAAAAAAAAAAAAAAAAAAAAAAAAAAAAAAAAAAAAAAAAAAAAAAAAAAAAAAAAAAAAAAAAAAAAAAAAAAAAAAAAAAAAAAAAAAAAAAAAAAAAAAAAAAAAAAAAAAAAAAAAAAAAAAAAAAAAAAAAAAAAAAAAAAAAAAEAAAAAAAAAAAAAAAAAAAAAAAAAAAAAAAAAAAAAAAAAAAAAAAAAAAAAAAAAAAAAAAAAAAAAAAAAAAAAAAAAAAAAAAAAAAAAAAAAAAAAAAAAAAAAAAAAAAAAAAAAAAAAAAAAAAAAAAAAAAAAAAAAAAAAAAAAAAAAAAAAAAAAAAAAAAAAAAAAAAAAAAAAAAAAAAAAAAAAAAAAAAAAAAAAAAAAAAAAAAAAAAAAAAAAAAAAAAAAAAAAAAAAAAAAAAAAAAAAAAAAAAAAAAAAAAAAAAAAAAAAAAAAAAAAAAAAAAAAAAAAAAAAAAAAAAAAAAAAAAAAAAAAAAAAAAAAAAAAAAAAAAAAAAAAAAAAAAAAAAAAAAAAAAAAAAAAAAAAAAAAAAAAAAAAAAAAAAAAAAAAAAAAAAAAAAAAAAAAAAAAAAAAAAAAAAAAAAAAAAAAAAAAAQAAAAABAQAAAAAAAAAAAAAAAAAAAAAAAAAAAAAAAAEAAQEBAAAAAQEBAAAAAAAAAAABAAAAAAAAAAAAAAAAAAAAAAAAAAAAAAAAAAAAAAAAAAAAAAEAAQEAAQAAAAEAAQAAAAAAAAAAAAAAAAAAAAAAAAAAAAAAAAAAAAAAAAAAAAAAAAAAAAAAAAAAAAEBAAAAAAAAAAAAAAAAAQAAAQABAAABAQEBAQABAQAAAQEBAQEBAQEBAAAAAAAAAAAAAAAAAAAAAAAAAAAAAAABAQEBAQEBAQEAAAAAAAAAAAAAAAAAAAAAAAAAAAAAAAAAAAAAAAAAAAAAAAAAAAAAAAAAAAAAAAAAAAAAAAAAAAABAQABAAAAAAAAAAAAAAAAAAEBAQAAAQEBAQAAAQAAAAABAAAAAAAAAAAAAAAAAAAAAAAAAAEAAAAAAAAAAAABAQEAAQEAAAEBAQEBAQEAAQABAQEBAQABAQEBAAEAAQEBAQEBAQEBAQAAAAAAAAAAAAEBAAABAAAAAQEAAQEAAQABAAEAAAAAAQABAAABAAEAAQAAAQEBAAEBAQAAAQABAQAAAQAAAAAAAQABAAEBAAAAAAEAAAABAAEAAAAAAAAAAAAAAQAAAAAAAAEAAAAAAAEAAQAAAAABAQEAAAEAAAEBAAABAAAAAAAAAAEAAQABAQAAAAAAAAAAAQAAAQABAAAAAAAAAAEAAAAAAAAAAAAAAAAAAAAAAAAAAAEBAQABAQEBAQEBAQEBAQEBAAEBAQEBAQEBAQEBAQEBAQEBAQABAQEBAQEBAQEBAQEBAQABAQABAAEBAQABAAAAAAEAAAAAAAAAAAAAAAAAAAAAAAAAAAAAAAAAAAAAAAAAAAAAAAAAAAAAAAAAAAAAAAAAAAAAAAAAAAAAAAAAAQEBAQEBAQEAAQEAAAAAAAAAAAAAAAAAAAAAAAAAAAAAAAAAAAAAAAAAAAAAAAAAAAAAAAAAAAAAAAAAAAEBAQEBAAABAAAAAAAAAAAAAAAAAAAAAAAAAAAAAAAAAAAAAAAAAAAAAAAAAAAAAAAAAAAAAAAAAAAAAAAAAAAAAAAAAAAAAAAAAAAAAAAAAAAAAAAAAAAAAAAAAAAAAAAAAAAAAAAAAAAAAQEAAQABAQEBAAABAAAAAAAAAAAAAAAAAAAAAAAAAAAAAAABAAEBAQAAAAAAAQAAAAAAAAAAAAAAAAAAAAAAAQABAQABAQEBAQAAAAAAAAAAAAAAAAAAAAAAAAAAAAAAAAAAAAAAAAAAAAAAAAAAAAAAAAAAAAAAAAAAAAAAAAAAAAAAAAAAAAAAAAAAAAAAAA==\"},\"shape\":[1537],\"dtype\":\"uint8\",\"order\":\"little\"}]]}}},\"view\":{\"type\":\"object\",\"name\":\"CDSView\",\"id\":\"p1096\",\"attributes\":{\"filter\":{\"type\":\"object\",\"name\":\"AllIndices\",\"id\":\"p1097\"}}},\"glyph\":{\"type\":\"object\",\"name\":\"Scatter\",\"id\":\"p1092\",\"attributes\":{\"tags\":[\"apply_ranges\"],\"x\":{\"type\":\"field\",\"field\":\"Longitude\"},\"y\":{\"type\":\"field\",\"field\":\"Latitude\"},\"size\":{\"type\":\"value\",\"value\":5},\"line_color\":{\"type\":\"value\",\"value\":\"yellow\"},\"fill_color\":{\"type\":\"value\",\"value\":\"yellow\"},\"hatch_color\":{\"type\":\"value\",\"value\":\"yellow\"}}},\"selection_glyph\":{\"type\":\"object\",\"name\":\"Scatter\",\"id\":\"p1100\",\"attributes\":{\"tags\":[\"apply_ranges\"],\"x\":{\"type\":\"field\",\"field\":\"Longitude\"},\"y\":{\"type\":\"field\",\"field\":\"Latitude\"},\"size\":{\"type\":\"value\",\"value\":5},\"angle\":{\"type\":\"value\",\"value\":0.0},\"line_color\":{\"type\":\"value\",\"value\":\"yellow\"},\"line_alpha\":{\"type\":\"value\",\"value\":1.0},\"line_width\":{\"type\":\"value\",\"value\":1},\"line_join\":{\"type\":\"value\",\"value\":\"bevel\"},\"line_cap\":{\"type\":\"value\",\"value\":\"butt\"},\"line_dash\":{\"type\":\"value\",\"value\":[]},\"line_dash_offset\":{\"type\":\"value\",\"value\":0},\"fill_color\":{\"type\":\"value\",\"value\":\"yellow\"},\"fill_alpha\":{\"type\":\"value\",\"value\":1.0},\"hatch_color\":{\"type\":\"value\",\"value\":\"yellow\"},\"hatch_alpha\":{\"type\":\"value\",\"value\":1.0},\"hatch_scale\":{\"type\":\"value\",\"value\":12.0},\"hatch_pattern\":{\"type\":\"value\",\"value\":null},\"hatch_weight\":{\"type\":\"value\",\"value\":1.0},\"marker\":{\"type\":\"value\",\"value\":\"circle\"}}},\"nonselection_glyph\":{\"type\":\"object\",\"name\":\"Scatter\",\"id\":\"p1093\",\"attributes\":{\"tags\":[\"apply_ranges\"],\"x\":{\"type\":\"field\",\"field\":\"Longitude\"},\"y\":{\"type\":\"field\",\"field\":\"Latitude\"},\"size\":{\"type\":\"value\",\"value\":5},\"line_color\":{\"type\":\"value\",\"value\":\"yellow\"},\"line_alpha\":{\"type\":\"value\",\"value\":0.1},\"fill_color\":{\"type\":\"value\",\"value\":\"yellow\"},\"fill_alpha\":{\"type\":\"value\",\"value\":0.1},\"hatch_color\":{\"type\":\"value\",\"value\":\"yellow\"},\"hatch_alpha\":{\"type\":\"value\",\"value\":0.1}}},\"muted_glyph\":{\"type\":\"object\",\"name\":\"Scatter\",\"id\":\"p1094\",\"attributes\":{\"tags\":[\"apply_ranges\"],\"x\":{\"type\":\"field\",\"field\":\"Longitude\"},\"y\":{\"type\":\"field\",\"field\":\"Latitude\"},\"size\":{\"type\":\"value\",\"value\":5},\"line_color\":{\"type\":\"value\",\"value\":\"yellow\"},\"line_alpha\":{\"type\":\"value\",\"value\":0.2},\"fill_color\":{\"type\":\"value\",\"value\":\"yellow\"},\"fill_alpha\":{\"type\":\"value\",\"value\":0.2},\"hatch_color\":{\"type\":\"value\",\"value\":\"yellow\"},\"hatch_alpha\":{\"type\":\"value\",\"value\":0.2}}}}}],\"toolbar\":{\"type\":\"object\",\"name\":\"Toolbar\",\"id\":\"p1043\",\"attributes\":{\"tools\":[{\"type\":\"object\",\"name\":\"WheelZoomTool\",\"id\":\"p1024\",\"attributes\":{\"zoom_on_axis\":false}},{\"type\":\"object\",\"name\":\"BoxZoomTool\",\"id\":\"p1025\",\"attributes\":{\"overlay\":{\"type\":\"object\",\"name\":\"BoxAnnotation\",\"id\":\"p1004\",\"attributes\":{\"syncable\":false,\"level\":\"overlay\",\"visible\":false,\"left_units\":\"canvas\",\"right_units\":\"canvas\",\"bottom_units\":\"canvas\",\"top_units\":\"canvas\",\"line_color\":\"black\",\"line_alpha\":1.0,\"line_width\":2,\"line_dash\":[4,4],\"fill_color\":\"lightgrey\",\"fill_alpha\":0.5}},\"match_aspect\":true}},{\"type\":\"object\",\"name\":\"HoverTool\",\"id\":\"p1033\",\"attributes\":{\"tags\":[\"hv_created\"],\"renderers\":[{\"id\":\"p1095\"}],\"tooltips\":[[\"Longitude\",\"$x{custom}\"],[\"Latitude\",\"$y{custom}\"],[\"Beam\",\"@{Beam}\"],[\"Shot Number\",\"@{Shot_Number}\"],[\"Quality Flag\",\"@{Quality_Flag}\"]],\"formatters\":{\"type\":\"map\",\"entries\":[[\"$x\",{\"type\":\"object\",\"name\":\"CustomJSHover\",\"id\":\"p1075\",\"attributes\":{\"code\":\"\\n        const projections = Bokeh.require(\\\"core/util/projections\\\");\\n        const {snap_x, snap_y} = special_vars\\n        const coords = projections.wgs84_mercator.invert(snap_x, snap_y)\\n        return \\\"\\\" + (coords[0]).toFixed(4)\\n    \"}}],[\"$y\",{\"type\":\"object\",\"name\":\"CustomJSHover\",\"id\":\"p1076\",\"attributes\":{\"code\":\"\\n        const projections = Bokeh.require(\\\"core/util/projections\\\");\\n        const {snap_x, snap_y} = special_vars\\n        const coords = projections.wgs84_mercator.invert(snap_x, snap_y)\\n        return \\\"\\\" + (coords[1]).toFixed(4)\\n    \"}}]]}}},{\"type\":\"object\",\"name\":\"PanTool\",\"id\":\"p1057\"},{\"type\":\"object\",\"name\":\"ResetTool\",\"id\":\"p1058\"}],\"active_drag\":{\"id\":\"p1057\"}}},\"left\":[{\"type\":\"object\",\"name\":\"LinearAxis\",\"id\":\"p1051\",\"attributes\":{\"ticker\":{\"type\":\"object\",\"name\":\"MercatorTicker\",\"id\":\"p1061\",\"attributes\":{\"mantissas\":[1,2,5],\"dimension\":\"lat\"}},\"formatter\":{\"type\":\"object\",\"name\":\"MercatorTickFormatter\",\"id\":\"p1062\",\"attributes\":{\"dimension\":\"lat\"}},\"axis_label\":\"Latitude\",\"axis_label_text_font_size\":\"16pt\",\"major_label_policy\":{\"type\":\"object\",\"name\":\"AllLabels\",\"id\":\"p1054\"},\"major_label_text_font_size\":\"10pt\"}}],\"below\":[{\"type\":\"object\",\"name\":\"LinearAxis\",\"id\":\"p1046\",\"attributes\":{\"ticker\":{\"type\":\"object\",\"name\":\"MercatorTicker\",\"id\":\"p1059\",\"attributes\":{\"mantissas\":[1,2,5],\"dimension\":\"lon\"}},\"formatter\":{\"type\":\"object\",\"name\":\"MercatorTickFormatter\",\"id\":\"p1060\",\"attributes\":{\"dimension\":\"lon\"}},\"axis_label\":\"Longitude\",\"axis_label_text_font_size\":\"16pt\",\"major_label_policy\":{\"type\":\"object\",\"name\":\"AllLabels\",\"id\":\"p1049\"},\"major_label_text_font_size\":\"10pt\"}}],\"center\":[{\"type\":\"object\",\"name\":\"Grid\",\"id\":\"p1050\",\"attributes\":{\"axis\":{\"id\":\"p1046\"},\"grid_line_color\":null}},{\"type\":\"object\",\"name\":\"Grid\",\"id\":\"p1055\",\"attributes\":{\"dimension\":1,\"axis\":{\"id\":\"p1051\"},\"grid_line_color\":null}}],\"min_border_top\":10,\"min_border_bottom\":10,\"min_border_left\":10,\"min_border_right\":10,\"output_backend\":\"webgl\"}},{\"type\":\"object\",\"name\":\"Spacer\",\"id\":\"p1102\",\"attributes\":{\"name\":\"HSpacer02819\",\"stylesheets\":[\"\\n:host(.pn-loading.pn-arc):before, .pn-loading.pn-arc:before {\\n  background-image: url(\\\"data:image/svg+xml;base64,PHN2ZyB4bWxucz0iaHR0cDovL3d3dy53My5vcmcvMjAwMC9zdmciIHN0eWxlPSJtYXJnaW46IGF1dG87IGJhY2tncm91bmQ6IG5vbmU7IGRpc3BsYXk6IGJsb2NrOyBzaGFwZS1yZW5kZXJpbmc6IGF1dG87IiB2aWV3Qm94PSIwIDAgMTAwIDEwMCIgcHJlc2VydmVBc3BlY3RSYXRpbz0ieE1pZFlNaWQiPiAgPGNpcmNsZSBjeD0iNTAiIGN5PSI1MCIgZmlsbD0ibm9uZSIgc3Ryb2tlPSIjYzNjM2MzIiBzdHJva2Utd2lkdGg9IjEwIiByPSIzNSIgc3Ryb2tlLWRhc2hhcnJheT0iMTY0LjkzMzYxNDMxMzQ2NDE1IDU2Ljk3Nzg3MTQzNzgyMTM4Ij4gICAgPGFuaW1hdGVUcmFuc2Zvcm0gYXR0cmlidXRlTmFtZT0idHJhbnNmb3JtIiB0eXBlPSJyb3RhdGUiIHJlcGVhdENvdW50PSJpbmRlZmluaXRlIiBkdXI9IjFzIiB2YWx1ZXM9IjAgNTAgNTA7MzYwIDUwIDUwIiBrZXlUaW1lcz0iMDsxIj48L2FuaW1hdGVUcmFuc2Zvcm0+ICA8L2NpcmNsZT48L3N2Zz4=\\\");\\n  background-size: auto calc(min(50%, 400px));\\n}\",{\"id\":\"p1008\"},{\"id\":\"p1006\"},{\"id\":\"p1007\"}],\"margin\":0,\"sizing_mode\":\"stretch_width\",\"align\":\"start\"}}]}}],\"defs\":[{\"type\":\"model\",\"name\":\"ReactiveHTML1\"},{\"type\":\"model\",\"name\":\"FlexBox1\",\"properties\":[{\"name\":\"align_content\",\"kind\":\"Any\",\"default\":\"flex-start\"},{\"name\":\"align_items\",\"kind\":\"Any\",\"default\":\"flex-start\"},{\"name\":\"flex_direction\",\"kind\":\"Any\",\"default\":\"row\"},{\"name\":\"flex_wrap\",\"kind\":\"Any\",\"default\":\"wrap\"},{\"name\":\"justify_content\",\"kind\":\"Any\",\"default\":\"flex-start\"}]},{\"type\":\"model\",\"name\":\"FloatPanel1\",\"properties\":[{\"name\":\"config\",\"kind\":\"Any\",\"default\":{\"type\":\"map\"}},{\"name\":\"contained\",\"kind\":\"Any\",\"default\":true},{\"name\":\"position\",\"kind\":\"Any\",\"default\":\"right-top\"},{\"name\":\"offsetx\",\"kind\":\"Any\",\"default\":null},{\"name\":\"offsety\",\"kind\":\"Any\",\"default\":null},{\"name\":\"theme\",\"kind\":\"Any\",\"default\":\"primary\"},{\"name\":\"status\",\"kind\":\"Any\",\"default\":\"normalized\"}]},{\"type\":\"model\",\"name\":\"GridStack1\",\"properties\":[{\"name\":\"mode\",\"kind\":\"Any\",\"default\":\"warn\"},{\"name\":\"ncols\",\"kind\":\"Any\",\"default\":null},{\"name\":\"nrows\",\"kind\":\"Any\",\"default\":null},{\"name\":\"allow_resize\",\"kind\":\"Any\",\"default\":true},{\"name\":\"allow_drag\",\"kind\":\"Any\",\"default\":true},{\"name\":\"state\",\"kind\":\"Any\",\"default\":[]}]},{\"type\":\"model\",\"name\":\"drag1\",\"properties\":[{\"name\":\"slider_width\",\"kind\":\"Any\",\"default\":5},{\"name\":\"slider_color\",\"kind\":\"Any\",\"default\":\"black\"},{\"name\":\"value\",\"kind\":\"Any\",\"default\":50}]},{\"type\":\"model\",\"name\":\"click1\",\"properties\":[{\"name\":\"terminal_output\",\"kind\":\"Any\",\"default\":\"\"},{\"name\":\"debug_name\",\"kind\":\"Any\",\"default\":\"\"},{\"name\":\"clears\",\"kind\":\"Any\",\"default\":0}]},{\"type\":\"model\",\"name\":\"FastWrapper1\",\"properties\":[{\"name\":\"object\",\"kind\":\"Any\",\"default\":null},{\"name\":\"style\",\"kind\":\"Any\",\"default\":null}]},{\"type\":\"model\",\"name\":\"NotificationAreaBase1\",\"properties\":[{\"name\":\"js_events\",\"kind\":\"Any\",\"default\":{\"type\":\"map\"}},{\"name\":\"position\",\"kind\":\"Any\",\"default\":\"bottom-right\"},{\"name\":\"_clear\",\"kind\":\"Any\",\"default\":0}]},{\"type\":\"model\",\"name\":\"NotificationArea1\",\"properties\":[{\"name\":\"js_events\",\"kind\":\"Any\",\"default\":{\"type\":\"map\"}},{\"name\":\"notifications\",\"kind\":\"Any\",\"default\":[]},{\"name\":\"position\",\"kind\":\"Any\",\"default\":\"bottom-right\"},{\"name\":\"_clear\",\"kind\":\"Any\",\"default\":0},{\"name\":\"types\",\"kind\":\"Any\",\"default\":[{\"type\":\"map\",\"entries\":[[\"type\",\"warning\"],[\"background\",\"#ffc107\"],[\"icon\",{\"type\":\"map\",\"entries\":[[\"className\",\"fas fa-exclamation-triangle\"],[\"tagName\",\"i\"],[\"color\",\"white\"]]}]]},{\"type\":\"map\",\"entries\":[[\"type\",\"info\"],[\"background\",\"#007bff\"],[\"icon\",{\"type\":\"map\",\"entries\":[[\"className\",\"fas fa-info-circle\"],[\"tagName\",\"i\"],[\"color\",\"white\"]]}]]}]}]},{\"type\":\"model\",\"name\":\"Notification\",\"properties\":[{\"name\":\"background\",\"kind\":\"Any\",\"default\":null},{\"name\":\"duration\",\"kind\":\"Any\",\"default\":3000},{\"name\":\"icon\",\"kind\":\"Any\",\"default\":null},{\"name\":\"message\",\"kind\":\"Any\",\"default\":\"\"},{\"name\":\"notification_type\",\"kind\":\"Any\",\"default\":null},{\"name\":\"_destroyed\",\"kind\":\"Any\",\"default\":false}]},{\"type\":\"model\",\"name\":\"TemplateActions1\",\"properties\":[{\"name\":\"open_modal\",\"kind\":\"Any\",\"default\":0},{\"name\":\"close_modal\",\"kind\":\"Any\",\"default\":0}]},{\"type\":\"model\",\"name\":\"BootstrapTemplateActions1\",\"properties\":[{\"name\":\"open_modal\",\"kind\":\"Any\",\"default\":0},{\"name\":\"close_modal\",\"kind\":\"Any\",\"default\":0}]},{\"type\":\"model\",\"name\":\"MaterialTemplateActions1\",\"properties\":[{\"name\":\"open_modal\",\"kind\":\"Any\",\"default\":0},{\"name\":\"close_modal\",\"kind\":\"Any\",\"default\":0}]}]}};\n",
       "  var render_items = [{\"docid\":\"40c07354-f5ac-42b6-8dba-913fe71f11f5\",\"roots\":{\"p1005\":\"a523fa5f-37b6-44c7-a159-4a39d9d92c9a\"},\"root_ids\":[\"p1005\"]}];\n",
       "  var docs = Object.values(docs_json)\n",
       "  if (!docs) {\n",
       "    return\n",
       "  }\n",
       "  const py_version = docs[0].version.replace('rc', '-rc.').replace('.dev', '-dev.')\n",
       "  const is_dev = py_version.indexOf(\"+\") !== -1 || py_version.indexOf(\"-\") !== -1\n",
       "  function embed_document(root) {\n",
       "    var Bokeh = get_bokeh(root)\n",
       "    Bokeh.embed.embed_items_notebook(docs_json, render_items);\n",
       "    for (const render_item of render_items) {\n",
       "      for (const root_id of render_item.root_ids) {\n",
       "\tconst id_el = document.getElementById(root_id)\n",
       "\tif (id_el.children.length && (id_el.children[0].className === 'bk-root')) {\n",
       "\t  const root_el = id_el.children[0]\n",
       "\t  root_el.id = root_el.id + '-rendered'\n",
       "\t}\n",
       "      }\n",
       "    }\n",
       "  }\n",
       "  function get_bokeh(root) {\n",
       "    if (root.Bokeh === undefined) {\n",
       "      return null\n",
       "    } else if (root.Bokeh.version !== py_version && !is_dev) {\n",
       "      if (root.Bokeh.versions === undefined || !root.Bokeh.versions.has(py_version)) {\n",
       "\treturn null\n",
       "      }\n",
       "      return root.Bokeh.versions.get(py_version);\n",
       "    } else if (root.Bokeh.version === py_version) {\n",
       "      return root.Bokeh\n",
       "    }\n",
       "    return null\n",
       "  }\n",
       "  function is_loaded(root) {\n",
       "    var Bokeh = get_bokeh(root)\n",
       "    return (Bokeh != null && Bokeh.Panel !== undefined)\n",
       "  }\n",
       "  if (is_loaded(root)) {\n",
       "    embed_document(root);\n",
       "  } else {\n",
       "    var attempts = 0;\n",
       "    var timer = setInterval(function(root) {\n",
       "      if (is_loaded(root)) {\n",
       "        clearInterval(timer);\n",
       "        embed_document(root);\n",
       "      } else if (document.readyState == \"complete\") {\n",
       "        attempts++;\n",
       "        if (attempts > 200) {\n",
       "          clearInterval(timer);\n",
       "\t  var Bokeh = get_bokeh(root)\n",
       "\t  if (Bokeh == null || Bokeh.Panel == null) {\n",
       "            console.warn(\"Panel: ERROR: Unable to run Panel code because Bokeh or Panel library is missing\");\n",
       "\t  } else {\n",
       "\t    console.warn(\"Panel: WARNING: Attempting to render but not all required libraries could be resolved.\")\n",
       "\t    embed_document(root)\n",
       "\t  }\n",
       "        }\n",
       "      }\n",
       "    }, 25, root)\n",
       "  }\n",
       "})(window);</script>"
      ],
      "text/plain": [
       ":Overlay\n",
       "   .Polygons.I :Polygons   [Longitude,Latitude]\n",
       "   .WMTS.I     :WMTS   [Longitude,Latitude]\n",
       "   .Points.I   :Points   [Longitude,Latitude]   (Beam,Shot Number,Quality Flag)"
      ]
     },
     "execution_count": 24,
     "metadata": {
      "application/vnd.holoviews_exec.v0+json": {
       "id": "p1005"
      }
     },
     "output_type": "execute_result"
    }
   ],
   "source": [
    "# Call the function for plotting the GEDI points\n",
    "gv.Polygons(calakmul['geometry']).opts(line_color='red', color=None) * pointVisual(latslons, vdims = vdims)"
   ]
  },
  {
   "cell_type": "markdown",
   "metadata": {},
   "source": [
    "#### Each GEDI shot has a unique shot identifier (shot number) that is available within each data group of the product. The shot number is important to retain in any data subsetting as it will allow the user to link any shot record back to the original orbit data, and to link any shot and its data between the L1 and L2 products. The standard format  for GEDI Shots is as follows:"
   ]
  },
  {
   "cell_type": "markdown",
   "metadata": {},
   "source": [
    "\n",
    "# 5. Work with GEDI L2B Data <a id=\"L2B\"></a>\n",
    "#### The L2B product contains biophysical information derived from the geolocated GEDI return waveforms including total and vertical profiles of canopy cover and Plant Area Index (PAI), the vertical Plant Area Volume Density (PAVD) profile, and Foliage Height Diversity (FHD).\n",
    "#### Detailed product information can be found on the [GEDI L2B Product Page](https://doi.org/10.5067/GEDI/GEDI02_B.002).\n",
    "\n",
    "#### Below, only data for one shot is extracted. "
   ]
  },
  {
   "cell_type": "code",
   "execution_count": 26,
   "metadata": {
    "tags": []
   },
   "outputs": [
    {
     "data": {
      "text/plain": [
       "'BEAM0101'"
      ]
     },
     "execution_count": 26,
     "metadata": {},
     "output_type": "execute_result"
    }
   ],
   "source": [
    "beamNames[4]"
   ]
  },
  {
   "cell_type": "code",
   "execution_count": 27,
   "metadata": {
    "tags": []
   },
   "outputs": [
    {
     "data": {
      "text/plain": [
       "197"
      ]
     },
     "execution_count": 27,
     "metadata": {},
     "output_type": "execute_result"
    }
   ],
   "source": [
    "beamSDS = [g for g in gediSDS if beamNames[4] in g]  # Subset to a single beam\n",
    "len(beamSDS)"
   ]
  },
  {
   "cell_type": "markdown",
   "metadata": {},
   "source": [
    "#### In the GEDI L2B product, Canopy Height is stored in units (cm), so below convert to meters."
   ]
  },
  {
   "cell_type": "code",
   "execution_count": 29,
   "metadata": {
    "tags": []
   },
   "outputs": [],
   "source": [
    "canopyHeight = canopyHeight / 100  # Convert RH100 from cm to m "
   ]
  },
  {
   "cell_type": "markdown",
   "metadata": {
    "tags": []
   },
   "source": [
    "#### Below, notice the reformatted PAVD layer, which should now fit into the dataframe created below."
   ]
  },
  {
   "cell_type": "code",
   "execution_count": 33,
   "metadata": {
    "tags": []
   },
   "outputs": [
    {
     "ename": "ValueError",
     "evalue": "All arrays must be of the same length",
     "output_type": "error",
     "traceback": [
      "\u001b[0;31m---------------------------------------------------------------------------\u001b[0m",
      "\u001b[0;31mValueError\u001b[0m                                Traceback (most recent call last)",
      "Cell \u001b[0;32mIn[33], line 2\u001b[0m\n\u001b[1;32m      1\u001b[0m \u001b[38;5;66;03m# Take the DEM, GEDI-produced Elevation, and Canopy height and add to a Pandas dataframe\u001b[39;00m\n\u001b[0;32m----> 2\u001b[0m transectDF \u001b[38;5;241m=\u001b[39m \u001b[43mpd\u001b[49m\u001b[38;5;241;43m.\u001b[39;49m\u001b[43mDataFrame\u001b[49m\u001b[43m(\u001b[49m\u001b[43m{\u001b[49m\n\u001b[1;32m      3\u001b[0m \u001b[43m    \u001b[49m\u001b[38;5;124;43m'\u001b[39;49m\u001b[38;5;124;43mShot Index\u001b[39;49m\u001b[38;5;124;43m'\u001b[39;49m\u001b[43m:\u001b[49m\u001b[43m \u001b[49m\u001b[43mshotIndex\u001b[49m\u001b[43m,\u001b[49m\n\u001b[1;32m      4\u001b[0m \u001b[43m    \u001b[49m\u001b[38;5;124;43m'\u001b[39;49m\u001b[38;5;124;43mShot Number\u001b[39;49m\u001b[38;5;124;43m'\u001b[39;49m\u001b[43m:\u001b[49m\u001b[43m \u001b[49m\u001b[43mshotNums\u001b[49m\u001b[43m,\u001b[49m\n\u001b[1;32m      5\u001b[0m \u001b[43m    \u001b[49m\u001b[38;5;124;43m'\u001b[39;49m\u001b[38;5;124;43mLatitude\u001b[39;49m\u001b[38;5;124;43m'\u001b[39;49m\u001b[43m:\u001b[49m\u001b[43m \u001b[49m\u001b[43mzLat\u001b[49m\u001b[43m,\u001b[49m\n\u001b[1;32m      6\u001b[0m \u001b[43m    \u001b[49m\u001b[38;5;124;43m'\u001b[39;49m\u001b[38;5;124;43mLongitude\u001b[39;49m\u001b[38;5;124;43m'\u001b[39;49m\u001b[43m:\u001b[49m\u001b[43m \u001b[49m\u001b[43mzLon\u001b[49m\u001b[43m,\u001b[49m\n\u001b[1;32m      7\u001b[0m \u001b[43m    \u001b[49m\u001b[38;5;124;43m'\u001b[39;49m\u001b[38;5;124;43mTandem-X DEM\u001b[39;49m\u001b[38;5;124;43m'\u001b[39;49m\u001b[43m:\u001b[49m\u001b[43m \u001b[49m\u001b[43mdem\u001b[49m\u001b[43m,\u001b[49m\n\u001b[1;32m      8\u001b[0m \u001b[43m    \u001b[49m\u001b[38;5;124;43m'\u001b[39;49m\u001b[38;5;124;43mElevation (m)\u001b[39;49m\u001b[38;5;124;43m'\u001b[39;49m\u001b[43m:\u001b[49m\u001b[43m \u001b[49m\u001b[43mzElevation\u001b[49m\u001b[43m,\u001b[49m\n\u001b[1;32m      9\u001b[0m \u001b[43m    \u001b[49m\u001b[38;5;124;43m'\u001b[39;49m\u001b[38;5;124;43mCanopy Elevation (m)\u001b[39;49m\u001b[38;5;124;43m'\u001b[39;49m\u001b[43m:\u001b[49m\u001b[43m \u001b[49m\u001b[43mzHigh\u001b[49m\u001b[43m,\u001b[49m\n\u001b[1;32m     10\u001b[0m \u001b[43m    \u001b[49m\u001b[38;5;124;43m'\u001b[39;49m\u001b[38;5;124;43mCanopy Height (rh100)\u001b[39;49m\u001b[38;5;124;43m'\u001b[39;49m\u001b[43m:\u001b[49m\u001b[43m \u001b[49m\u001b[43mcanopyHeight\u001b[49m\u001b[43m,\u001b[49m\n\u001b[1;32m     11\u001b[0m \u001b[43m    \u001b[49m\u001b[38;5;124;43m'\u001b[39;49m\u001b[38;5;124;43mQuality Flag\u001b[39;49m\u001b[38;5;124;43m'\u001b[39;49m\u001b[43m:\u001b[49m\u001b[43m \u001b[49m\u001b[43mquality\u001b[49m\u001b[43m,\u001b[49m\n\u001b[1;32m     12\u001b[0m \u001b[43m    \u001b[49m\u001b[38;5;124;43m'\u001b[39;49m\u001b[38;5;124;43mDegrade Flag\u001b[39;49m\u001b[38;5;124;43m'\u001b[39;49m\u001b[43m:\u001b[49m\u001b[43m \u001b[49m\u001b[43mdegrade\u001b[49m\u001b[43m,\u001b[49m\u001b[43m \u001b[49m\n\u001b[1;32m     13\u001b[0m \u001b[43m    \u001b[49m\u001b[38;5;124;43m'\u001b[39;49m\u001b[38;5;124;43mSensitivity\u001b[39;49m\u001b[38;5;124;43m'\u001b[39;49m\u001b[43m:\u001b[49m\u001b[43m \u001b[49m\u001b[43msensitivity\u001b[49m\u001b[43m,\u001b[49m\n\u001b[1;32m     14\u001b[0m \u001b[43m    \u001b[49m\u001b[38;5;124;43m'\u001b[39;49m\u001b[38;5;124;43mSelected L2A Algorithm\u001b[39;49m\u001b[38;5;124;43m'\u001b[39;49m\u001b[43m:\u001b[49m\u001b[43m \u001b[49m\u001b[43mselectedAlgorithmL2A\u001b[49m\n\u001b[1;32m     15\u001b[0m \u001b[43m    \u001b[49m\u001b[43m}\u001b[49m\u001b[43m)\u001b[49m\n",
      "File \u001b[0;32m/srv/conda/envs/notebook/lib/python3.10/site-packages/pandas/core/frame.py:662\u001b[0m, in \u001b[0;36mDataFrame.__init__\u001b[0;34m(self, data, index, columns, dtype, copy)\u001b[0m\n\u001b[1;32m    656\u001b[0m     mgr \u001b[38;5;241m=\u001b[39m \u001b[38;5;28mself\u001b[39m\u001b[38;5;241m.\u001b[39m_init_mgr(\n\u001b[1;32m    657\u001b[0m         data, axes\u001b[38;5;241m=\u001b[39m{\u001b[38;5;124m\"\u001b[39m\u001b[38;5;124mindex\u001b[39m\u001b[38;5;124m\"\u001b[39m: index, \u001b[38;5;124m\"\u001b[39m\u001b[38;5;124mcolumns\u001b[39m\u001b[38;5;124m\"\u001b[39m: columns}, dtype\u001b[38;5;241m=\u001b[39mdtype, copy\u001b[38;5;241m=\u001b[39mcopy\n\u001b[1;32m    658\u001b[0m     )\n\u001b[1;32m    660\u001b[0m \u001b[38;5;28;01melif\u001b[39;00m \u001b[38;5;28misinstance\u001b[39m(data, \u001b[38;5;28mdict\u001b[39m):\n\u001b[1;32m    661\u001b[0m     \u001b[38;5;66;03m# GH#38939 de facto copy defaults to False only in non-dict cases\u001b[39;00m\n\u001b[0;32m--> 662\u001b[0m     mgr \u001b[38;5;241m=\u001b[39m \u001b[43mdict_to_mgr\u001b[49m\u001b[43m(\u001b[49m\u001b[43mdata\u001b[49m\u001b[43m,\u001b[49m\u001b[43m \u001b[49m\u001b[43mindex\u001b[49m\u001b[43m,\u001b[49m\u001b[43m \u001b[49m\u001b[43mcolumns\u001b[49m\u001b[43m,\u001b[49m\u001b[43m \u001b[49m\u001b[43mdtype\u001b[49m\u001b[38;5;241;43m=\u001b[39;49m\u001b[43mdtype\u001b[49m\u001b[43m,\u001b[49m\u001b[43m \u001b[49m\u001b[43mcopy\u001b[49m\u001b[38;5;241;43m=\u001b[39;49m\u001b[43mcopy\u001b[49m\u001b[43m,\u001b[49m\u001b[43m \u001b[49m\u001b[43mtyp\u001b[49m\u001b[38;5;241;43m=\u001b[39;49m\u001b[43mmanager\u001b[49m\u001b[43m)\u001b[49m\n\u001b[1;32m    663\u001b[0m \u001b[38;5;28;01melif\u001b[39;00m \u001b[38;5;28misinstance\u001b[39m(data, ma\u001b[38;5;241m.\u001b[39mMaskedArray):\n\u001b[1;32m    664\u001b[0m     \u001b[38;5;28;01mimport\u001b[39;00m \u001b[38;5;21;01mnumpy\u001b[39;00m\u001b[38;5;21;01m.\u001b[39;00m\u001b[38;5;21;01mma\u001b[39;00m\u001b[38;5;21;01m.\u001b[39;00m\u001b[38;5;21;01mmrecords\u001b[39;00m \u001b[38;5;28;01mas\u001b[39;00m \u001b[38;5;21;01mmrecords\u001b[39;00m\n",
      "File \u001b[0;32m/srv/conda/envs/notebook/lib/python3.10/site-packages/pandas/core/internals/construction.py:493\u001b[0m, in \u001b[0;36mdict_to_mgr\u001b[0;34m(data, index, columns, dtype, typ, copy)\u001b[0m\n\u001b[1;32m    489\u001b[0m     \u001b[38;5;28;01melse\u001b[39;00m:\n\u001b[1;32m    490\u001b[0m         \u001b[38;5;66;03m# dtype check to exclude e.g. range objects, scalars\u001b[39;00m\n\u001b[1;32m    491\u001b[0m         arrays \u001b[38;5;241m=\u001b[39m [x\u001b[38;5;241m.\u001b[39mcopy() \u001b[38;5;28;01mif\u001b[39;00m \u001b[38;5;28mhasattr\u001b[39m(x, \u001b[38;5;124m\"\u001b[39m\u001b[38;5;124mdtype\u001b[39m\u001b[38;5;124m\"\u001b[39m) \u001b[38;5;28;01melse\u001b[39;00m x \u001b[38;5;28;01mfor\u001b[39;00m x \u001b[38;5;129;01min\u001b[39;00m arrays]\n\u001b[0;32m--> 493\u001b[0m \u001b[38;5;28;01mreturn\u001b[39;00m \u001b[43marrays_to_mgr\u001b[49m\u001b[43m(\u001b[49m\u001b[43marrays\u001b[49m\u001b[43m,\u001b[49m\u001b[43m \u001b[49m\u001b[43mcolumns\u001b[49m\u001b[43m,\u001b[49m\u001b[43m \u001b[49m\u001b[43mindex\u001b[49m\u001b[43m,\u001b[49m\u001b[43m \u001b[49m\u001b[43mdtype\u001b[49m\u001b[38;5;241;43m=\u001b[39;49m\u001b[43mdtype\u001b[49m\u001b[43m,\u001b[49m\u001b[43m \u001b[49m\u001b[43mtyp\u001b[49m\u001b[38;5;241;43m=\u001b[39;49m\u001b[43mtyp\u001b[49m\u001b[43m,\u001b[49m\u001b[43m \u001b[49m\u001b[43mconsolidate\u001b[49m\u001b[38;5;241;43m=\u001b[39;49m\u001b[43mcopy\u001b[49m\u001b[43m)\u001b[49m\n",
      "File \u001b[0;32m/srv/conda/envs/notebook/lib/python3.10/site-packages/pandas/core/internals/construction.py:118\u001b[0m, in \u001b[0;36marrays_to_mgr\u001b[0;34m(arrays, columns, index, dtype, verify_integrity, typ, consolidate)\u001b[0m\n\u001b[1;32m    115\u001b[0m \u001b[38;5;28;01mif\u001b[39;00m verify_integrity:\n\u001b[1;32m    116\u001b[0m     \u001b[38;5;66;03m# figure out the index, if necessary\u001b[39;00m\n\u001b[1;32m    117\u001b[0m     \u001b[38;5;28;01mif\u001b[39;00m index \u001b[38;5;129;01mis\u001b[39;00m \u001b[38;5;28;01mNone\u001b[39;00m:\n\u001b[0;32m--> 118\u001b[0m         index \u001b[38;5;241m=\u001b[39m \u001b[43m_extract_index\u001b[49m\u001b[43m(\u001b[49m\u001b[43marrays\u001b[49m\u001b[43m)\u001b[49m\n\u001b[1;32m    119\u001b[0m     \u001b[38;5;28;01melse\u001b[39;00m:\n\u001b[1;32m    120\u001b[0m         index \u001b[38;5;241m=\u001b[39m ensure_index(index)\n",
      "File \u001b[0;32m/srv/conda/envs/notebook/lib/python3.10/site-packages/pandas/core/internals/construction.py:666\u001b[0m, in \u001b[0;36m_extract_index\u001b[0;34m(data)\u001b[0m\n\u001b[1;32m    664\u001b[0m lengths \u001b[38;5;241m=\u001b[39m \u001b[38;5;28mlist\u001b[39m(\u001b[38;5;28mset\u001b[39m(raw_lengths))\n\u001b[1;32m    665\u001b[0m \u001b[38;5;28;01mif\u001b[39;00m \u001b[38;5;28mlen\u001b[39m(lengths) \u001b[38;5;241m>\u001b[39m \u001b[38;5;241m1\u001b[39m:\n\u001b[0;32m--> 666\u001b[0m     \u001b[38;5;28;01mraise\u001b[39;00m \u001b[38;5;167;01mValueError\u001b[39;00m(\u001b[38;5;124m\"\u001b[39m\u001b[38;5;124mAll arrays must be of the same length\u001b[39m\u001b[38;5;124m\"\u001b[39m)\n\u001b[1;32m    668\u001b[0m \u001b[38;5;28;01mif\u001b[39;00m have_dicts:\n\u001b[1;32m    669\u001b[0m     \u001b[38;5;28;01mraise\u001b[39;00m \u001b[38;5;167;01mValueError\u001b[39;00m(\n\u001b[1;32m    670\u001b[0m         \u001b[38;5;124m\"\u001b[39m\u001b[38;5;124mMixing dicts with non-Series may lead to ambiguous ordering.\u001b[39m\u001b[38;5;124m\"\u001b[39m\n\u001b[1;32m    671\u001b[0m     )\n",
      "\u001b[0;31mValueError\u001b[0m: All arrays must be of the same length"
     ]
    }
   ],
   "source": [
    "# Take the DEM, GEDI-produced Elevation, and Canopy height and add to a Pandas dataframe\n",
    "transectDF = pd.DataFrame({\n",
    "    'Shot Index': shotIndex,\n",
    "    'Shot Number': shotNums,\n",
    "    'Latitude': zLat,\n",
    "    'Longitude': zLon,\n",
    "    'Tandem-X DEM': dem,\n",
    "    'Elevation (m)': zElevation,\n",
    "    'Canopy Elevation (m)': zHigh,\n",
    "    'Canopy Height (rh100)': canopyHeight,\n",
    "    'Quality Flag': quality,\n",
    "    'Degrade Flag': degrade, \n",
    "    'Sensitivity': sensitivity,\n",
    "    'Selected L2A Algorithm': selectedAlgorithmL2A\n",
    "    })"
   ]
  },
  {
   "cell_type": "code",
   "execution_count": null,
   "metadata": {
    "tags": []
   },
   "outputs": [],
   "source": [
    "transectDF"
   ]
  },
  {
   "cell_type": "code",
   "execution_count": null,
   "metadata": {},
   "outputs": [],
   "source": []
  }
 ],
 "metadata": {
  "kernelspec": {
   "display_name": "Python 3 (ipykernel)",
   "language": "python",
   "name": "python3"
  },
  "language_info": {
   "codemirror_mode": {
    "name": "ipython",
    "version": 3
   },
   "file_extension": ".py",
   "mimetype": "text/x-python",
   "name": "python",
   "nbconvert_exporter": "python",
   "pygments_lexer": "ipython3",
   "version": "3.10.12"
  },
  "vscode": {
   "interpreter": {
    "hash": "773e8920b96b69f0038fc25099aed93d84078ac31d8a66ff407e7034dd86aa0a"
   }
  }
 },
 "nbformat": 4,
 "nbformat_minor": 4
}
